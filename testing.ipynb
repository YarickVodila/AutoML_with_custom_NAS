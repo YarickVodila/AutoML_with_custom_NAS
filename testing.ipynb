{
 "cells": [
  {
   "cell_type": "code",
   "execution_count": 30,
   "metadata": {},
   "outputs": [],
   "source": [
    "import numpy as np\n",
    "import pandas as pd\n",
    "import tensorflow as tf # ==2.10\n",
    "from sklearn.utils import shuffle\n",
    "from tensorflow import keras\n",
    "from tensorflow.keras.models import Sequential\n",
    "from tensorflow.keras.layers import Dense, Dropout, BatchNormalization, Normalization\n",
    "from tensorflow.keras.optimizers import Adam\n",
    "import matplotlib.pyplot as plt\n",
    "from sklearn.model_selection import train_test_split\n",
    "import autokeras as ak\n",
    "from imblearn.over_sampling import SMOTE\n",
    "import optuna\n",
    "from optuna.samplers import TPESampler\n",
    "from IPython.display import clear_output\n",
    "# pip freeze > requirements.txt"
   ]
  },
  {
   "attachments": {},
   "cell_type": "markdown",
   "metadata": {},
   "source": [
    "Pclass — класс пассажира (1 — высший, 2 — средний, 3 — низший);\n",
    "\n",
    "Name — имя;\n",
    "\n",
    "Sex — пол;\n",
    "\n",
    "Age — возраст;\n",
    "\n",
    "SibSp — количество братьев, сестер, сводных братьев, сводных сестер, супругов на борту титаника;\n",
    "\n",
    "Parch — количество родителей, детей (в том числе приемных) на борту титаника;\n",
    "\n",
    "Ticket — номер билета;\n",
    "\n",
    "Fare — плата за проезд;\n",
    "\n",
    "Cabin — каюта;\n",
    "\n",
    "Embarked — порт посадки (C — Шербур; Q — Квинстаун; S — Саутгемптон)."
   ]
  },
  {
   "cell_type": "code",
   "execution_count": 2,
   "metadata": {},
   "outputs": [
    {
     "name": "stdout",
     "output_type": "stream",
     "text": [
      "<class 'pandas.core.frame.DataFrame'>\n",
      "RangeIndex: 891 entries, 0 to 890\n",
      "Data columns (total 12 columns):\n",
      " #   Column       Non-Null Count  Dtype  \n",
      "---  ------       --------------  -----  \n",
      " 0   PassengerId  891 non-null    int64  \n",
      " 1   Survived     891 non-null    int64  \n",
      " 2   Pclass       891 non-null    int64  \n",
      " 3   Name         891 non-null    object \n",
      " 4   Sex          891 non-null    object \n",
      " 5   Age          714 non-null    float64\n",
      " 6   SibSp        891 non-null    int64  \n",
      " 7   Parch        891 non-null    int64  \n",
      " 8   Ticket       891 non-null    object \n",
      " 9   Fare         891 non-null    float64\n",
      " 10  Cabin        204 non-null    object \n",
      " 11  Embarked     889 non-null    object \n",
      "dtypes: float64(2), int64(5), object(5)\n",
      "memory usage: 83.7+ KB\n"
     ]
    }
   ],
   "source": [
    "data = pd.read_csv('dataset/titanic/train.csv')\n",
    "data.info()"
   ]
  },
  {
   "cell_type": "code",
   "execution_count": 3,
   "metadata": {},
   "outputs": [
    {
     "data": {
      "text/html": [
       "<div>\n",
       "<style scoped>\n",
       "    .dataframe tbody tr th:only-of-type {\n",
       "        vertical-align: middle;\n",
       "    }\n",
       "\n",
       "    .dataframe tbody tr th {\n",
       "        vertical-align: top;\n",
       "    }\n",
       "\n",
       "    .dataframe thead th {\n",
       "        text-align: right;\n",
       "    }\n",
       "</style>\n",
       "<table border=\"1\" class=\"dataframe\">\n",
       "  <thead>\n",
       "    <tr style=\"text-align: right;\">\n",
       "      <th></th>\n",
       "      <th>PassengerId</th>\n",
       "      <th>Survived</th>\n",
       "      <th>Pclass</th>\n",
       "      <th>Name</th>\n",
       "      <th>Sex</th>\n",
       "      <th>Age</th>\n",
       "      <th>SibSp</th>\n",
       "      <th>Parch</th>\n",
       "      <th>Ticket</th>\n",
       "      <th>Fare</th>\n",
       "      <th>Cabin</th>\n",
       "      <th>Embarked</th>\n",
       "    </tr>\n",
       "  </thead>\n",
       "  <tbody>\n",
       "    <tr>\n",
       "      <th>0</th>\n",
       "      <td>1</td>\n",
       "      <td>0</td>\n",
       "      <td>3</td>\n",
       "      <td>Braund, Mr. Owen Harris</td>\n",
       "      <td>male</td>\n",
       "      <td>22.0</td>\n",
       "      <td>1</td>\n",
       "      <td>0</td>\n",
       "      <td>A/5 21171</td>\n",
       "      <td>7.2500</td>\n",
       "      <td>NaN</td>\n",
       "      <td>S</td>\n",
       "    </tr>\n",
       "    <tr>\n",
       "      <th>1</th>\n",
       "      <td>2</td>\n",
       "      <td>1</td>\n",
       "      <td>1</td>\n",
       "      <td>Cumings, Mrs. John Bradley (Florence Briggs Th...</td>\n",
       "      <td>female</td>\n",
       "      <td>38.0</td>\n",
       "      <td>1</td>\n",
       "      <td>0</td>\n",
       "      <td>PC 17599</td>\n",
       "      <td>71.2833</td>\n",
       "      <td>C85</td>\n",
       "      <td>C</td>\n",
       "    </tr>\n",
       "    <tr>\n",
       "      <th>2</th>\n",
       "      <td>3</td>\n",
       "      <td>1</td>\n",
       "      <td>3</td>\n",
       "      <td>Heikkinen, Miss. Laina</td>\n",
       "      <td>female</td>\n",
       "      <td>26.0</td>\n",
       "      <td>0</td>\n",
       "      <td>0</td>\n",
       "      <td>STON/O2. 3101282</td>\n",
       "      <td>7.9250</td>\n",
       "      <td>NaN</td>\n",
       "      <td>S</td>\n",
       "    </tr>\n",
       "    <tr>\n",
       "      <th>3</th>\n",
       "      <td>4</td>\n",
       "      <td>1</td>\n",
       "      <td>1</td>\n",
       "      <td>Futrelle, Mrs. Jacques Heath (Lily May Peel)</td>\n",
       "      <td>female</td>\n",
       "      <td>35.0</td>\n",
       "      <td>1</td>\n",
       "      <td>0</td>\n",
       "      <td>113803</td>\n",
       "      <td>53.1000</td>\n",
       "      <td>C123</td>\n",
       "      <td>S</td>\n",
       "    </tr>\n",
       "    <tr>\n",
       "      <th>4</th>\n",
       "      <td>5</td>\n",
       "      <td>0</td>\n",
       "      <td>3</td>\n",
       "      <td>Allen, Mr. William Henry</td>\n",
       "      <td>male</td>\n",
       "      <td>35.0</td>\n",
       "      <td>0</td>\n",
       "      <td>0</td>\n",
       "      <td>373450</td>\n",
       "      <td>8.0500</td>\n",
       "      <td>NaN</td>\n",
       "      <td>S</td>\n",
       "    </tr>\n",
       "  </tbody>\n",
       "</table>\n",
       "</div>"
      ],
      "text/plain": [
       "   PassengerId  Survived  Pclass   \n",
       "0            1         0       3  \\\n",
       "1            2         1       1   \n",
       "2            3         1       3   \n",
       "3            4         1       1   \n",
       "4            5         0       3   \n",
       "\n",
       "                                                Name     Sex   Age  SibSp   \n",
       "0                            Braund, Mr. Owen Harris    male  22.0      1  \\\n",
       "1  Cumings, Mrs. John Bradley (Florence Briggs Th...  female  38.0      1   \n",
       "2                             Heikkinen, Miss. Laina  female  26.0      0   \n",
       "3       Futrelle, Mrs. Jacques Heath (Lily May Peel)  female  35.0      1   \n",
       "4                           Allen, Mr. William Henry    male  35.0      0   \n",
       "\n",
       "   Parch            Ticket     Fare Cabin Embarked  \n",
       "0      0         A/5 21171   7.2500   NaN        S  \n",
       "1      0          PC 17599  71.2833   C85        C  \n",
       "2      0  STON/O2. 3101282   7.9250   NaN        S  \n",
       "3      0            113803  53.1000  C123        S  \n",
       "4      0            373450   8.0500   NaN        S  "
      ]
     },
     "execution_count": 3,
     "metadata": {},
     "output_type": "execute_result"
    }
   ],
   "source": [
    "data.head()"
   ]
  },
  {
   "cell_type": "code",
   "execution_count": 4,
   "metadata": {},
   "outputs": [
    {
     "name": "stdout",
     "output_type": "stream",
     "text": [
      "<class 'pandas.core.frame.DataFrame'>\n",
      "RangeIndex: 891 entries, 0 to 890\n",
      "Data columns (total 8 columns):\n",
      " #   Column    Non-Null Count  Dtype  \n",
      "---  ------    --------------  -----  \n",
      " 0   Pclass    891 non-null    int64  \n",
      " 1   Sex       891 non-null    object \n",
      " 2   Survived  891 non-null    int64  \n",
      " 3   SibSp     891 non-null    int64  \n",
      " 4   Parch     891 non-null    int64  \n",
      " 5   Age       714 non-null    float64\n",
      " 6   Fare      891 non-null    float64\n",
      " 7   Embarked  889 non-null    object \n",
      "dtypes: float64(2), int64(4), object(2)\n",
      "memory usage: 55.8+ KB\n"
     ]
    }
   ],
   "source": [
    "data = data[[\"Pclass\", \"Sex\", 'Survived','SibSp','Parch', 'Age', 'Fare', 'Embarked']]\n",
    "data.info()"
   ]
  },
  {
   "cell_type": "code",
   "execution_count": 5,
   "metadata": {},
   "outputs": [],
   "source": [
    "data.dropna(subset=['Embarked'], inplace=True) #Удаляем пустые данные"
   ]
  },
  {
   "attachments": {},
   "cell_type": "markdown",
   "metadata": {},
   "source": [
    "#### Кодируем методом OHE колонки Embarked и Sex"
   ]
  },
  {
   "cell_type": "code",
   "execution_count": 6,
   "metadata": {},
   "outputs": [
    {
     "name": "stdout",
     "output_type": "stream",
     "text": [
      "<class 'pandas.core.frame.DataFrame'>\n",
      "Index: 889 entries, 0 to 890\n",
      "Data columns (total 10 columns):\n",
      " #   Column      Non-Null Count  Dtype  \n",
      "---  ------      --------------  -----  \n",
      " 0   Survived    889 non-null    int64  \n",
      " 1   SibSp       889 non-null    int64  \n",
      " 2   Parch       889 non-null    int64  \n",
      " 3   Age         712 non-null    float64\n",
      " 4   Fare        889 non-null    float64\n",
      " 5   Embarked_Q  889 non-null    bool   \n",
      " 6   Embarked_S  889 non-null    bool   \n",
      " 7   Sex_male    889 non-null    bool   \n",
      " 8   Pclass_2    889 non-null    bool   \n",
      " 9   Pclass_3    889 non-null    bool   \n",
      "dtypes: bool(5), float64(2), int64(3)\n",
      "memory usage: 46.0 KB\n"
     ]
    }
   ],
   "source": [
    "data = pd.get_dummies(data, columns=['Embarked', 'Sex', 'Pclass'], drop_first=True)\n",
    "data.info()"
   ]
  },
  {
   "cell_type": "code",
   "execution_count": 7,
   "metadata": {},
   "outputs": [
    {
     "data": {
      "text/html": [
       "<div>\n",
       "<style scoped>\n",
       "    .dataframe tbody tr th:only-of-type {\n",
       "        vertical-align: middle;\n",
       "    }\n",
       "\n",
       "    .dataframe tbody tr th {\n",
       "        vertical-align: top;\n",
       "    }\n",
       "\n",
       "    .dataframe thead th {\n",
       "        text-align: right;\n",
       "    }\n",
       "</style>\n",
       "<table border=\"1\" class=\"dataframe\">\n",
       "  <thead>\n",
       "    <tr style=\"text-align: right;\">\n",
       "      <th></th>\n",
       "      <th>Survived</th>\n",
       "      <th>SibSp</th>\n",
       "      <th>Parch</th>\n",
       "      <th>Age</th>\n",
       "      <th>Fare</th>\n",
       "      <th>Embarked_Q</th>\n",
       "      <th>Embarked_S</th>\n",
       "      <th>Sex_male</th>\n",
       "      <th>Pclass_2</th>\n",
       "      <th>Pclass_3</th>\n",
       "    </tr>\n",
       "  </thead>\n",
       "  <tbody>\n",
       "    <tr>\n",
       "      <th>0</th>\n",
       "      <td>0</td>\n",
       "      <td>1</td>\n",
       "      <td>0</td>\n",
       "      <td>22.0</td>\n",
       "      <td>7.2500</td>\n",
       "      <td>False</td>\n",
       "      <td>True</td>\n",
       "      <td>True</td>\n",
       "      <td>False</td>\n",
       "      <td>True</td>\n",
       "    </tr>\n",
       "    <tr>\n",
       "      <th>1</th>\n",
       "      <td>1</td>\n",
       "      <td>1</td>\n",
       "      <td>0</td>\n",
       "      <td>38.0</td>\n",
       "      <td>71.2833</td>\n",
       "      <td>False</td>\n",
       "      <td>False</td>\n",
       "      <td>False</td>\n",
       "      <td>False</td>\n",
       "      <td>False</td>\n",
       "    </tr>\n",
       "    <tr>\n",
       "      <th>2</th>\n",
       "      <td>1</td>\n",
       "      <td>0</td>\n",
       "      <td>0</td>\n",
       "      <td>26.0</td>\n",
       "      <td>7.9250</td>\n",
       "      <td>False</td>\n",
       "      <td>True</td>\n",
       "      <td>False</td>\n",
       "      <td>False</td>\n",
       "      <td>True</td>\n",
       "    </tr>\n",
       "    <tr>\n",
       "      <th>3</th>\n",
       "      <td>1</td>\n",
       "      <td>1</td>\n",
       "      <td>0</td>\n",
       "      <td>35.0</td>\n",
       "      <td>53.1000</td>\n",
       "      <td>False</td>\n",
       "      <td>True</td>\n",
       "      <td>False</td>\n",
       "      <td>False</td>\n",
       "      <td>False</td>\n",
       "    </tr>\n",
       "    <tr>\n",
       "      <th>4</th>\n",
       "      <td>0</td>\n",
       "      <td>0</td>\n",
       "      <td>0</td>\n",
       "      <td>35.0</td>\n",
       "      <td>8.0500</td>\n",
       "      <td>False</td>\n",
       "      <td>True</td>\n",
       "      <td>True</td>\n",
       "      <td>False</td>\n",
       "      <td>True</td>\n",
       "    </tr>\n",
       "  </tbody>\n",
       "</table>\n",
       "</div>"
      ],
      "text/plain": [
       "   Survived  SibSp  Parch   Age     Fare  Embarked_Q  Embarked_S  Sex_male   \n",
       "0         0      1      0  22.0   7.2500       False        True      True  \\\n",
       "1         1      1      0  38.0  71.2833       False       False     False   \n",
       "2         1      0      0  26.0   7.9250       False        True     False   \n",
       "3         1      1      0  35.0  53.1000       False        True     False   \n",
       "4         0      0      0  35.0   8.0500       False        True      True   \n",
       "\n",
       "   Pclass_2  Pclass_3  \n",
       "0     False      True  \n",
       "1     False     False  \n",
       "2     False      True  \n",
       "3     False     False  \n",
       "4     False      True  "
      ]
     },
     "execution_count": 7,
     "metadata": {},
     "output_type": "execute_result"
    }
   ],
   "source": [
    "data.head()"
   ]
  },
  {
   "attachments": {},
   "cell_type": "markdown",
   "metadata": {},
   "source": [
    "##### Заполняем пропуски в колонке Age"
   ]
  },
  {
   "cell_type": "code",
   "execution_count": 8,
   "metadata": {},
   "outputs": [
    {
     "name": "stdout",
     "output_type": "stream",
     "text": [
      "28.0\n",
      "29.64209269662921\n"
     ]
    }
   ],
   "source": [
    "print(data['Age'].median())\n",
    "print(data['Age'].mean())"
   ]
  },
  {
   "cell_type": "code",
   "execution_count": 9,
   "metadata": {},
   "outputs": [
    {
     "name": "stdout",
     "output_type": "stream",
     "text": [
      "<class 'pandas.core.frame.DataFrame'>\n",
      "Index: 889 entries, 0 to 890\n",
      "Data columns (total 10 columns):\n",
      " #   Column      Non-Null Count  Dtype  \n",
      "---  ------      --------------  -----  \n",
      " 0   Survived    889 non-null    int64  \n",
      " 1   SibSp       889 non-null    int64  \n",
      " 2   Parch       889 non-null    int64  \n",
      " 3   Age         889 non-null    float64\n",
      " 4   Fare        889 non-null    float64\n",
      " 5   Embarked_Q  889 non-null    bool   \n",
      " 6   Embarked_S  889 non-null    bool   \n",
      " 7   Sex_male    889 non-null    bool   \n",
      " 8   Pclass_2    889 non-null    bool   \n",
      " 9   Pclass_3    889 non-null    bool   \n",
      "dtypes: bool(5), float64(2), int64(3)\n",
      "memory usage: 46.0 KB\n"
     ]
    }
   ],
   "source": [
    "data.loc[data['Age'].isnull(), 'Age'] = data['Age'].median()\n",
    "data.info()"
   ]
  },
  {
   "attachments": {},
   "cell_type": "markdown",
   "metadata": {},
   "source": [
    "#### Преобразуем данные в необходимый тип"
   ]
  },
  {
   "cell_type": "code",
   "execution_count": 10,
   "metadata": {},
   "outputs": [
    {
     "name": "stdout",
     "output_type": "stream",
     "text": [
      "<class 'pandas.core.frame.DataFrame'>\n",
      "Index: 889 entries, 0 to 890\n",
      "Data columns (total 10 columns):\n",
      " #   Column      Non-Null Count  Dtype  \n",
      "---  ------      --------------  -----  \n",
      " 0   Survived    889 non-null    int8   \n",
      " 1   SibSp       889 non-null    int8   \n",
      " 2   Parch       889 non-null    int8   \n",
      " 3   Age         889 non-null    int8   \n",
      " 4   Fare        889 non-null    float64\n",
      " 5   Embarked_Q  889 non-null    int8   \n",
      " 6   Embarked_S  889 non-null    int8   \n",
      " 7   Sex_male    889 non-null    int8   \n",
      " 8   Pclass_2    889 non-null    int8   \n",
      " 9   Pclass_3    889 non-null    int8   \n",
      "dtypes: float64(1), int8(9)\n",
      "memory usage: 21.7 KB\n"
     ]
    }
   ],
   "source": [
    "data['Sex_male'] = data['Sex_male'].astype('int8')\n",
    "data['Survived'] = data['Survived'].astype('int8')\n",
    "\n",
    "data['Pclass_2'] = data['Pclass_2'].astype('int8')\n",
    "data['Pclass_3'] = data['Pclass_3'].astype('int8')\n",
    "data['SibSp'] = data['SibSp'].astype('int8')\n",
    "data['Parch'] = data['Parch'].astype('int8')\n",
    "\n",
    "data['Age'] = data['Age'].astype('int8')\n",
    "\n",
    "data['Embarked_Q'] = data['Embarked_Q'].astype('int8')\n",
    "data['Embarked_S'] = data['Embarked_S'].astype('int8')\n",
    "data.info()"
   ]
  },
  {
   "cell_type": "code",
   "execution_count": 11,
   "metadata": {},
   "outputs": [
    {
     "data": {
      "text/plain": [
       "Embarked_S\n",
       "1    644\n",
       "0    245\n",
       "Name: count, dtype: int64"
      ]
     },
     "execution_count": 11,
     "metadata": {},
     "output_type": "execute_result"
    }
   ],
   "source": [
    "data['Embarked_S'].value_counts()"
   ]
  },
  {
   "attachments": {},
   "cell_type": "markdown",
   "metadata": {},
   "source": [
    "#### Строим гистограммы для каждой колонки"
   ]
  },
  {
   "cell_type": "code",
   "execution_count": 12,
   "metadata": {},
   "outputs": [
    {
     "data": {
      "text/plain": [
       "array([[<Axes: title={'center': 'Survived'}>,\n",
       "        <Axes: title={'center': 'SibSp'}>,\n",
       "        <Axes: title={'center': 'Parch'}>],\n",
       "       [<Axes: title={'center': 'Age'}>,\n",
       "        <Axes: title={'center': 'Fare'}>,\n",
       "        <Axes: title={'center': 'Embarked_Q'}>],\n",
       "       [<Axes: title={'center': 'Embarked_S'}>,\n",
       "        <Axes: title={'center': 'Sex_male'}>,\n",
       "        <Axes: title={'center': 'Pclass_2'}>],\n",
       "       [<Axes: title={'center': 'Pclass_3'}>, <Axes: >, <Axes: >]],\n",
       "      dtype=object)"
      ]
     },
     "execution_count": 12,
     "metadata": {},
     "output_type": "execute_result"
    },
    {
     "data": {
      "image/png": "[encoded data removed]",
      "text/plain": [
       "<Figure size 1000x1600 with 12 Axes>"
      ]
     },
     "metadata": {},
     "output_type": "display_data"
    }
   ],
   "source": [
    "data.hist(figsize=(10,16))"
   ]
  },
  {
   "cell_type": "code",
   "execution_count": 13,
   "metadata": {},
   "outputs": [
    {
     "data": {
      "text/plain": [
       "Survived\n",
       "0    549\n",
       "1    340\n",
       "Name: count, dtype: int64"
      ]
     },
     "execution_count": 13,
     "metadata": {},
     "output_type": "execute_result"
    }
   ],
   "source": [
    "data['Survived'].value_counts() # Дисбаланс классов"
   ]
  },
  {
   "cell_type": "code",
   "execution_count": 14,
   "metadata": {},
   "outputs": [
    {
     "name": "stdout",
     "output_type": "stream",
     "text": [
      "(755, 9)\n",
      "(134, 9)\n"
     ]
    }
   ],
   "source": [
    "features = data.drop(columns=['Survived'])\n",
    "target = data['Survived']\n",
    "\n",
    "features_train, features_test, target_train, target_test = train_test_split(features, target, test_size=0.15, random_state=12345)\n",
    "\n",
    "print(features_train.shape)\n",
    "print(features_test.shape)"
   ]
  },
  {
   "cell_type": "code",
   "execution_count": 15,
   "metadata": {},
   "outputs": [
    {
     "name": "stdout",
     "output_type": "stream",
     "text": [
      "Survived\n",
      "0    468\n",
      "1    287\n",
      "Name: count, dtype: int64\n",
      "Survived\n",
      "0    81\n",
      "1    53\n",
      "Name: count, dtype: int64\n"
     ]
    }
   ],
   "source": [
    "print(target_train.value_counts())\n",
    "print(target_test.value_counts())"
   ]
  },
  {
   "attachments": {},
   "cell_type": "markdown",
   "metadata": {},
   "source": [
    "##### Борьба с дисбалансом классов\n",
    "Необходимо применить методы борьбы с дисбалансом, чтобы сбалансировать классы"
   ]
  },
  {
   "cell_type": "code",
   "execution_count": 16,
   "metadata": {},
   "outputs": [
    {
     "data": {
      "text/plain": [
       "Survived\n",
       "0    468\n",
       "1    468\n",
       "Name: count, dtype: int64"
      ]
     },
     "execution_count": 16,
     "metadata": {},
     "output_type": "execute_result"
    }
   ],
   "source": [
    "sm = SMOTE(random_state=12345)\n",
    "\n",
    "features_train_samp, target_train_samp = sm.fit_resample(features_train ,target_train)\n",
    "\n",
    "target_train_samp.value_counts()"
   ]
  },
  {
   "attachments": {},
   "cell_type": "markdown",
   "metadata": {},
   "source": [
    "#### Создаём тестовый алгоритм NAS\n",
    "Подумать над генерацией фитч"
   ]
  },
  {
   "attachments": {},
   "cell_type": "markdown",
   "metadata": {},
   "source": [
    "<ul>    \n",
    "    <li>\n",
    "        <a href =\"https://keras.io/api/callbacks/base_callback/\">Базовый класс обратного вызова</a>\n",
    "    </li>\n",
    "    <li>\n",
    "        <a href =\"https://keras.io/guides/writing_your_own_callbacks/\">Написание собственных обратных вызовов</a>\n",
    "    </li>\n",
    "    <li>\n",
    "        <a href =\"https://tensorflow.google.cn/guide/keras/custom_callback?hl=ru\">Написание собственных обратных вызовов руководство от Tensorflow</a>\n",
    "    </li>\n",
    "</ul>"
   ]
  },
  {
   "cell_type": "code",
   "execution_count": 17,
   "metadata": {},
   "outputs": [],
   "source": [
    "def visuall (history, metric):\n",
    "    train_metrics = history.history[metric]\n",
    "    val_metrics = history.history['val_'+ metric]\n",
    "    epochs = range(1, len(train_metrics) + 1)\n",
    "    plt.plot(epochs, train_metrics)\n",
    "    plt.plot(epochs, val_metrics)\n",
    "    plt.title('Training and validation '+ metric)\n",
    "    plt.xlabel(\"Epochs\")\n",
    "    plt.ylabel(metric)\n",
    "    plt.legend([\"train_\"+ metric, 'val_'+ metric])\n",
    "    plt.show()"
   ]
  },
  {
   "cell_type": "code",
   "execution_count": 18,
   "metadata": {},
   "outputs": [
    {
     "name": "stdout",
     "output_type": "stream",
     "text": [
      "Num GPUs Available:  [PhysicalDevice(name='/physical_device:GPU:0', device_type='GPU')]\n"
     ]
    }
   ],
   "source": [
    "print(\"Num GPUs Available: \", tf.config.list_physical_devices('GPU'))"
   ]
  },
  {
   "attachments": {},
   "cell_type": "markdown",
   "metadata": {},
   "source": [
    "##### Пробуем искать архитектуру с помощью AutoKeras"
   ]
  },
  {
   "cell_type": "code",
   "execution_count": 49,
   "metadata": {},
   "outputs": [
    {
     "name": "stdout",
     "output_type": "stream",
     "text": [
      "Trial 20 Complete [00h 00m 08s]\n",
      "val_accuracy: 0.8059701323509216\n",
      "\n",
      "Best val_accuracy So Far: 0.8432835936546326\n",
      "Total elapsed time: 00h 03m 29s\n",
      "INFO:tensorflow:Oracle triggered exit\n"
     ]
    },
    {
     "name": "stdout",
     "output_type": "stream",
     "text": [
      "Epoch 1/150\n",
      "30/30 [==============================] - 1s 10ms/step - loss: 0.6485 - accuracy: 0.6635 - val_loss: 0.5846 - val_accuracy: 0.7612\n",
      "Epoch 2/150\n",
      "30/30 [==============================] - 0s 6ms/step - loss: 0.5437 - accuracy: 0.7863 - val_loss: 0.5444 - val_accuracy: 0.7836\n",
      "Epoch 3/150\n",
      "30/30 [==============================] - 0s 6ms/step - loss: 0.4806 - accuracy: 0.8323 - val_loss: 0.5234 - val_accuracy: 0.7985\n",
      "Epoch 4/150\n",
      "30/30 [==============================] - 0s 6ms/step - loss: 0.4368 - accuracy: 0.8333 - val_loss: 0.5128 - val_accuracy: 0.7985\n",
      "Epoch 5/150\n",
      "30/30 [==============================] - 0s 6ms/step - loss: 0.4083 - accuracy: 0.8323 - val_loss: 0.5055 - val_accuracy: 0.7910\n",
      "Epoch 6/150\n",
      "30/30 [==============================] - 0s 6ms/step - loss: 0.3916 - accuracy: 0.8323 - val_loss: 0.5025 - val_accuracy: 0.7985\n",
      "Epoch 7/150\n",
      "30/30 [==============================] - 0s 6ms/step - loss: 0.3823 - accuracy: 0.8333 - val_loss: 0.5001 - val_accuracy: 0.8060\n",
      "Epoch 8/150\n",
      "30/30 [==============================] - 0s 6ms/step - loss: 0.3766 - accuracy: 0.8312 - val_loss: 0.4980 - val_accuracy: 0.8060\n",
      "Epoch 9/150\n",
      "30/30 [==============================] - 0s 6ms/step - loss: 0.3722 - accuracy: 0.8344 - val_loss: 0.4961 - val_accuracy: 0.8060\n",
      "Epoch 10/150\n",
      "30/30 [==============================] - 0s 6ms/step - loss: 0.3689 - accuracy: 0.8355 - val_loss: 0.4944 - val_accuracy: 0.7985\n",
      "Epoch 11/150\n",
      "30/30 [==============================] - 0s 6ms/step - loss: 0.3661 - accuracy: 0.8376 - val_loss: 0.4933 - val_accuracy: 0.7985\n",
      "Epoch 12/150\n",
      "30/30 [==============================] - 0s 6ms/step - loss: 0.3637 - accuracy: 0.8387 - val_loss: 0.4922 - val_accuracy: 0.7985\n",
      "Epoch 13/150\n",
      "30/30 [==============================] - 0s 6ms/step - loss: 0.3616 - accuracy: 0.8408 - val_loss: 0.4914 - val_accuracy: 0.7985\n",
      "Epoch 14/150\n",
      "30/30 [==============================] - 0s 6ms/step - loss: 0.3597 - accuracy: 0.8408 - val_loss: 0.4912 - val_accuracy: 0.7985\n",
      "Epoch 15/150\n",
      "30/30 [==============================] - 0s 7ms/step - loss: 0.3582 - accuracy: 0.8397 - val_loss: 0.4912 - val_accuracy: 0.8060\n",
      "Epoch 16/150\n",
      "30/30 [==============================] - 0s 7ms/step - loss: 0.3565 - accuracy: 0.8429 - val_loss: 0.4914 - val_accuracy: 0.8060\n",
      "Epoch 17/150\n",
      "30/30 [==============================] - 0s 6ms/step - loss: 0.3554 - accuracy: 0.8451 - val_loss: 0.4917 - val_accuracy: 0.8060\n",
      "Epoch 18/150\n",
      "30/30 [==============================] - 0s 6ms/step - loss: 0.3541 - accuracy: 0.8462 - val_loss: 0.4921 - val_accuracy: 0.8060\n",
      "Epoch 19/150\n",
      "30/30 [==============================] - 0s 6ms/step - loss: 0.3531 - accuracy: 0.8451 - val_loss: 0.4924 - val_accuracy: 0.8060\n",
      "Epoch 20/150\n",
      "30/30 [==============================] - 0s 6ms/step - loss: 0.3520 - accuracy: 0.8472 - val_loss: 0.4925 - val_accuracy: 0.8060\n",
      "Epoch 21/150\n",
      "30/30 [==============================] - 0s 6ms/step - loss: 0.3511 - accuracy: 0.8472 - val_loss: 0.4924 - val_accuracy: 0.8134\n",
      "Epoch 22/150\n",
      "30/30 [==============================] - 0s 6ms/step - loss: 0.3501 - accuracy: 0.8472 - val_loss: 0.4924 - val_accuracy: 0.8134\n",
      "Epoch 23/150\n",
      "30/30 [==============================] - 0s 6ms/step - loss: 0.3493 - accuracy: 0.8494 - val_loss: 0.4927 - val_accuracy: 0.8134\n",
      "Epoch 24/150\n",
      "30/30 [==============================] - 0s 6ms/step - loss: 0.3485 - accuracy: 0.8494 - val_loss: 0.4927 - val_accuracy: 0.8134\n",
      "Epoch 25/150\n",
      "30/30 [==============================] - 0s 6ms/step - loss: 0.3477 - accuracy: 0.8494 - val_loss: 0.4929 - val_accuracy: 0.8134\n",
      "Epoch 26/150\n",
      "30/30 [==============================] - 0s 6ms/step - loss: 0.3468 - accuracy: 0.8494 - val_loss: 0.4928 - val_accuracy: 0.8134\n",
      "Epoch 27/150\n",
      "30/30 [==============================] - 0s 6ms/step - loss: 0.3462 - accuracy: 0.8504 - val_loss: 0.4928 - val_accuracy: 0.8060\n",
      "Epoch 28/150\n",
      "30/30 [==============================] - 0s 6ms/step - loss: 0.3453 - accuracy: 0.8515 - val_loss: 0.4929 - val_accuracy: 0.8060\n",
      "Epoch 29/150\n",
      "30/30 [==============================] - 0s 6ms/step - loss: 0.3446 - accuracy: 0.8526 - val_loss: 0.4931 - val_accuracy: 0.8134\n",
      "Epoch 30/150\n",
      "30/30 [==============================] - 0s 6ms/step - loss: 0.3437 - accuracy: 0.8526 - val_loss: 0.4935 - val_accuracy: 0.8134\n",
      "Epoch 31/150\n",
      "30/30 [==============================] - 0s 6ms/step - loss: 0.3432 - accuracy: 0.8526 - val_loss: 0.4934 - val_accuracy: 0.8134\n",
      "Epoch 32/150\n",
      "30/30 [==============================] - 0s 6ms/step - loss: 0.3425 - accuracy: 0.8547 - val_loss: 0.4931 - val_accuracy: 0.8134\n",
      "Epoch 33/150\n",
      "30/30 [==============================] - 0s 6ms/step - loss: 0.3420 - accuracy: 0.8547 - val_loss: 0.4933 - val_accuracy: 0.8134\n",
      "Epoch 34/150\n",
      "30/30 [==============================] - 0s 6ms/step - loss: 0.3411 - accuracy: 0.8536 - val_loss: 0.4936 - val_accuracy: 0.8134\n",
      "Epoch 35/150\n",
      "30/30 [==============================] - 0s 6ms/step - loss: 0.3406 - accuracy: 0.8526 - val_loss: 0.4930 - val_accuracy: 0.8134\n",
      "Epoch 36/150\n",
      "30/30 [==============================] - 0s 6ms/step - loss: 0.3400 - accuracy: 0.8536 - val_loss: 0.4936 - val_accuracy: 0.8134\n",
      "Epoch 37/150\n",
      "30/30 [==============================] - 0s 7ms/step - loss: 0.3394 - accuracy: 0.8558 - val_loss: 0.4940 - val_accuracy: 0.8134\n",
      "Epoch 38/150\n",
      "30/30 [==============================] - 0s 7ms/step - loss: 0.3387 - accuracy: 0.8558 - val_loss: 0.4941 - val_accuracy: 0.8134\n",
      "Epoch 39/150\n",
      "30/30 [==============================] - 0s 7ms/step - loss: 0.3382 - accuracy: 0.8558 - val_loss: 0.4940 - val_accuracy: 0.8134\n",
      "Epoch 40/150\n",
      "30/30 [==============================] - 0s 6ms/step - loss: 0.3377 - accuracy: 0.8568 - val_loss: 0.4942 - val_accuracy: 0.8134\n",
      "Epoch 41/150\n",
      "30/30 [==============================] - 0s 6ms/step - loss: 0.3371 - accuracy: 0.8568 - val_loss: 0.4943 - val_accuracy: 0.8134\n",
      "Epoch 42/150\n",
      "30/30 [==============================] - 0s 6ms/step - loss: 0.3369 - accuracy: 0.8568 - val_loss: 0.4943 - val_accuracy: 0.8134\n",
      "Epoch 43/150\n",
      "30/30 [==============================] - 0s 6ms/step - loss: 0.3361 - accuracy: 0.8568 - val_loss: 0.4947 - val_accuracy: 0.8134\n",
      "Epoch 44/150\n",
      "30/30 [==============================] - 0s 6ms/step - loss: 0.3358 - accuracy: 0.8568 - val_loss: 0.4950 - val_accuracy: 0.8134\n",
      "Epoch 45/150\n",
      "30/30 [==============================] - 0s 7ms/step - loss: 0.3352 - accuracy: 0.8568 - val_loss: 0.4949 - val_accuracy: 0.8134\n",
      "Epoch 46/150\n",
      "30/30 [==============================] - 0s 7ms/step - loss: 0.3349 - accuracy: 0.8590 - val_loss: 0.4951 - val_accuracy: 0.8134\n",
      "Epoch 47/150\n",
      "30/30 [==============================] - 0s 6ms/step - loss: 0.3342 - accuracy: 0.8579 - val_loss: 0.4956 - val_accuracy: 0.8134\n",
      "Epoch 48/150\n",
      "30/30 [==============================] - 0s 6ms/step - loss: 0.3338 - accuracy: 0.8590 - val_loss: 0.4958 - val_accuracy: 0.8134\n",
      "Epoch 49/150\n",
      "30/30 [==============================] - 0s 6ms/step - loss: 0.3334 - accuracy: 0.8600 - val_loss: 0.4960 - val_accuracy: 0.8134\n",
      "Epoch 50/150\n",
      "30/30 [==============================] - 0s 6ms/step - loss: 0.3328 - accuracy: 0.8600 - val_loss: 0.4963 - val_accuracy: 0.8134\n",
      "Epoch 51/150\n",
      "30/30 [==============================] - 0s 6ms/step - loss: 0.3324 - accuracy: 0.8600 - val_loss: 0.4965 - val_accuracy: 0.8134\n",
      "Epoch 52/150\n",
      "30/30 [==============================] - 0s 6ms/step - loss: 0.3319 - accuracy: 0.8600 - val_loss: 0.4972 - val_accuracy: 0.8134\n",
      "Epoch 53/150\n",
      "30/30 [==============================] - 0s 6ms/step - loss: 0.3314 - accuracy: 0.8611 - val_loss: 0.4974 - val_accuracy: 0.8134\n",
      "Epoch 54/150\n",
      "30/30 [==============================] - 0s 7ms/step - loss: 0.3311 - accuracy: 0.8611 - val_loss: 0.4975 - val_accuracy: 0.8134\n",
      "Epoch 55/150\n",
      "30/30 [==============================] - 0s 6ms/step - loss: 0.3305 - accuracy: 0.8611 - val_loss: 0.4980 - val_accuracy: 0.8209\n",
      "Epoch 56/150\n",
      "30/30 [==============================] - 0s 6ms/step - loss: 0.3301 - accuracy: 0.8611 - val_loss: 0.4980 - val_accuracy: 0.8134\n",
      "Epoch 57/150\n",
      "30/30 [==============================] - 0s 6ms/step - loss: 0.3299 - accuracy: 0.8611 - val_loss: 0.4983 - val_accuracy: 0.8209\n",
      "Epoch 58/150\n",
      "30/30 [==============================] - 0s 6ms/step - loss: 0.3292 - accuracy: 0.8632 - val_loss: 0.4987 - val_accuracy: 0.8060\n",
      "Epoch 59/150\n",
      "30/30 [==============================] - 0s 6ms/step - loss: 0.3289 - accuracy: 0.8622 - val_loss: 0.4989 - val_accuracy: 0.8209\n",
      "Epoch 60/150\n",
      "30/30 [==============================] - 0s 7ms/step - loss: 0.3285 - accuracy: 0.8611 - val_loss: 0.4992 - val_accuracy: 0.8134\n",
      "Epoch 61/150\n",
      "30/30 [==============================] - 0s 6ms/step - loss: 0.3281 - accuracy: 0.8622 - val_loss: 0.4995 - val_accuracy: 0.8134\n",
      "Epoch 62/150\n",
      "30/30 [==============================] - 0s 6ms/step - loss: 0.3276 - accuracy: 0.8622 - val_loss: 0.4991 - val_accuracy: 0.8060\n",
      "Epoch 63/150\n",
      "30/30 [==============================] - 0s 6ms/step - loss: 0.3272 - accuracy: 0.8622 - val_loss: 0.4996 - val_accuracy: 0.8134\n",
      "Epoch 64/150\n",
      "30/30 [==============================] - 0s 6ms/step - loss: 0.3269 - accuracy: 0.8622 - val_loss: 0.4998 - val_accuracy: 0.8134\n",
      "Epoch 65/150\n",
      "30/30 [==============================] - 0s 7ms/step - loss: 0.3263 - accuracy: 0.8632 - val_loss: 0.5002 - val_accuracy: 0.8134\n",
      "Epoch 66/150\n",
      "30/30 [==============================] - 0s 6ms/step - loss: 0.3262 - accuracy: 0.8622 - val_loss: 0.5003 - val_accuracy: 0.8134\n",
      "Epoch 67/150\n",
      "30/30 [==============================] - 0s 7ms/step - loss: 0.3256 - accuracy: 0.8622 - val_loss: 0.5011 - val_accuracy: 0.8134\n",
      "Epoch 68/150\n",
      "30/30 [==============================] - 0s 6ms/step - loss: 0.3254 - accuracy: 0.8622 - val_loss: 0.5009 - val_accuracy: 0.8134\n",
      "Epoch 69/150\n",
      "30/30 [==============================] - 0s 7ms/step - loss: 0.3249 - accuracy: 0.8632 - val_loss: 0.5013 - val_accuracy: 0.8134\n",
      "Epoch 70/150\n",
      "30/30 [==============================] - 0s 6ms/step - loss: 0.3247 - accuracy: 0.8622 - val_loss: 0.5010 - val_accuracy: 0.8134\n",
      "Epoch 71/150\n",
      "30/30 [==============================] - 0s 6ms/step - loss: 0.3242 - accuracy: 0.8632 - val_loss: 0.5013 - val_accuracy: 0.8134\n",
      "Epoch 72/150\n",
      "30/30 [==============================] - 0s 6ms/step - loss: 0.3241 - accuracy: 0.8632 - val_loss: 0.5007 - val_accuracy: 0.8134\n",
      "Epoch 73/150\n",
      "30/30 [==============================] - 0s 6ms/step - loss: 0.3234 - accuracy: 0.8632 - val_loss: 0.5019 - val_accuracy: 0.8134\n",
      "Epoch 74/150\n",
      "30/30 [==============================] - 0s 6ms/step - loss: 0.3235 - accuracy: 0.8632 - val_loss: 0.5015 - val_accuracy: 0.8134\n",
      "Epoch 75/150\n",
      "30/30 [==============================] - 0s 6ms/step - loss: 0.3229 - accuracy: 0.8643 - val_loss: 0.5016 - val_accuracy: 0.8134\n",
      "Epoch 76/150\n",
      "30/30 [==============================] - 0s 6ms/step - loss: 0.3224 - accuracy: 0.8643 - val_loss: 0.5014 - val_accuracy: 0.8060\n",
      "Epoch 77/150\n",
      "30/30 [==============================] - 0s 6ms/step - loss: 0.3222 - accuracy: 0.8643 - val_loss: 0.5019 - val_accuracy: 0.8060\n",
      "Epoch 78/150\n",
      "30/30 [==============================] - 0s 6ms/step - loss: 0.3220 - accuracy: 0.8643 - val_loss: 0.5017 - val_accuracy: 0.8060\n",
      "Epoch 79/150\n",
      "30/30 [==============================] - 0s 7ms/step - loss: 0.3214 - accuracy: 0.8643 - val_loss: 0.5026 - val_accuracy: 0.7985\n",
      "Epoch 80/150\n",
      "30/30 [==============================] - 0s 6ms/step - loss: 0.3211 - accuracy: 0.8643 - val_loss: 0.5024 - val_accuracy: 0.7985\n",
      "Epoch 81/150\n",
      "30/30 [==============================] - 0s 7ms/step - loss: 0.3207 - accuracy: 0.8643 - val_loss: 0.5028 - val_accuracy: 0.7985\n",
      "Epoch 82/150\n",
      "30/30 [==============================] - 0s 6ms/step - loss: 0.3204 - accuracy: 0.8643 - val_loss: 0.5029 - val_accuracy: 0.7985\n",
      "Epoch 83/150\n",
      "30/30 [==============================] - 0s 6ms/step - loss: 0.3199 - accuracy: 0.8622 - val_loss: 0.5031 - val_accuracy: 0.7985\n",
      "Epoch 84/150\n",
      "30/30 [==============================] - 0s 6ms/step - loss: 0.3197 - accuracy: 0.8632 - val_loss: 0.5035 - val_accuracy: 0.7985\n",
      "Epoch 85/150\n",
      "30/30 [==============================] - 0s 6ms/step - loss: 0.3193 - accuracy: 0.8622 - val_loss: 0.5031 - val_accuracy: 0.7985\n",
      "Epoch 86/150\n",
      "30/30 [==============================] - 0s 6ms/step - loss: 0.3191 - accuracy: 0.8643 - val_loss: 0.5038 - val_accuracy: 0.7985\n",
      "Epoch 87/150\n",
      "30/30 [==============================] - 0s 6ms/step - loss: 0.3185 - accuracy: 0.8632 - val_loss: 0.5038 - val_accuracy: 0.7985\n",
      "Epoch 88/150\n",
      "30/30 [==============================] - 0s 6ms/step - loss: 0.3184 - accuracy: 0.8643 - val_loss: 0.5046 - val_accuracy: 0.7985\n",
      "Epoch 89/150\n",
      "30/30 [==============================] - 0s 6ms/step - loss: 0.3178 - accuracy: 0.8643 - val_loss: 0.5042 - val_accuracy: 0.7985\n",
      "Epoch 90/150\n",
      "30/30 [==============================] - 0s 6ms/step - loss: 0.3177 - accuracy: 0.8643 - val_loss: 0.5048 - val_accuracy: 0.7985\n",
      "Epoch 91/150\n",
      "30/30 [==============================] - 0s 6ms/step - loss: 0.3173 - accuracy: 0.8643 - val_loss: 0.5054 - val_accuracy: 0.7985\n",
      "Epoch 92/150\n",
      "30/30 [==============================] - 0s 6ms/step - loss: 0.3170 - accuracy: 0.8643 - val_loss: 0.5053 - val_accuracy: 0.7985\n",
      "Epoch 93/150\n",
      "30/30 [==============================] - 0s 6ms/step - loss: 0.3165 - accuracy: 0.8643 - val_loss: 0.5058 - val_accuracy: 0.7985\n",
      "Epoch 94/150\n",
      "30/30 [==============================] - 0s 6ms/step - loss: 0.3164 - accuracy: 0.8643 - val_loss: 0.5059 - val_accuracy: 0.7985\n",
      "Epoch 95/150\n",
      "30/30 [==============================] - 0s 6ms/step - loss: 0.3157 - accuracy: 0.8643 - val_loss: 0.5061 - val_accuracy: 0.7985\n",
      "Epoch 96/150\n",
      "30/30 [==============================] - 0s 6ms/step - loss: 0.3158 - accuracy: 0.8643 - val_loss: 0.5066 - val_accuracy: 0.7985\n",
      "Epoch 97/150\n",
      "30/30 [==============================] - 0s 6ms/step - loss: 0.3151 - accuracy: 0.8643 - val_loss: 0.5066 - val_accuracy: 0.7985\n",
      "Epoch 98/150\n",
      "30/30 [==============================] - 0s 6ms/step - loss: 0.3151 - accuracy: 0.8643 - val_loss: 0.5068 - val_accuracy: 0.7985\n",
      "Epoch 99/150\n",
      "30/30 [==============================] - 0s 6ms/step - loss: 0.3145 - accuracy: 0.8654 - val_loss: 0.5069 - val_accuracy: 0.7985\n",
      "Epoch 100/150\n",
      "30/30 [==============================] - 0s 6ms/step - loss: 0.3145 - accuracy: 0.8643 - val_loss: 0.5068 - val_accuracy: 0.7985\n",
      "Epoch 101/150\n",
      "30/30 [==============================] - 0s 6ms/step - loss: 0.3140 - accuracy: 0.8654 - val_loss: 0.5073 - val_accuracy: 0.7985\n",
      "Epoch 102/150\n",
      "30/30 [==============================] - 0s 6ms/step - loss: 0.3138 - accuracy: 0.8654 - val_loss: 0.5077 - val_accuracy: 0.7985\n",
      "Epoch 103/150\n",
      "30/30 [==============================] - 0s 7ms/step - loss: 0.3135 - accuracy: 0.8675 - val_loss: 0.5075 - val_accuracy: 0.7985\n",
      "Epoch 104/150\n",
      "30/30 [==============================] - 0s 6ms/step - loss: 0.3133 - accuracy: 0.8675 - val_loss: 0.5080 - val_accuracy: 0.8060\n",
      "Epoch 105/150\n",
      "30/30 [==============================] - 0s 6ms/step - loss: 0.3127 - accuracy: 0.8675 - val_loss: 0.5084 - val_accuracy: 0.8060\n",
      "Epoch 106/150\n",
      "30/30 [==============================] - 0s 6ms/step - loss: 0.3127 - accuracy: 0.8675 - val_loss: 0.5082 - val_accuracy: 0.7985\n",
      "Epoch 107/150\n",
      "30/30 [==============================] - 0s 6ms/step - loss: 0.3121 - accuracy: 0.8675 - val_loss: 0.5084 - val_accuracy: 0.8060\n",
      "Epoch 108/150\n",
      "30/30 [==============================] - 0s 7ms/step - loss: 0.3121 - accuracy: 0.8675 - val_loss: 0.5084 - val_accuracy: 0.8060\n",
      "Epoch 109/150\n",
      "30/30 [==============================] - 0s 6ms/step - loss: 0.3116 - accuracy: 0.8675 - val_loss: 0.5089 - val_accuracy: 0.8060\n",
      "Epoch 110/150\n",
      "30/30 [==============================] - 0s 6ms/step - loss: 0.3114 - accuracy: 0.8675 - val_loss: 0.5090 - val_accuracy: 0.8060\n",
      "Epoch 111/150\n",
      "30/30 [==============================] - 0s 6ms/step - loss: 0.3112 - accuracy: 0.8675 - val_loss: 0.5093 - val_accuracy: 0.8060\n",
      "Epoch 112/150\n",
      "30/30 [==============================] - 0s 6ms/step - loss: 0.3105 - accuracy: 0.8675 - val_loss: 0.5091 - val_accuracy: 0.8060\n",
      "Epoch 113/150\n",
      "30/30 [==============================] - 0s 6ms/step - loss: 0.3106 - accuracy: 0.8697 - val_loss: 0.5095 - val_accuracy: 0.8060\n",
      "Epoch 114/150\n",
      "30/30 [==============================] - 0s 6ms/step - loss: 0.3102 - accuracy: 0.8697 - val_loss: 0.5096 - val_accuracy: 0.8060\n",
      "Epoch 115/150\n",
      "30/30 [==============================] - 0s 7ms/step - loss: 0.3098 - accuracy: 0.8697 - val_loss: 0.5096 - val_accuracy: 0.8060\n",
      "Epoch 116/150\n",
      "30/30 [==============================] - 0s 6ms/step - loss: 0.3095 - accuracy: 0.8686 - val_loss: 0.5099 - val_accuracy: 0.8060\n",
      "Epoch 117/150\n",
      "30/30 [==============================] - 0s 6ms/step - loss: 0.3092 - accuracy: 0.8686 - val_loss: 0.5097 - val_accuracy: 0.8060\n",
      "Epoch 118/150\n",
      "30/30 [==============================] - 0s 6ms/step - loss: 0.3089 - accuracy: 0.8697 - val_loss: 0.5103 - val_accuracy: 0.8060\n",
      "Epoch 119/150\n",
      "30/30 [==============================] - 0s 6ms/step - loss: 0.3086 - accuracy: 0.8686 - val_loss: 0.5104 - val_accuracy: 0.8060\n",
      "Epoch 120/150\n",
      "30/30 [==============================] - 0s 6ms/step - loss: 0.3082 - accuracy: 0.8686 - val_loss: 0.5108 - val_accuracy: 0.8060\n",
      "Epoch 121/150\n",
      "30/30 [==============================] - 0s 7ms/step - loss: 0.3079 - accuracy: 0.8686 - val_loss: 0.5107 - val_accuracy: 0.8060\n",
      "Epoch 122/150\n",
      "30/30 [==============================] - 0s 6ms/step - loss: 0.3078 - accuracy: 0.8686 - val_loss: 0.5105 - val_accuracy: 0.8060\n",
      "Epoch 123/150\n",
      "30/30 [==============================] - 0s 7ms/step - loss: 0.3072 - accuracy: 0.8686 - val_loss: 0.5110 - val_accuracy: 0.7985\n",
      "Epoch 124/150\n",
      "30/30 [==============================] - 0s 6ms/step - loss: 0.3072 - accuracy: 0.8686 - val_loss: 0.5106 - val_accuracy: 0.7910\n",
      "Epoch 125/150\n",
      "30/30 [==============================] - 0s 6ms/step - loss: 0.3067 - accuracy: 0.8697 - val_loss: 0.5113 - val_accuracy: 0.7910\n",
      "Epoch 126/150\n",
      "30/30 [==============================] - 0s 6ms/step - loss: 0.3066 - accuracy: 0.8686 - val_loss: 0.5112 - val_accuracy: 0.7910\n",
      "Epoch 127/150\n",
      "30/30 [==============================] - 0s 6ms/step - loss: 0.3060 - accuracy: 0.8686 - val_loss: 0.5115 - val_accuracy: 0.7910\n",
      "Epoch 128/150\n",
      "30/30 [==============================] - 0s 6ms/step - loss: 0.3060 - accuracy: 0.8686 - val_loss: 0.5112 - val_accuracy: 0.7910\n",
      "Epoch 129/150\n",
      "30/30 [==============================] - 0s 6ms/step - loss: 0.3055 - accuracy: 0.8697 - val_loss: 0.5121 - val_accuracy: 0.7910\n",
      "Epoch 130/150\n",
      "30/30 [==============================] - 0s 6ms/step - loss: 0.3055 - accuracy: 0.8697 - val_loss: 0.5119 - val_accuracy: 0.7910\n",
      "Epoch 131/150\n",
      "30/30 [==============================] - 0s 7ms/step - loss: 0.3048 - accuracy: 0.8697 - val_loss: 0.5125 - val_accuracy: 0.7910\n",
      "Epoch 132/150\n",
      "30/30 [==============================] - 0s 6ms/step - loss: 0.3047 - accuracy: 0.8697 - val_loss: 0.5119 - val_accuracy: 0.7910\n",
      "Epoch 133/150\n",
      "30/30 [==============================] - 0s 6ms/step - loss: 0.3046 - accuracy: 0.8697 - val_loss: 0.5122 - val_accuracy: 0.7910\n",
      "Epoch 134/150\n",
      "30/30 [==============================] - 0s 6ms/step - loss: 0.3043 - accuracy: 0.8697 - val_loss: 0.5117 - val_accuracy: 0.7910\n",
      "Epoch 135/150\n",
      "30/30 [==============================] - 0s 6ms/step - loss: 0.3036 - accuracy: 0.8686 - val_loss: 0.5127 - val_accuracy: 0.7910\n",
      "Epoch 136/150\n",
      "30/30 [==============================] - 0s 7ms/step - loss: 0.3038 - accuracy: 0.8697 - val_loss: 0.5119 - val_accuracy: 0.7910\n",
      "Epoch 137/150\n",
      "30/30 [==============================] - 0s 6ms/step - loss: 0.3031 - accuracy: 0.8697 - val_loss: 0.5125 - val_accuracy: 0.7910\n",
      "Epoch 138/150\n",
      "30/30 [==============================] - 0s 6ms/step - loss: 0.3030 - accuracy: 0.8707 - val_loss: 0.5121 - val_accuracy: 0.7910\n",
      "Epoch 139/150\n",
      "30/30 [==============================] - 0s 6ms/step - loss: 0.3027 - accuracy: 0.8707 - val_loss: 0.5127 - val_accuracy: 0.7910\n",
      "Epoch 140/150\n",
      "30/30 [==============================] - 0s 7ms/step - loss: 0.3023 - accuracy: 0.8707 - val_loss: 0.5125 - val_accuracy: 0.7910\n",
      "Epoch 141/150\n",
      "30/30 [==============================] - 0s 6ms/step - loss: 0.3019 - accuracy: 0.8718 - val_loss: 0.5129 - val_accuracy: 0.7910\n",
      "Epoch 142/150\n",
      "30/30 [==============================] - 0s 6ms/step - loss: 0.3019 - accuracy: 0.8718 - val_loss: 0.5130 - val_accuracy: 0.7910\n",
      "Epoch 143/150\n",
      "30/30 [==============================] - 0s 6ms/step - loss: 0.3013 - accuracy: 0.8729 - val_loss: 0.5120 - val_accuracy: 0.7985\n",
      "Epoch 144/150\n",
      "30/30 [==============================] - 0s 7ms/step - loss: 0.3011 - accuracy: 0.8718 - val_loss: 0.5129 - val_accuracy: 0.7985\n",
      "Epoch 145/150\n",
      "30/30 [==============================] - 0s 7ms/step - loss: 0.3008 - accuracy: 0.8729 - val_loss: 0.5129 - val_accuracy: 0.7985\n",
      "Epoch 146/150\n",
      "30/30 [==============================] - 0s 6ms/step - loss: 0.3003 - accuracy: 0.8729 - val_loss: 0.5135 - val_accuracy: 0.7985\n",
      "Epoch 147/150\n",
      "30/30 [==============================] - 0s 7ms/step - loss: 0.3001 - accuracy: 0.8739 - val_loss: 0.5127 - val_accuracy: 0.7985\n",
      "Epoch 148/150\n",
      "30/30 [==============================] - 0s 6ms/step - loss: 0.2995 - accuracy: 0.8750 - val_loss: 0.5143 - val_accuracy: 0.8060\n",
      "Epoch 149/150\n",
      "30/30 [==============================] - 0s 6ms/step - loss: 0.2993 - accuracy: 0.8750 - val_loss: 0.5138 - val_accuracy: 0.8060\n",
      "Epoch 150/150\n",
      "30/30 [==============================] - 0s 6ms/step - loss: 0.2991 - accuracy: 0.8739 - val_loss: 0.5147 - val_accuracy: 0.8060\n",
      "INFO:tensorflow:Assets written to: .\\structured_data_classifier\\best_model\\assets\n"
     ]
    },
    {
     "data": {
      "text/plain": [
       "<keras.callbacks.History at 0x1abd3322d10>"
      ]
     },
     "execution_count": 49,
     "metadata": {},
     "output_type": "execute_result"
    }
   ],
   "source": [
    "'''\n",
    "data_2 = pd.read_csv(\"dataset/titanic/train.csv\")\n",
    "features = data_2.drop(columns=['Survived'])\n",
    "target = data_2['Survived']\n",
    "\n",
    "features_train, features_test, target_train, target_test = train_test_split(features, target, test_size=0.15, random_state=12345)\n",
    "'''\n",
    "\n",
    "print(features_train.shape)\n",
    "print(features_test.shape)\n",
    "\n",
    "clf = ak.StructuredDataClassifier(overwrite=True, max_trials=20)\n",
    "clf.fit(features_train_samp, target_train_samp, epochs = 150, validation_data=(features_test, target_test))"
   ]
  },
  {
   "cell_type": "code",
   "execution_count": 51,
   "metadata": {},
   "outputs": [
    {
     "name": "stdout",
     "output_type": "stream",
     "text": [
      "Model: \"model\"\n",
      "_________________________________________________________________\n",
      " Layer (type)                Output Shape              Param #   \n",
      "=================================================================\n",
      " input_1 (InputLayer)        [(None, 9)]               0         \n",
      "                                                                 \n",
      " multi_category_encoding (Mu  (None, 9)                0         \n",
      " ltiCategoryEncoding)                                            \n",
      "                                                                 \n",
      " normalization (Normalizatio  (None, 9)                19        \n",
      " n)                                                              \n",
      "                                                                 \n",
      " dense (Dense)               (None, 32)                320       \n",
      "                                                                 \n",
      " re_lu (ReLU)                (None, 32)                0         \n",
      "                                                                 \n",
      " dense_1 (Dense)             (None, 32)                1056      \n",
      "                                                                 \n",
      " re_lu_1 (ReLU)              (None, 32)                0         \n",
      "                                                                 \n",
      " dense_2 (Dense)             (None, 1)                 33        \n",
      "                                                                 \n",
      " classification_head_1 (Acti  (None, 1)                0         \n",
      " vation)                                                         \n",
      "                                                                 \n",
      "=================================================================\n",
      "Total params: 1,428\n",
      "Trainable params: 1,409\n",
      "Non-trainable params: 19\n",
      "_________________________________________________________________\n",
      "5/5 [==============================] - 0s 5ms/step - loss: 0.5147 - accuracy: 0.8060\n",
      "[0.5146670341491699, 0.8059701323509216]\n"
     ]
    },
    {
     "data": {
      "text/plain": [
       "'\\ntry:\\n    clf.save(\"model_autokeras\", save_format=\"tf\")\\nexcept Exception:\\n    clf.save(\"model_autokeras.h5\")\\n'"
      ]
     },
     "execution_count": 51,
     "metadata": {},
     "output_type": "execute_result"
    }
   ],
   "source": [
    "model = clf.export_model()\n",
    "model.summary()\n",
    "print(clf.evaluate(features_test, target_test))\n",
    "\n",
    "'''\n",
    "try:\n",
    "    clf.save(\"model_autokeras\", save_format=\"tf\")\n",
    "except Exception:\n",
    "    clf.save(\"model_autokeras.h5\")\n",
    "'''\n"
   ]
  },
  {
   "attachments": {},
   "cell_type": "markdown",
   "metadata": {},
   "source": [
    "##### Заметка\n",
    "Встроенные средства обработки данных хуже, чем обработка вручную. Модель в конечном итоге построилась более \"глубокой\", чем с предварительной обработкой\n"
   ]
  },
  {
   "attachments": {},
   "cell_type": "markdown",
   "metadata": {},
   "source": [
    "#### Пробуем собственную архитектуру"
   ]
  },
  {
   "cell_type": "code",
   "execution_count": 20,
   "metadata": {},
   "outputs": [
    {
     "name": "stdout",
     "output_type": "stream",
     "text": [
      "Model: \"sequential\"\n",
      "_________________________________________________________________\n",
      " Layer (type)                Output Shape              Param #   \n",
      "=================================================================\n",
      " dense (Dense)               (None, 9)                 90        \n",
      "                                                                 \n",
      " dense_1 (Dense)             (None, 32)                320       \n",
      "                                                                 \n",
      " dropout (Dropout)           (None, 32)                0         \n",
      "                                                                 \n",
      " batch_normalization (BatchN  (None, 32)               128       \n",
      " ormalization)                                                   \n",
      "                                                                 \n",
      " dense_2 (Dense)             (None, 64)                2112      \n",
      "                                                                 \n",
      " dropout_1 (Dropout)         (None, 64)                0         \n",
      "                                                                 \n",
      " batch_normalization_1 (Batc  (None, 64)               256       \n",
      " hNormalization)                                                 \n",
      "                                                                 \n",
      " dense_3 (Dense)             (None, 1)                 65        \n",
      "                                                                 \n",
      "=================================================================\n",
      "Total params: 2,971\n",
      "Trainable params: 2,779\n",
      "Non-trainable params: 192\n",
      "_________________________________________________________________\n"
     ]
    }
   ],
   "source": [
    "model = Sequential()\n",
    "model.add(Dense(features_train.shape[1], input_shape = (features_train.shape[1],), activation = 'relu'))\n",
    "\n",
    "model.add(Dense(32, activation = 'relu'))\n",
    "model.add(Dropout(0.2))\n",
    "model.add(BatchNormalization())\n",
    "\n",
    "\n",
    "model.add(Dense(64, activation = 'relu'))\n",
    "model.add(Dropout(0.2))\n",
    "model.add(BatchNormalization())\n",
    "\n",
    "model.add(Dense(1, activation = 'sigmoid'))\n",
    "optimizer = Adam(learning_rate = 0.001)\n",
    "\n",
    "\n",
    "model.compile(loss ='binary_crossentropy', optimizer = optimizer, metrics = ['BinaryAccuracy', 'AUC'])\n",
    "model.summary()"
   ]
  },
  {
   "cell_type": "code",
   "execution_count": 21,
   "metadata": {},
   "outputs": [
    {
     "name": "stdout",
     "output_type": "stream",
     "text": [
      "Epoch 1/1000\n",
      "117/117 - 5s - loss: 0.7790 - binary_accuracy: 0.5491 - auc: 0.5820 - val_loss: 0.6288 - val_binary_accuracy: 0.6940 - val_auc: 0.6827 - 5s/epoch - 39ms/step\n",
      "Epoch 2/1000\n",
      "117/117 - 1s - loss: 0.7164 - binary_accuracy: 0.5908 - auc: 0.6287 - val_loss: 0.6458 - val_binary_accuracy: 0.6642 - val_auc: 0.6837 - 660ms/epoch - 6ms/step\n",
      "Epoch 3/1000\n",
      "117/117 - 1s - loss: 0.6945 - binary_accuracy: 0.5994 - auc: 0.6354 - val_loss: 0.6433 - val_binary_accuracy: 0.6866 - val_auc: 0.7192 - 728ms/epoch - 6ms/step\n",
      "Epoch 4/1000\n",
      "117/117 - 1s - loss: 0.6767 - binary_accuracy: 0.6197 - auc: 0.6517 - val_loss: 0.6305 - val_binary_accuracy: 0.6791 - val_auc: 0.7287 - 709ms/epoch - 6ms/step\n",
      "Epoch 5/1000\n",
      "117/117 - 1s - loss: 0.6874 - binary_accuracy: 0.6026 - auc: 0.6364 - val_loss: 0.6234 - val_binary_accuracy: 0.6791 - val_auc: 0.7212 - 621ms/epoch - 5ms/step\n",
      "Epoch 6/1000\n",
      "117/117 - 1s - loss: 0.6646 - binary_accuracy: 0.5983 - auc: 0.6539 - val_loss: 0.6465 - val_binary_accuracy: 0.6791 - val_auc: 0.7158 - 568ms/epoch - 5ms/step\n",
      "Epoch 7/1000\n",
      "117/117 - 1s - loss: 0.6692 - binary_accuracy: 0.6250 - auc: 0.6521 - val_loss: 0.6306 - val_binary_accuracy: 0.6791 - val_auc: 0.7318 - 578ms/epoch - 5ms/step\n",
      "Epoch 8/1000\n",
      "117/117 - 1s - loss: 0.6551 - binary_accuracy: 0.6239 - auc: 0.6681 - val_loss: 0.6404 - val_binary_accuracy: 0.6716 - val_auc: 0.7326 - 654ms/epoch - 6ms/step\n",
      "Epoch 9/1000\n",
      "117/117 - 1s - loss: 0.6574 - binary_accuracy: 0.6100 - auc: 0.6565 - val_loss: 0.6385 - val_binary_accuracy: 0.6791 - val_auc: 0.7321 - 593ms/epoch - 5ms/step\n",
      "Epoch 10/1000\n",
      "117/117 - 1s - loss: 0.6458 - binary_accuracy: 0.6378 - auc: 0.6800 - val_loss: 0.6392 - val_binary_accuracy: 0.6866 - val_auc: 0.7384 - 653ms/epoch - 6ms/step\n",
      "Epoch 11/1000\n",
      "117/117 - 1s - loss: 0.6685 - binary_accuracy: 0.6271 - auc: 0.6508 - val_loss: 0.6438 - val_binary_accuracy: 0.6716 - val_auc: 0.7381 - 623ms/epoch - 5ms/step\n",
      "Epoch 12/1000\n",
      "117/117 - 1s - loss: 0.6630 - binary_accuracy: 0.6132 - auc: 0.6510 - val_loss: 0.6228 - val_binary_accuracy: 0.6716 - val_auc: 0.7286 - 630ms/epoch - 5ms/step\n",
      "Epoch 13/1000\n",
      "117/117 - 1s - loss: 0.6322 - binary_accuracy: 0.6496 - auc: 0.6978 - val_loss: 0.6341 - val_binary_accuracy: 0.6791 - val_auc: 0.7269 - 588ms/epoch - 5ms/step\n",
      "Epoch 14/1000\n",
      "117/117 - 1s - loss: 0.6441 - binary_accuracy: 0.6464 - auc: 0.6858 - val_loss: 0.6173 - val_binary_accuracy: 0.6791 - val_auc: 0.7242 - 647ms/epoch - 6ms/step\n",
      "Epoch 15/1000\n",
      "117/117 - 1s - loss: 0.6292 - binary_accuracy: 0.6528 - auc: 0.7032 - val_loss: 0.6051 - val_binary_accuracy: 0.7164 - val_auc: 0.7420 - 735ms/epoch - 6ms/step\n",
      "Epoch 16/1000\n",
      "117/117 - 1s - loss: 0.6263 - binary_accuracy: 0.6506 - auc: 0.7083 - val_loss: 0.6699 - val_binary_accuracy: 0.7015 - val_auc: 0.7453 - 715ms/epoch - 6ms/step\n",
      "Epoch 17/1000\n",
      "117/117 - 1s - loss: 0.6387 - binary_accuracy: 0.6293 - auc: 0.6863 - val_loss: 0.5999 - val_binary_accuracy: 0.6791 - val_auc: 0.7525 - 606ms/epoch - 5ms/step\n",
      "Epoch 18/1000\n",
      "117/117 - 1s - loss: 0.6137 - binary_accuracy: 0.6667 - auc: 0.7254 - val_loss: 0.6122 - val_binary_accuracy: 0.7164 - val_auc: 0.7685 - 592ms/epoch - 5ms/step\n",
      "Epoch 19/1000\n",
      "117/117 - 1s - loss: 0.6007 - binary_accuracy: 0.6934 - auc: 0.7403 - val_loss: 0.6122 - val_binary_accuracy: 0.7164 - val_auc: 0.7590 - 631ms/epoch - 5ms/step\n",
      "Epoch 20/1000\n",
      "117/117 - 1s - loss: 0.6309 - binary_accuracy: 0.6496 - auc: 0.7024 - val_loss: 0.6371 - val_binary_accuracy: 0.6940 - val_auc: 0.7364 - 593ms/epoch - 5ms/step\n",
      "Epoch 21/1000\n",
      "117/117 - 1s - loss: 0.6381 - binary_accuracy: 0.6335 - auc: 0.6864 - val_loss: 0.6390 - val_binary_accuracy: 0.6866 - val_auc: 0.7290 - 643ms/epoch - 5ms/step\n",
      "Epoch 22/1000\n",
      "117/117 - 1s - loss: 0.6251 - binary_accuracy: 0.6335 - auc: 0.7045 - val_loss: 0.6475 - val_binary_accuracy: 0.6791 - val_auc: 0.7347 - 654ms/epoch - 6ms/step\n",
      "Epoch 23/1000\n",
      "117/117 - 1s - loss: 0.6326 - binary_accuracy: 0.6506 - auc: 0.7030 - val_loss: 0.6113 - val_binary_accuracy: 0.7015 - val_auc: 0.7362 - 665ms/epoch - 6ms/step\n",
      "Epoch 24/1000\n",
      "117/117 - 1s - loss: 0.6196 - binary_accuracy: 0.6549 - auc: 0.7127 - val_loss: 0.6297 - val_binary_accuracy: 0.6866 - val_auc: 0.7433 - 670ms/epoch - 6ms/step\n",
      "Epoch 25/1000\n",
      "117/117 - 1s - loss: 0.6257 - binary_accuracy: 0.6421 - auc: 0.7013 - val_loss: 0.6749 - val_binary_accuracy: 0.4851 - val_auc: 0.7230 - 601ms/epoch - 5ms/step\n",
      "Epoch 26/1000\n",
      "117/117 - 1s - loss: 0.6404 - binary_accuracy: 0.6410 - auc: 0.6908 - val_loss: 0.6018 - val_binary_accuracy: 0.7015 - val_auc: 0.7432 - 587ms/epoch - 5ms/step\n",
      "Epoch 27/1000\n",
      "117/117 - 1s - loss: 0.6199 - binary_accuracy: 0.6592 - auc: 0.7197 - val_loss: 0.6118 - val_binary_accuracy: 0.6866 - val_auc: 0.7467 - 695ms/epoch - 6ms/step\n",
      "Epoch 28/1000\n",
      "117/117 - 1s - loss: 0.6004 - binary_accuracy: 0.6944 - auc: 0.7456 - val_loss: 0.6186 - val_binary_accuracy: 0.7015 - val_auc: 0.7375 - 673ms/epoch - 6ms/step\n",
      "Epoch 29/1000\n",
      "117/117 - 1s - loss: 0.6152 - binary_accuracy: 0.6870 - auc: 0.7245 - val_loss: 0.6391 - val_binary_accuracy: 0.7015 - val_auc: 0.7423 - 657ms/epoch - 6ms/step\n",
      "Epoch 30/1000\n",
      "117/117 - 1s - loss: 0.6136 - binary_accuracy: 0.6624 - auc: 0.7236 - val_loss: 0.6329 - val_binary_accuracy: 0.7090 - val_auc: 0.7491 - 542ms/epoch - 5ms/step\n",
      "Epoch 31/1000\n",
      "117/117 - 1s - loss: 0.6149 - binary_accuracy: 0.6645 - auc: 0.7226 - val_loss: 0.6356 - val_binary_accuracy: 0.6343 - val_auc: 0.7402 - 531ms/epoch - 5ms/step\n",
      "Epoch 32/1000\n",
      "117/117 - 1s - loss: 0.6144 - binary_accuracy: 0.6624 - auc: 0.7189 - val_loss: 0.6338 - val_binary_accuracy: 0.6343 - val_auc: 0.7389 - 634ms/epoch - 5ms/step\n",
      "Epoch 33/1000\n",
      "117/117 - 1s - loss: 0.6152 - binary_accuracy: 0.6667 - auc: 0.7187 - val_loss: 0.6351 - val_binary_accuracy: 0.6343 - val_auc: 0.7393 - 684ms/epoch - 6ms/step\n",
      "Epoch 34/1000\n",
      "117/117 - 1s - loss: 0.5972 - binary_accuracy: 0.6880 - auc: 0.7496 - val_loss: 0.6199 - val_binary_accuracy: 0.6716 - val_auc: 0.7459 - 628ms/epoch - 5ms/step\n",
      "Epoch 35/1000\n",
      "117/117 - 1s - loss: 0.6103 - binary_accuracy: 0.6720 - auc: 0.7294 - val_loss: 0.6140 - val_binary_accuracy: 0.6716 - val_auc: 0.7488 - 595ms/epoch - 5ms/step\n"
     ]
    },
    {
     "data": {
      "image/png": "[encoded data removed]",
      "text/plain": [
       "<Figure size 640x480 with 1 Axes>"
      ]
     },
     "metadata": {},
     "output_type": "display_data"
    },
    {
     "data": {
      "image/png": "[encoded data removed]",
      "text/plain": [
       "<Figure size 640x480 with 1 Axes>"
      ]
     },
     "metadata": {},
     "output_type": "display_data"
    },
    {
     "name": "stdout",
     "output_type": "stream",
     "text": [
      "CPU times: total: 3.62 s\n",
      "Wall time: 26.9 s\n"
     ]
    }
   ],
   "source": [
    "%%time\n",
    "callback = tf.keras.callbacks.EarlyStopping(monitor='val_binary_accuracy', patience=20, mode='max', min_delta=0.0001, restore_best_weights = True)\n",
    "\n",
    "history = model.fit(features_train_samp, target_train_samp, verbose = 2, batch_size = 8, epochs = 1000, \n",
    "    validation_data=(features_test, target_test), callbacks=[callback])\n",
    "\n",
    "\n",
    "visuall(history, 'loss')\n",
    "visuall(history, 'binary_accuracy')"
   ]
  },
  {
   "cell_type": "code",
   "execution_count": 43,
   "metadata": {},
   "outputs": [
    {
     "data": {
      "text/plain": [
       "dict_keys(['loss', 'binary_accuracy', 'val_loss', 'val_binary_accuracy'])"
      ]
     },
     "execution_count": 43,
     "metadata": {},
     "output_type": "execute_result"
    }
   ],
   "source": [
    "history.history.keys()"
   ]
  },
  {
   "cell_type": "code",
   "execution_count": 26,
   "metadata": {},
   "outputs": [
    {
     "name": "stdout",
     "output_type": "stream",
     "text": [
      "5/5 [==============================] - 0s 3ms/step - loss: 0.6051 - binary_accuracy: 0.7164 - auc: 0.7420\n"
     ]
    },
    {
     "data": {
      "text/plain": [
       "0.7164179086685181"
      ]
     },
     "execution_count": 26,
     "metadata": {},
     "output_type": "execute_result"
    }
   ],
   "source": [
    "bin_acc = model.evaluate(features_test, target_test)[1]\n",
    "bin_acc"
   ]
  },
  {
   "attachments": {},
   "cell_type": "markdown",
   "metadata": {},
   "source": [
    "## Реализуем алгоритм NAS основанный на TPE \n",
    "TPE - Tree-structured Parzen Estimator (оценщик Парзена с древовидной структурой)"
   ]
  },
  {
   "cell_type": "code",
   "execution_count": null,
   "metadata": {},
   "outputs": [],
   "source": [
    "print(\"Num GPUs Available: \", tf.config.list_physical_devices('GPU'))"
   ]
  },
  {
   "cell_type": "code",
   "execution_count": 31,
   "metadata": {},
   "outputs": [
    {
     "name": "stderr",
     "output_type": "stream",
     "text": [
      "[I 2023-06-06 10:56:47,205] Trial 47 finished with value: 0.8134328126907349 and parameters: {'count_layers': 3, 'units': 256, 'dropout': 0.2}. Best is trial 24 with value: 0.8283582329750061.\n"
     ]
    },
    {
     "name": "stdout",
     "output_type": "stream",
     "text": [
      "Model: \"sequential_58\"\n",
      "_________________________________________________________________\n",
      " Layer (type)                Output Shape              Param #   \n",
      "=================================================================\n",
      " dense_200 (Dense)           (None, 512)               5120      \n",
      "                                                                 \n",
      " dropout_143 (Dropout)       (None, 512)               0         \n",
      "                                                                 \n",
      " normalization_139 (Normaliz  (None, 512)              1025      \n",
      " ation)                                                          \n",
      "                                                                 \n",
      " dense_201 (Dense)           (None, 256)               131328    \n",
      "                                                                 \n",
      " dropout_144 (Dropout)       (None, 256)               0         \n",
      "                                                                 \n",
      " normalization_140 (Normaliz  (None, 256)              513       \n",
      " ation)                                                          \n",
      "                                                                 \n",
      " dense_202 (Dense)           (None, 128)               32896     \n",
      "                                                                 \n",
      " dropout_145 (Dropout)       (None, 128)               0         \n",
      "                                                                 \n",
      " normalization_141 (Normaliz  (None, 128)              257       \n",
      " ation)                                                          \n",
      "                                                                 \n",
      " dense_203 (Dense)           (None, 85)                10965     \n",
      "                                                                 \n",
      " dropout_146 (Dropout)       (None, 85)                0         \n",
      "                                                                 \n",
      " normalization_142 (Normaliz  (None, 85)               171       \n",
      " ation)                                                          \n",
      "                                                                 \n",
      " dense_204 (Dense)           (None, 1)                 86        \n",
      "                                                                 \n",
      "=================================================================\n",
      "Total params: 182,361\n",
      "Trainable params: 180,395\n",
      "Non-trainable params: 1,966\n",
      "_________________________________________________________________\n",
      "Epoch 1/1000\n",
      "117/117 - 1s - loss: 0.9902 - binary_accuracy: 0.5609 - auc: 0.5971 - val_loss: 0.6352 - val_binary_accuracy: 0.6791 - val_auc: 0.7151 - 1s/epoch - 11ms/step\n",
      "Epoch 2/1000\n",
      "117/117 - 1s - loss: 0.7781 - binary_accuracy: 0.6068 - auc: 0.6325 - val_loss: 0.6153 - val_binary_accuracy: 0.6493 - val_auc: 0.7180 - 641ms/epoch - 5ms/step\n",
      "Epoch 3/1000\n",
      "117/117 - 1s - loss: 0.7296 - binary_accuracy: 0.6175 - auc: 0.6593 - val_loss: 0.6233 - val_binary_accuracy: 0.6866 - val_auc: 0.7278 - 548ms/epoch - 5ms/step\n",
      "Epoch 4/1000\n",
      "117/117 - 1s - loss: 0.6959 - binary_accuracy: 0.6271 - auc: 0.6697 - val_loss: 0.6510 - val_binary_accuracy: 0.6716 - val_auc: 0.7307 - 546ms/epoch - 5ms/step\n",
      "Epoch 5/1000\n",
      "117/117 - 1s - loss: 0.6622 - binary_accuracy: 0.6368 - auc: 0.6835 - val_loss: 0.6182 - val_binary_accuracy: 0.6866 - val_auc: 0.7439 - 514ms/epoch - 4ms/step\n",
      "Epoch 6/1000\n",
      "117/117 - 1s - loss: 0.6568 - binary_accuracy: 0.6453 - auc: 0.7125 - val_loss: 0.5974 - val_binary_accuracy: 0.6940 - val_auc: 0.7457 - 545ms/epoch - 5ms/step\n",
      "Epoch 7/1000\n",
      "117/117 - 1s - loss: 0.6163 - binary_accuracy: 0.6806 - auc: 0.7430 - val_loss: 0.6134 - val_binary_accuracy: 0.7164 - val_auc: 0.7525 - 593ms/epoch - 5ms/step\n",
      "Epoch 8/1000\n",
      "117/117 - 1s - loss: 0.6042 - binary_accuracy: 0.6838 - auc: 0.7549 - val_loss: 0.5719 - val_binary_accuracy: 0.7612 - val_auc: 0.7908 - 563ms/epoch - 5ms/step\n",
      "Epoch 9/1000\n",
      "117/117 - 1s - loss: 0.5909 - binary_accuracy: 0.7297 - auc: 0.7819 - val_loss: 0.5572 - val_binary_accuracy: 0.7687 - val_auc: 0.7915 - 585ms/epoch - 5ms/step\n",
      "Epoch 10/1000\n",
      "117/117 - 1s - loss: 0.5634 - binary_accuracy: 0.7607 - auc: 0.8126 - val_loss: 0.5443 - val_binary_accuracy: 0.7687 - val_auc: 0.8058 - 567ms/epoch - 5ms/step\n",
      "Epoch 11/1000\n",
      "117/117 - 1s - loss: 0.5622 - binary_accuracy: 0.7575 - auc: 0.8075 - val_loss: 0.5755 - val_binary_accuracy: 0.7463 - val_auc: 0.7897 - 597ms/epoch - 5ms/step\n",
      "Epoch 12/1000\n",
      "117/117 - 1s - loss: 0.5471 - binary_accuracy: 0.7692 - auc: 0.8276 - val_loss: 0.5400 - val_binary_accuracy: 0.7836 - val_auc: 0.8074 - 585ms/epoch - 5ms/step\n",
      "Epoch 13/1000\n",
      "117/117 - 1s - loss: 0.5282 - binary_accuracy: 0.7788 - auc: 0.8258 - val_loss: 0.5266 - val_binary_accuracy: 0.7612 - val_auc: 0.8010 - 556ms/epoch - 5ms/step\n",
      "Epoch 14/1000\n",
      "117/117 - 1s - loss: 0.5247 - binary_accuracy: 0.7810 - auc: 0.8333 - val_loss: 0.5190 - val_binary_accuracy: 0.7761 - val_auc: 0.8081 - 543ms/epoch - 5ms/step\n",
      "Epoch 15/1000\n",
      "117/117 - 1s - loss: 0.5173 - binary_accuracy: 0.7799 - auc: 0.8373 - val_loss: 0.5157 - val_binary_accuracy: 0.7836 - val_auc: 0.8099 - 559ms/epoch - 5ms/step\n",
      "Epoch 16/1000\n",
      "117/117 - 1s - loss: 0.5046 - binary_accuracy: 0.8024 - auc: 0.8438 - val_loss: 0.5115 - val_binary_accuracy: 0.7612 - val_auc: 0.8091 - 540ms/epoch - 5ms/step\n",
      "Epoch 17/1000\n",
      "117/117 - 1s - loss: 0.4829 - binary_accuracy: 0.8024 - auc: 0.8533 - val_loss: 0.5042 - val_binary_accuracy: 0.7612 - val_auc: 0.8051 - 531ms/epoch - 5ms/step\n",
      "Epoch 18/1000\n",
      "117/117 - 1s - loss: 0.4838 - binary_accuracy: 0.8130 - auc: 0.8545 - val_loss: 0.5197 - val_binary_accuracy: 0.7985 - val_auc: 0.7918 - 509ms/epoch - 4ms/step\n",
      "Epoch 19/1000\n",
      "117/117 - 1s - loss: 0.4728 - binary_accuracy: 0.8098 - auc: 0.8591 - val_loss: 0.5194 - val_binary_accuracy: 0.7910 - val_auc: 0.8118 - 504ms/epoch - 4ms/step\n",
      "Epoch 20/1000\n"
     ]
    },
    {
     "name": "stderr",
     "output_type": "stream",
     "text": [
      "[W 2023-06-06 10:56:59,347] Trial 48 failed with parameters: {'count_layers': 4, 'units': 512, 'dropout': 0.3} because of the following error: KeyboardInterrupt().\n",
      "Traceback (most recent call last):\n",
      "  File \"d:\\Jupiter\\AutoML_with_custom_NAS\\.venv\\lib\\site-packages\\optuna\\study\\_optimize.py\", line 200, in _run_trial\n",
      "    value_or_values = func(trial)\n",
      "  File \"C:\\Users\\ykolt\\AppData\\Local\\Temp\\ipykernel_23476\\2677353517.py\", line 25, in nas\n",
      "    history = model.fit(features_train_samp, target_train_samp, verbose = 2, batch_size = 8, epochs = 1000,\n",
      "  File \"d:\\Jupiter\\AutoML_with_custom_NAS\\.venv\\lib\\site-packages\\keras\\utils\\traceback_utils.py\", line 65, in error_handler\n",
      "    return fn(*args, **kwargs)\n",
      "  File \"d:\\Jupiter\\AutoML_with_custom_NAS\\.venv\\lib\\site-packages\\keras\\engine\\training.py\", line 1606, in fit\n",
      "    val_logs = self.evaluate(\n",
      "  File \"d:\\Jupiter\\AutoML_with_custom_NAS\\.venv\\lib\\site-packages\\keras\\utils\\traceback_utils.py\", line 65, in error_handler\n",
      "    return fn(*args, **kwargs)\n",
      "  File \"d:\\Jupiter\\AutoML_with_custom_NAS\\.venv\\lib\\site-packages\\keras\\engine\\training.py\", line 1947, in evaluate\n",
      "    tmp_logs = self.test_function(iterator)\n",
      "  File \"d:\\Jupiter\\AutoML_with_custom_NAS\\.venv\\lib\\site-packages\\tensorflow\\python\\util\\traceback_utils.py\", line 150, in error_handler\n",
      "    return fn(*args, **kwargs)\n",
      "  File \"d:\\Jupiter\\AutoML_with_custom_NAS\\.venv\\lib\\site-packages\\tensorflow\\python\\eager\\def_function.py\", line 915, in __call__\n",
      "    result = self._call(*args, **kwds)\n",
      "  File \"d:\\Jupiter\\AutoML_with_custom_NAS\\.venv\\lib\\site-packages\\tensorflow\\python\\eager\\def_function.py\", line 954, in _call\n",
      "    results = self._stateful_fn(*args, **kwds)\n",
      "  File \"d:\\Jupiter\\AutoML_with_custom_NAS\\.venv\\lib\\site-packages\\tensorflow\\python\\eager\\function.py\", line 2496, in __call__\n",
      "    return graph_function._call_flat(\n",
      "  File \"d:\\Jupiter\\AutoML_with_custom_NAS\\.venv\\lib\\site-packages\\tensorflow\\python\\eager\\function.py\", line 1862, in _call_flat\n",
      "    return self._build_call_outputs(self._inference_function.call(\n",
      "  File \"d:\\Jupiter\\AutoML_with_custom_NAS\\.venv\\lib\\site-packages\\tensorflow\\python\\eager\\function.py\", line 499, in call\n",
      "    outputs = execute.execute(\n",
      "  File \"d:\\Jupiter\\AutoML_with_custom_NAS\\.venv\\lib\\site-packages\\tensorflow\\python\\eager\\execute.py\", line 54, in quick_execute\n",
      "    tensors = pywrap_tfe.TFE_Py_Execute(ctx._handle, device_name, op_name,\n",
      "KeyboardInterrupt\n",
      "[W 2023-06-06 10:56:59,348] Trial 48 failed with value None.\n"
     ]
    },
    {
     "ename": "KeyboardInterrupt",
     "evalue": "",
     "output_type": "error",
     "traceback": [
      "\u001b[1;31m---------------------------------------------------------------------------\u001b[0m",
      "\u001b[1;31mKeyboardInterrupt\u001b[0m                         Traceback (most recent call last)",
      "Cell \u001b[1;32mIn[31], line 35\u001b[0m\n\u001b[0;32m     33\u001b[0m sampler \u001b[39m=\u001b[39m TPESampler(seed\u001b[39m=\u001b[39m\u001b[39m12345\u001b[39m)\n\u001b[0;32m     34\u001b[0m study \u001b[39m=\u001b[39m optuna\u001b[39m.\u001b[39mcreate_study(study_name\u001b[39m=\u001b[39m\u001b[39m\"\u001b[39m\u001b[39mANN\u001b[39m\u001b[39m\"\u001b[39m, direction\u001b[39m=\u001b[39m\u001b[39m\"\u001b[39m\u001b[39mmaximize\u001b[39m\u001b[39m\"\u001b[39m, sampler\u001b[39m=\u001b[39msampler)\n\u001b[1;32m---> 35\u001b[0m study\u001b[39m.\u001b[39;49moptimize(nas, n_trials\u001b[39m=\u001b[39;49m\u001b[39m100\u001b[39;49m)\n",
      "File \u001b[1;32md:\\Jupiter\\AutoML_with_custom_NAS\\.venv\\lib\\site-packages\\optuna\\study\\study.py:443\u001b[0m, in \u001b[0;36mStudy.optimize\u001b[1;34m(self, func, n_trials, timeout, n_jobs, catch, callbacks, gc_after_trial, show_progress_bar)\u001b[0m\n\u001b[0;32m    339\u001b[0m \u001b[39mdef\u001b[39;00m \u001b[39moptimize\u001b[39m(\n\u001b[0;32m    340\u001b[0m     \u001b[39mself\u001b[39m,\n\u001b[0;32m    341\u001b[0m     func: ObjectiveFuncType,\n\u001b[1;32m   (...)\u001b[0m\n\u001b[0;32m    348\u001b[0m     show_progress_bar: \u001b[39mbool\u001b[39m \u001b[39m=\u001b[39m \u001b[39mFalse\u001b[39;00m,\n\u001b[0;32m    349\u001b[0m ) \u001b[39m-\u001b[39m\u001b[39m>\u001b[39m \u001b[39mNone\u001b[39;00m:\n\u001b[0;32m    350\u001b[0m \u001b[39m    \u001b[39m\u001b[39m\"\"\"Optimize an objective function.\u001b[39;00m\n\u001b[0;32m    351\u001b[0m \n\u001b[0;32m    352\u001b[0m \u001b[39m    Optimization is done by choosing a suitable set of hyperparameter values from a given\u001b[39;00m\n\u001b[1;32m   (...)\u001b[0m\n\u001b[0;32m    440\u001b[0m \u001b[39m            If nested invocation of this method occurs.\u001b[39;00m\n\u001b[0;32m    441\u001b[0m \u001b[39m    \"\"\"\u001b[39;00m\n\u001b[1;32m--> 443\u001b[0m     _optimize(\n\u001b[0;32m    444\u001b[0m         study\u001b[39m=\u001b[39;49m\u001b[39mself\u001b[39;49m,\n\u001b[0;32m    445\u001b[0m         func\u001b[39m=\u001b[39;49mfunc,\n\u001b[0;32m    446\u001b[0m         n_trials\u001b[39m=\u001b[39;49mn_trials,\n\u001b[0;32m    447\u001b[0m         timeout\u001b[39m=\u001b[39;49mtimeout,\n\u001b[0;32m    448\u001b[0m         n_jobs\u001b[39m=\u001b[39;49mn_jobs,\n\u001b[0;32m    449\u001b[0m         catch\u001b[39m=\u001b[39;49m\u001b[39mtuple\u001b[39;49m(catch) \u001b[39mif\u001b[39;49;00m \u001b[39misinstance\u001b[39;49m(catch, Iterable) \u001b[39melse\u001b[39;49;00m (catch,),\n\u001b[0;32m    450\u001b[0m         callbacks\u001b[39m=\u001b[39;49mcallbacks,\n\u001b[0;32m    451\u001b[0m         gc_after_trial\u001b[39m=\u001b[39;49mgc_after_trial,\n\u001b[0;32m    452\u001b[0m         show_progress_bar\u001b[39m=\u001b[39;49mshow_progress_bar,\n\u001b[0;32m    453\u001b[0m     )\n",
      "File \u001b[1;32md:\\Jupiter\\AutoML_with_custom_NAS\\.venv\\lib\\site-packages\\optuna\\study\\_optimize.py:66\u001b[0m, in \u001b[0;36m_optimize\u001b[1;34m(study, func, n_trials, timeout, n_jobs, catch, callbacks, gc_after_trial, show_progress_bar)\u001b[0m\n\u001b[0;32m     64\u001b[0m \u001b[39mtry\u001b[39;00m:\n\u001b[0;32m     65\u001b[0m     \u001b[39mif\u001b[39;00m n_jobs \u001b[39m==\u001b[39m \u001b[39m1\u001b[39m:\n\u001b[1;32m---> 66\u001b[0m         _optimize_sequential(\n\u001b[0;32m     67\u001b[0m             study,\n\u001b[0;32m     68\u001b[0m             func,\n\u001b[0;32m     69\u001b[0m             n_trials,\n\u001b[0;32m     70\u001b[0m             timeout,\n\u001b[0;32m     71\u001b[0m             catch,\n\u001b[0;32m     72\u001b[0m             callbacks,\n\u001b[0;32m     73\u001b[0m             gc_after_trial,\n\u001b[0;32m     74\u001b[0m             reseed_sampler_rng\u001b[39m=\u001b[39;49m\u001b[39mFalse\u001b[39;49;00m,\n\u001b[0;32m     75\u001b[0m             time_start\u001b[39m=\u001b[39;49m\u001b[39mNone\u001b[39;49;00m,\n\u001b[0;32m     76\u001b[0m             progress_bar\u001b[39m=\u001b[39;49mprogress_bar,\n\u001b[0;32m     77\u001b[0m         )\n\u001b[0;32m     78\u001b[0m     \u001b[39melse\u001b[39;00m:\n\u001b[0;32m     79\u001b[0m         \u001b[39mif\u001b[39;00m n_jobs \u001b[39m==\u001b[39m \u001b[39m-\u001b[39m\u001b[39m1\u001b[39m:\n",
      "File \u001b[1;32md:\\Jupiter\\AutoML_with_custom_NAS\\.venv\\lib\\site-packages\\optuna\\study\\_optimize.py:163\u001b[0m, in \u001b[0;36m_optimize_sequential\u001b[1;34m(study, func, n_trials, timeout, catch, callbacks, gc_after_trial, reseed_sampler_rng, time_start, progress_bar)\u001b[0m\n\u001b[0;32m    160\u001b[0m         \u001b[39mbreak\u001b[39;00m\n\u001b[0;32m    162\u001b[0m \u001b[39mtry\u001b[39;00m:\n\u001b[1;32m--> 163\u001b[0m     frozen_trial \u001b[39m=\u001b[39m _run_trial(study, func, catch)\n\u001b[0;32m    164\u001b[0m \u001b[39mfinally\u001b[39;00m:\n\u001b[0;32m    165\u001b[0m     \u001b[39m# The following line mitigates memory problems that can be occurred in some\u001b[39;00m\n\u001b[0;32m    166\u001b[0m     \u001b[39m# environments (e.g., services that use computing containers such as GitHub Actions).\u001b[39;00m\n\u001b[0;32m    167\u001b[0m     \u001b[39m# Please refer to the following PR for further details:\u001b[39;00m\n\u001b[0;32m    168\u001b[0m     \u001b[39m# https://github.com/optuna/optuna/pull/325.\u001b[39;00m\n\u001b[0;32m    169\u001b[0m     \u001b[39mif\u001b[39;00m gc_after_trial:\n",
      "File \u001b[1;32md:\\Jupiter\\AutoML_with_custom_NAS\\.venv\\lib\\site-packages\\optuna\\study\\_optimize.py:251\u001b[0m, in \u001b[0;36m_run_trial\u001b[1;34m(study, func, catch)\u001b[0m\n\u001b[0;32m    244\u001b[0m         \u001b[39massert\u001b[39;00m \u001b[39mFalse\u001b[39;00m, \u001b[39m\"\u001b[39m\u001b[39mShould not reach.\u001b[39m\u001b[39m\"\u001b[39m\n\u001b[0;32m    246\u001b[0m \u001b[39mif\u001b[39;00m (\n\u001b[0;32m    247\u001b[0m     frozen_trial\u001b[39m.\u001b[39mstate \u001b[39m==\u001b[39m TrialState\u001b[39m.\u001b[39mFAIL\n\u001b[0;32m    248\u001b[0m     \u001b[39mand\u001b[39;00m func_err \u001b[39mis\u001b[39;00m \u001b[39mnot\u001b[39;00m \u001b[39mNone\u001b[39;00m\n\u001b[0;32m    249\u001b[0m     \u001b[39mand\u001b[39;00m \u001b[39mnot\u001b[39;00m \u001b[39misinstance\u001b[39m(func_err, catch)\n\u001b[0;32m    250\u001b[0m ):\n\u001b[1;32m--> 251\u001b[0m     \u001b[39mraise\u001b[39;00m func_err\n\u001b[0;32m    252\u001b[0m \u001b[39mreturn\u001b[39;00m frozen_trial\n",
      "File \u001b[1;32md:\\Jupiter\\AutoML_with_custom_NAS\\.venv\\lib\\site-packages\\optuna\\study\\_optimize.py:200\u001b[0m, in \u001b[0;36m_run_trial\u001b[1;34m(study, func, catch)\u001b[0m\n\u001b[0;32m    198\u001b[0m \u001b[39mwith\u001b[39;00m get_heartbeat_thread(trial\u001b[39m.\u001b[39m_trial_id, study\u001b[39m.\u001b[39m_storage):\n\u001b[0;32m    199\u001b[0m     \u001b[39mtry\u001b[39;00m:\n\u001b[1;32m--> 200\u001b[0m         value_or_values \u001b[39m=\u001b[39m func(trial)\n\u001b[0;32m    201\u001b[0m     \u001b[39mexcept\u001b[39;00m exceptions\u001b[39m.\u001b[39mTrialPruned \u001b[39mas\u001b[39;00m e:\n\u001b[0;32m    202\u001b[0m         \u001b[39m# TODO(mamu): Handle multi-objective cases.\u001b[39;00m\n\u001b[0;32m    203\u001b[0m         state \u001b[39m=\u001b[39m TrialState\u001b[39m.\u001b[39mPRUNED\n",
      "Cell \u001b[1;32mIn[31], line 25\u001b[0m, in \u001b[0;36mnas\u001b[1;34m(trail)\u001b[0m\n\u001b[0;32m     22\u001b[0m model\u001b[39m.\u001b[39mcompile(loss \u001b[39m=\u001b[39m\u001b[39m'\u001b[39m\u001b[39mbinary_crossentropy\u001b[39m\u001b[39m'\u001b[39m, optimizer \u001b[39m=\u001b[39m optimizer, metrics \u001b[39m=\u001b[39m [\u001b[39m'\u001b[39m\u001b[39mBinaryAccuracy\u001b[39m\u001b[39m'\u001b[39m, \u001b[39m'\u001b[39m\u001b[39mAUC\u001b[39m\u001b[39m'\u001b[39m])\n\u001b[0;32m     23\u001b[0m model\u001b[39m.\u001b[39msummary()\n\u001b[1;32m---> 25\u001b[0m history \u001b[39m=\u001b[39m model\u001b[39m.\u001b[39;49mfit(features_train_samp, target_train_samp, verbose \u001b[39m=\u001b[39;49m \u001b[39m2\u001b[39;49m, batch_size \u001b[39m=\u001b[39;49m \u001b[39m8\u001b[39;49m, epochs \u001b[39m=\u001b[39;49m \u001b[39m1000\u001b[39;49m, \n\u001b[0;32m     26\u001b[0m     validation_data\u001b[39m=\u001b[39;49m(features_test, target_test), callbacks\u001b[39m=\u001b[39;49m[callback])\n\u001b[0;32m     28\u001b[0m bin_acc \u001b[39m=\u001b[39m model\u001b[39m.\u001b[39mevaluate(features_test, target_test)[\u001b[39m1\u001b[39m]\n\u001b[0;32m     29\u001b[0m clear_output(wait\u001b[39m=\u001b[39m\u001b[39mTrue\u001b[39;00m)\n",
      "File \u001b[1;32md:\\Jupiter\\AutoML_with_custom_NAS\\.venv\\lib\\site-packages\\keras\\utils\\traceback_utils.py:65\u001b[0m, in \u001b[0;36mfilter_traceback.<locals>.error_handler\u001b[1;34m(*args, **kwargs)\u001b[0m\n\u001b[0;32m     63\u001b[0m filtered_tb \u001b[39m=\u001b[39m \u001b[39mNone\u001b[39;00m\n\u001b[0;32m     64\u001b[0m \u001b[39mtry\u001b[39;00m:\n\u001b[1;32m---> 65\u001b[0m     \u001b[39mreturn\u001b[39;00m fn(\u001b[39m*\u001b[39margs, \u001b[39m*\u001b[39m\u001b[39m*\u001b[39mkwargs)\n\u001b[0;32m     66\u001b[0m \u001b[39mexcept\u001b[39;00m \u001b[39mException\u001b[39;00m \u001b[39mas\u001b[39;00m e:\n\u001b[0;32m     67\u001b[0m     filtered_tb \u001b[39m=\u001b[39m _process_traceback_frames(e\u001b[39m.\u001b[39m__traceback__)\n",
      "File \u001b[1;32md:\\Jupiter\\AutoML_with_custom_NAS\\.venv\\lib\\site-packages\\keras\\engine\\training.py:1606\u001b[0m, in \u001b[0;36mModel.fit\u001b[1;34m(self, x, y, batch_size, epochs, verbose, callbacks, validation_split, validation_data, shuffle, class_weight, sample_weight, initial_epoch, steps_per_epoch, validation_steps, validation_batch_size, validation_freq, max_queue_size, workers, use_multiprocessing)\u001b[0m\n\u001b[0;32m   1591\u001b[0m \u001b[39mif\u001b[39;00m \u001b[39mgetattr\u001b[39m(\u001b[39mself\u001b[39m, \u001b[39m\"\u001b[39m\u001b[39m_eval_data_handler\u001b[39m\u001b[39m\"\u001b[39m, \u001b[39mNone\u001b[39;00m) \u001b[39mis\u001b[39;00m \u001b[39mNone\u001b[39;00m:\n\u001b[0;32m   1592\u001b[0m     \u001b[39mself\u001b[39m\u001b[39m.\u001b[39m_eval_data_handler \u001b[39m=\u001b[39m data_adapter\u001b[39m.\u001b[39mget_data_handler(\n\u001b[0;32m   1593\u001b[0m         x\u001b[39m=\u001b[39mval_x,\n\u001b[0;32m   1594\u001b[0m         y\u001b[39m=\u001b[39mval_y,\n\u001b[1;32m   (...)\u001b[0m\n\u001b[0;32m   1604\u001b[0m         steps_per_execution\u001b[39m=\u001b[39m\u001b[39mself\u001b[39m\u001b[39m.\u001b[39m_steps_per_execution,\n\u001b[0;32m   1605\u001b[0m     )\n\u001b[1;32m-> 1606\u001b[0m val_logs \u001b[39m=\u001b[39m \u001b[39mself\u001b[39;49m\u001b[39m.\u001b[39;49mevaluate(\n\u001b[0;32m   1607\u001b[0m     x\u001b[39m=\u001b[39;49mval_x,\n\u001b[0;32m   1608\u001b[0m     y\u001b[39m=\u001b[39;49mval_y,\n\u001b[0;32m   1609\u001b[0m     sample_weight\u001b[39m=\u001b[39;49mval_sample_weight,\n\u001b[0;32m   1610\u001b[0m     batch_size\u001b[39m=\u001b[39;49mvalidation_batch_size \u001b[39mor\u001b[39;49;00m batch_size,\n\u001b[0;32m   1611\u001b[0m     steps\u001b[39m=\u001b[39;49mvalidation_steps,\n\u001b[0;32m   1612\u001b[0m     callbacks\u001b[39m=\u001b[39;49mcallbacks,\n\u001b[0;32m   1613\u001b[0m     max_queue_size\u001b[39m=\u001b[39;49mmax_queue_size,\n\u001b[0;32m   1614\u001b[0m     workers\u001b[39m=\u001b[39;49mworkers,\n\u001b[0;32m   1615\u001b[0m     use_multiprocessing\u001b[39m=\u001b[39;49muse_multiprocessing,\n\u001b[0;32m   1616\u001b[0m     return_dict\u001b[39m=\u001b[39;49m\u001b[39mTrue\u001b[39;49;00m,\n\u001b[0;32m   1617\u001b[0m     _use_cached_eval_dataset\u001b[39m=\u001b[39;49m\u001b[39mTrue\u001b[39;49;00m,\n\u001b[0;32m   1618\u001b[0m )\n\u001b[0;32m   1619\u001b[0m val_logs \u001b[39m=\u001b[39m {\n\u001b[0;32m   1620\u001b[0m     \u001b[39m\"\u001b[39m\u001b[39mval_\u001b[39m\u001b[39m\"\u001b[39m \u001b[39m+\u001b[39m name: val \u001b[39mfor\u001b[39;00m name, val \u001b[39min\u001b[39;00m val_logs\u001b[39m.\u001b[39mitems()\n\u001b[0;32m   1621\u001b[0m }\n\u001b[0;32m   1622\u001b[0m epoch_logs\u001b[39m.\u001b[39mupdate(val_logs)\n",
      "File \u001b[1;32md:\\Jupiter\\AutoML_with_custom_NAS\\.venv\\lib\\site-packages\\keras\\utils\\traceback_utils.py:65\u001b[0m, in \u001b[0;36mfilter_traceback.<locals>.error_handler\u001b[1;34m(*args, **kwargs)\u001b[0m\n\u001b[0;32m     63\u001b[0m filtered_tb \u001b[39m=\u001b[39m \u001b[39mNone\u001b[39;00m\n\u001b[0;32m     64\u001b[0m \u001b[39mtry\u001b[39;00m:\n\u001b[1;32m---> 65\u001b[0m     \u001b[39mreturn\u001b[39;00m fn(\u001b[39m*\u001b[39margs, \u001b[39m*\u001b[39m\u001b[39m*\u001b[39mkwargs)\n\u001b[0;32m     66\u001b[0m \u001b[39mexcept\u001b[39;00m \u001b[39mException\u001b[39;00m \u001b[39mas\u001b[39;00m e:\n\u001b[0;32m     67\u001b[0m     filtered_tb \u001b[39m=\u001b[39m _process_traceback_frames(e\u001b[39m.\u001b[39m__traceback__)\n",
      "File \u001b[1;32md:\\Jupiter\\AutoML_with_custom_NAS\\.venv\\lib\\site-packages\\keras\\engine\\training.py:1947\u001b[0m, in \u001b[0;36mModel.evaluate\u001b[1;34m(self, x, y, batch_size, verbose, sample_weight, steps, callbacks, max_queue_size, workers, use_multiprocessing, return_dict, **kwargs)\u001b[0m\n\u001b[0;32m   1943\u001b[0m \u001b[39mwith\u001b[39;00m tf\u001b[39m.\u001b[39mprofiler\u001b[39m.\u001b[39mexperimental\u001b[39m.\u001b[39mTrace(\n\u001b[0;32m   1944\u001b[0m     \u001b[39m\"\u001b[39m\u001b[39mtest\u001b[39m\u001b[39m\"\u001b[39m, step_num\u001b[39m=\u001b[39mstep, _r\u001b[39m=\u001b[39m\u001b[39m1\u001b[39m\n\u001b[0;32m   1945\u001b[0m ):\n\u001b[0;32m   1946\u001b[0m     callbacks\u001b[39m.\u001b[39mon_test_batch_begin(step)\n\u001b[1;32m-> 1947\u001b[0m     tmp_logs \u001b[39m=\u001b[39m \u001b[39mself\u001b[39;49m\u001b[39m.\u001b[39;49mtest_function(iterator)\n\u001b[0;32m   1948\u001b[0m     \u001b[39mif\u001b[39;00m data_handler\u001b[39m.\u001b[39mshould_sync:\n\u001b[0;32m   1949\u001b[0m         context\u001b[39m.\u001b[39masync_wait()\n",
      "File \u001b[1;32md:\\Jupiter\\AutoML_with_custom_NAS\\.venv\\lib\\site-packages\\tensorflow\\python\\util\\traceback_utils.py:150\u001b[0m, in \u001b[0;36mfilter_traceback.<locals>.error_handler\u001b[1;34m(*args, **kwargs)\u001b[0m\n\u001b[0;32m    148\u001b[0m filtered_tb \u001b[39m=\u001b[39m \u001b[39mNone\u001b[39;00m\n\u001b[0;32m    149\u001b[0m \u001b[39mtry\u001b[39;00m:\n\u001b[1;32m--> 150\u001b[0m   \u001b[39mreturn\u001b[39;00m fn(\u001b[39m*\u001b[39margs, \u001b[39m*\u001b[39m\u001b[39m*\u001b[39mkwargs)\n\u001b[0;32m    151\u001b[0m \u001b[39mexcept\u001b[39;00m \u001b[39mException\u001b[39;00m \u001b[39mas\u001b[39;00m e:\n\u001b[0;32m    152\u001b[0m   filtered_tb \u001b[39m=\u001b[39m _process_traceback_frames(e\u001b[39m.\u001b[39m__traceback__)\n",
      "File \u001b[1;32md:\\Jupiter\\AutoML_with_custom_NAS\\.venv\\lib\\site-packages\\tensorflow\\python\\eager\\def_function.py:915\u001b[0m, in \u001b[0;36mFunction.__call__\u001b[1;34m(self, *args, **kwds)\u001b[0m\n\u001b[0;32m    912\u001b[0m compiler \u001b[39m=\u001b[39m \u001b[39m\"\u001b[39m\u001b[39mxla\u001b[39m\u001b[39m\"\u001b[39m \u001b[39mif\u001b[39;00m \u001b[39mself\u001b[39m\u001b[39m.\u001b[39m_jit_compile \u001b[39melse\u001b[39;00m \u001b[39m\"\u001b[39m\u001b[39mnonXla\u001b[39m\u001b[39m\"\u001b[39m\n\u001b[0;32m    914\u001b[0m \u001b[39mwith\u001b[39;00m OptionalXlaContext(\u001b[39mself\u001b[39m\u001b[39m.\u001b[39m_jit_compile):\n\u001b[1;32m--> 915\u001b[0m   result \u001b[39m=\u001b[39m \u001b[39mself\u001b[39m\u001b[39m.\u001b[39m_call(\u001b[39m*\u001b[39margs, \u001b[39m*\u001b[39m\u001b[39m*\u001b[39mkwds)\n\u001b[0;32m    917\u001b[0m new_tracing_count \u001b[39m=\u001b[39m \u001b[39mself\u001b[39m\u001b[39m.\u001b[39mexperimental_get_tracing_count()\n\u001b[0;32m    918\u001b[0m without_tracing \u001b[39m=\u001b[39m (tracing_count \u001b[39m==\u001b[39m new_tracing_count)\n",
      "File \u001b[1;32md:\\Jupiter\\AutoML_with_custom_NAS\\.venv\\lib\\site-packages\\tensorflow\\python\\eager\\def_function.py:954\u001b[0m, in \u001b[0;36mFunction._call\u001b[1;34m(self, *args, **kwds)\u001b[0m\n\u001b[0;32m    951\u001b[0m \u001b[39mself\u001b[39m\u001b[39m.\u001b[39m_lock\u001b[39m.\u001b[39mrelease()\n\u001b[0;32m    952\u001b[0m \u001b[39m# In this case we have not created variables on the first call. So we can\u001b[39;00m\n\u001b[0;32m    953\u001b[0m \u001b[39m# run the first trace but we should fail if variables are created.\u001b[39;00m\n\u001b[1;32m--> 954\u001b[0m results \u001b[39m=\u001b[39m \u001b[39mself\u001b[39m\u001b[39m.\u001b[39m_stateful_fn(\u001b[39m*\u001b[39margs, \u001b[39m*\u001b[39m\u001b[39m*\u001b[39mkwds)\n\u001b[0;32m    955\u001b[0m \u001b[39mif\u001b[39;00m \u001b[39mself\u001b[39m\u001b[39m.\u001b[39m_created_variables \u001b[39mand\u001b[39;00m \u001b[39mnot\u001b[39;00m ALLOW_DYNAMIC_VARIABLE_CREATION:\n\u001b[0;32m    956\u001b[0m   \u001b[39mraise\u001b[39;00m \u001b[39mValueError\u001b[39;00m(\u001b[39m\"\u001b[39m\u001b[39mCreating variables on a non-first call to a function\u001b[39m\u001b[39m\"\u001b[39m\n\u001b[0;32m    957\u001b[0m                    \u001b[39m\"\u001b[39m\u001b[39m decorated with tf.function.\u001b[39m\u001b[39m\"\u001b[39m)\n",
      "File \u001b[1;32md:\\Jupiter\\AutoML_with_custom_NAS\\.venv\\lib\\site-packages\\tensorflow\\python\\eager\\function.py:2496\u001b[0m, in \u001b[0;36mFunction.__call__\u001b[1;34m(self, *args, **kwargs)\u001b[0m\n\u001b[0;32m   2493\u001b[0m \u001b[39mwith\u001b[39;00m \u001b[39mself\u001b[39m\u001b[39m.\u001b[39m_lock:\n\u001b[0;32m   2494\u001b[0m   (graph_function,\n\u001b[0;32m   2495\u001b[0m    filtered_flat_args) \u001b[39m=\u001b[39m \u001b[39mself\u001b[39m\u001b[39m.\u001b[39m_maybe_define_function(args, kwargs)\n\u001b[1;32m-> 2496\u001b[0m \u001b[39mreturn\u001b[39;00m graph_function\u001b[39m.\u001b[39;49m_call_flat(\n\u001b[0;32m   2497\u001b[0m     filtered_flat_args, captured_inputs\u001b[39m=\u001b[39;49mgraph_function\u001b[39m.\u001b[39;49mcaptured_inputs)\n",
      "File \u001b[1;32md:\\Jupiter\\AutoML_with_custom_NAS\\.venv\\lib\\site-packages\\tensorflow\\python\\eager\\function.py:1862\u001b[0m, in \u001b[0;36mConcreteFunction._call_flat\u001b[1;34m(self, args, captured_inputs, cancellation_manager)\u001b[0m\n\u001b[0;32m   1858\u001b[0m possible_gradient_type \u001b[39m=\u001b[39m gradients_util\u001b[39m.\u001b[39mPossibleTapeGradientTypes(args)\n\u001b[0;32m   1859\u001b[0m \u001b[39mif\u001b[39;00m (possible_gradient_type \u001b[39m==\u001b[39m gradients_util\u001b[39m.\u001b[39mPOSSIBLE_GRADIENT_TYPES_NONE\n\u001b[0;32m   1860\u001b[0m     \u001b[39mand\u001b[39;00m executing_eagerly):\n\u001b[0;32m   1861\u001b[0m   \u001b[39m# No tape is watching; skip to running the function.\u001b[39;00m\n\u001b[1;32m-> 1862\u001b[0m   \u001b[39mreturn\u001b[39;00m \u001b[39mself\u001b[39m\u001b[39m.\u001b[39m_build_call_outputs(\u001b[39mself\u001b[39;49m\u001b[39m.\u001b[39;49m_inference_function\u001b[39m.\u001b[39;49mcall(\n\u001b[0;32m   1863\u001b[0m       ctx, args, cancellation_manager\u001b[39m=\u001b[39;49mcancellation_manager))\n\u001b[0;32m   1864\u001b[0m forward_backward \u001b[39m=\u001b[39m \u001b[39mself\u001b[39m\u001b[39m.\u001b[39m_select_forward_and_backward_functions(\n\u001b[0;32m   1865\u001b[0m     args,\n\u001b[0;32m   1866\u001b[0m     possible_gradient_type,\n\u001b[0;32m   1867\u001b[0m     executing_eagerly)\n\u001b[0;32m   1868\u001b[0m forward_function, args_with_tangents \u001b[39m=\u001b[39m forward_backward\u001b[39m.\u001b[39mforward()\n",
      "File \u001b[1;32md:\\Jupiter\\AutoML_with_custom_NAS\\.venv\\lib\\site-packages\\tensorflow\\python\\eager\\function.py:499\u001b[0m, in \u001b[0;36m_EagerDefinedFunction.call\u001b[1;34m(self, ctx, args, cancellation_manager)\u001b[0m\n\u001b[0;32m    497\u001b[0m \u001b[39mwith\u001b[39;00m _InterpolateFunctionError(\u001b[39mself\u001b[39m):\n\u001b[0;32m    498\u001b[0m   \u001b[39mif\u001b[39;00m cancellation_manager \u001b[39mis\u001b[39;00m \u001b[39mNone\u001b[39;00m:\n\u001b[1;32m--> 499\u001b[0m     outputs \u001b[39m=\u001b[39m execute\u001b[39m.\u001b[39;49mexecute(\n\u001b[0;32m    500\u001b[0m         \u001b[39mstr\u001b[39;49m(\u001b[39mself\u001b[39;49m\u001b[39m.\u001b[39;49msignature\u001b[39m.\u001b[39;49mname),\n\u001b[0;32m    501\u001b[0m         num_outputs\u001b[39m=\u001b[39;49m\u001b[39mself\u001b[39;49m\u001b[39m.\u001b[39;49m_num_outputs,\n\u001b[0;32m    502\u001b[0m         inputs\u001b[39m=\u001b[39;49margs,\n\u001b[0;32m    503\u001b[0m         attrs\u001b[39m=\u001b[39;49mattrs,\n\u001b[0;32m    504\u001b[0m         ctx\u001b[39m=\u001b[39;49mctx)\n\u001b[0;32m    505\u001b[0m   \u001b[39melse\u001b[39;00m:\n\u001b[0;32m    506\u001b[0m     outputs \u001b[39m=\u001b[39m execute\u001b[39m.\u001b[39mexecute_with_cancellation(\n\u001b[0;32m    507\u001b[0m         \u001b[39mstr\u001b[39m(\u001b[39mself\u001b[39m\u001b[39m.\u001b[39msignature\u001b[39m.\u001b[39mname),\n\u001b[0;32m    508\u001b[0m         num_outputs\u001b[39m=\u001b[39m\u001b[39mself\u001b[39m\u001b[39m.\u001b[39m_num_outputs,\n\u001b[1;32m   (...)\u001b[0m\n\u001b[0;32m    511\u001b[0m         ctx\u001b[39m=\u001b[39mctx,\n\u001b[0;32m    512\u001b[0m         cancellation_manager\u001b[39m=\u001b[39mcancellation_manager)\n",
      "File \u001b[1;32md:\\Jupiter\\AutoML_with_custom_NAS\\.venv\\lib\\site-packages\\tensorflow\\python\\eager\\execute.py:54\u001b[0m, in \u001b[0;36mquick_execute\u001b[1;34m(op_name, num_outputs, inputs, attrs, ctx, name)\u001b[0m\n\u001b[0;32m     52\u001b[0m \u001b[39mtry\u001b[39;00m:\n\u001b[0;32m     53\u001b[0m   ctx\u001b[39m.\u001b[39mensure_initialized()\n\u001b[1;32m---> 54\u001b[0m   tensors \u001b[39m=\u001b[39m pywrap_tfe\u001b[39m.\u001b[39;49mTFE_Py_Execute(ctx\u001b[39m.\u001b[39;49m_handle, device_name, op_name,\n\u001b[0;32m     55\u001b[0m                                       inputs, attrs, num_outputs)\n\u001b[0;32m     56\u001b[0m \u001b[39mexcept\u001b[39;00m core\u001b[39m.\u001b[39m_NotOkStatusException \u001b[39mas\u001b[39;00m e:\n\u001b[0;32m     57\u001b[0m   \u001b[39mif\u001b[39;00m name \u001b[39mis\u001b[39;00m \u001b[39mnot\u001b[39;00m \u001b[39mNone\u001b[39;00m:\n",
      "\u001b[1;31mKeyboardInterrupt\u001b[0m: "
     ]
    }
   ],
   "source": [
    "\n",
    "\n",
    "def nas(trail):\n",
    "    layers = trail.suggest_int('count_layers', 1,4, log = True)\n",
    "    units = trail.suggest_categorical(\"units\", [32, 64, 128, 256, 512])\n",
    "    dropouts = trail.suggest_categorical(\"dropout\", [0.1, 0.2, 0.25, 0.3])\n",
    "\n",
    "    model = Sequential()\n",
    "    for i in range(layers):\n",
    "        if i==0:\n",
    "            model.add(Dense(units, input_shape = (features_train_samp.shape[1],), activation = 'relu'))\n",
    "            model.add(Dropout(dropouts))\n",
    "            model.add(Normalization())\n",
    "        else:\n",
    "            model.add(Dense(units//(i*2), activation = 'relu'))\n",
    "            model.add(Dropout(dropouts))\n",
    "            model.add(Normalization())\n",
    "\n",
    "    model.add(Dense(1, activation = 'sigmoid'))\n",
    "    optimizer = Adam(learning_rate = 0.001)\n",
    "\n",
    "    callback = tf.keras.callbacks.EarlyStopping(monitor='val_binary_accuracy', patience=20, mode='max', min_delta=0.0001, restore_best_weights = True)\n",
    "\n",
    "    model.compile(loss ='binary_crossentropy', optimizer = optimizer, metrics = ['BinaryAccuracy', 'AUC'])\n",
    "    model.summary()\n",
    "\n",
    "    history = model.fit(features_train_samp, target_train_samp, verbose = 2, batch_size = 8, epochs = 1000, \n",
    "        validation_data=(features_test, target_test), callbacks=[callback])\n",
    "    \n",
    "    bin_acc = model.evaluate(features_test, target_test)[1]\n",
    "    clear_output(wait=True)\n",
    "    \n",
    "    return bin_acc\n",
    "\n",
    "sampler = TPESampler(seed=12345)\n",
    "study = optuna.create_study(study_name=\"ANN\", direction=\"maximize\", sampler=sampler)\n",
    "study.optimize(nas, n_trials=20)\n",
    "\n",
    "\n"
   ]
  },
  {
   "cell_type": "code",
   "execution_count": 35,
   "metadata": {},
   "outputs": [
    {
     "name": "stdout",
     "output_type": "stream",
     "text": [
      "Number of finished trials:  49\n",
      "Best trial:\n",
      "  Value:  0.8283582329750061\n",
      "  Params: \n",
      "\tcount_layers : 2\n",
      "\tunits : 256\n",
      "\tdropout : 0.2\n"
     ]
    }
   ],
   "source": [
    "print(\"Number of finished trials: \", len(study.trials))\n",
    "print(\"Best trial:\")\n",
    "trial = study.best_trial\n",
    "print(\"  Value: \", trial.value)\n",
    "print(\"  Params: \")\n",
    "for key, value in trial.params.items():\n",
    "    print(f\"\\t{key} : {value}\")"
   ]
  },
  {
   "cell_type": "code",
   "execution_count": null,
   "metadata": {},
   "outputs": [],
   "source": []
  },
  {
   "attachments": {},
   "cell_type": "markdown",
   "metadata": {},
   "source": [
    "## Предварительные результаты\n",
    "1. Техника upsample помогла увеличить точность на валидации\n",
    "2. Необходимо разработать алгоритм подбора архитектуры. Для начала сделать подбор количества нейронов в полу готовой архитектуре. Результат сравнивать по модели, которую нашёл алгоритм AutoKeras\n",
    "3. Для поиска архитектуры можно использовать AutoTuner от Keras.  \n",
    "4. Попробовать алгоритмы shap для поиска необходимых фитч и Optuna для поиска гиперпарраметров."
   ]
  },
  {
   "attachments": {},
   "cell_type": "markdown",
   "metadata": {},
   "source": []
  }
 ],
 "metadata": {
  "kernelspec": {
   "display_name": ".venv",
   "language": "python",
   "name": "python3"
  },
  "language_info": {
   "codemirror_mode": {
    "name": "ipython",
    "version": 3
   },
   "file_extension": ".py",
   "mimetype": "text/x-python",
   "name": "python",
   "nbconvert_exporter": "python",
   "pygments_lexer": "ipython3",
   "version": "3.10.5"
  },
  "orig_nbformat": 4
 },
 "nbformat": 4,
 "nbformat_minor": 2
}
