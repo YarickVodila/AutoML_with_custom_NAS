{
 "cells": [
  {
   "cell_type": "code",
   "execution_count": 37,
   "metadata": {},
   "outputs": [],
   "source": [
    "import numpy as np\n",
    "import pandas as pd\n",
    "import tensorflow as tf # ==2.10\n",
    "from sklearn.utils import shuffle\n",
    "from tensorflow import keras\n",
    "from tensorflow.keras.models import Sequential\n",
    "from tensorflow.keras.layers import Dense, Dropout, BatchNormalization\n",
    "from tensorflow.keras.optimizers import Adam\n",
    "import matplotlib.pyplot as plt\n",
    "from sklearn.model_selection import train_test_split\n",
    "import autokeras as ak\n",
    "from imblearn.over_sampling import SMOTE\n",
    "# pip freeze > requirements.txt"
   ]
  },
  {
   "attachments": {},
   "cell_type": "markdown",
   "metadata": {},
   "source": [
    "Pclass — класс пассажира (1 — высший, 2 — средний, 3 — низший);\n",
    "\n",
    "Name — имя;\n",
    "\n",
    "Sex — пол;\n",
    "\n",
    "Age — возраст;\n",
    "\n",
    "SibSp — количество братьев, сестер, сводных братьев, сводных сестер, супругов на борту титаника;\n",
    "\n",
    "Parch — количество родителей, детей (в том числе приемных) на борту титаника;\n",
    "\n",
    "Ticket — номер билета;\n",
    "\n",
    "Fare — плата за проезд;\n",
    "\n",
    "Cabin — каюта;\n",
    "\n",
    "Embarked — порт посадки (C — Шербур; Q — Квинстаун; S — Саутгемптон)."
   ]
  },
  {
   "cell_type": "code",
   "execution_count": 3,
   "metadata": {},
   "outputs": [
    {
     "name": "stdout",
     "output_type": "stream",
     "text": [
      "<class 'pandas.core.frame.DataFrame'>\n",
      "RangeIndex: 891 entries, 0 to 890\n",
      "Data columns (total 12 columns):\n",
      " #   Column       Non-Null Count  Dtype  \n",
      "---  ------       --------------  -----  \n",
      " 0   PassengerId  891 non-null    int64  \n",
      " 1   Survived     891 non-null    int64  \n",
      " 2   Pclass       891 non-null    int64  \n",
      " 3   Name         891 non-null    object \n",
      " 4   Sex          891 non-null    object \n",
      " 5   Age          714 non-null    float64\n",
      " 6   SibSp        891 non-null    int64  \n",
      " 7   Parch        891 non-null    int64  \n",
      " 8   Ticket       891 non-null    object \n",
      " 9   Fare         891 non-null    float64\n",
      " 10  Cabin        204 non-null    object \n",
      " 11  Embarked     889 non-null    object \n",
      "dtypes: float64(2), int64(5), object(5)\n",
      "memory usage: 83.7+ KB\n"
     ]
    }
   ],
   "source": [
    "data = pd.read_csv('dataset/titanic/train.csv')\n",
    "data.info()"
   ]
  },
  {
   "cell_type": "code",
   "execution_count": 4,
   "metadata": {},
   "outputs": [
    {
     "data": {
      "text/html": [
       "<div>\n",
       "<style scoped>\n",
       "    .dataframe tbody tr th:only-of-type {\n",
       "        vertical-align: middle;\n",
       "    }\n",
       "\n",
       "    .dataframe tbody tr th {\n",
       "        vertical-align: top;\n",
       "    }\n",
       "\n",
       "    .dataframe thead th {\n",
       "        text-align: right;\n",
       "    }\n",
       "</style>\n",
       "<table border=\"1\" class=\"dataframe\">\n",
       "  <thead>\n",
       "    <tr style=\"text-align: right;\">\n",
       "      <th></th>\n",
       "      <th>PassengerId</th>\n",
       "      <th>Survived</th>\n",
       "      <th>Pclass</th>\n",
       "      <th>Name</th>\n",
       "      <th>Sex</th>\n",
       "      <th>Age</th>\n",
       "      <th>SibSp</th>\n",
       "      <th>Parch</th>\n",
       "      <th>Ticket</th>\n",
       "      <th>Fare</th>\n",
       "      <th>Cabin</th>\n",
       "      <th>Embarked</th>\n",
       "    </tr>\n",
       "  </thead>\n",
       "  <tbody>\n",
       "    <tr>\n",
       "      <th>0</th>\n",
       "      <td>1</td>\n",
       "      <td>0</td>\n",
       "      <td>3</td>\n",
       "      <td>Braund, Mr. Owen Harris</td>\n",
       "      <td>male</td>\n",
       "      <td>22.0</td>\n",
       "      <td>1</td>\n",
       "      <td>0</td>\n",
       "      <td>A/5 21171</td>\n",
       "      <td>7.2500</td>\n",
       "      <td>NaN</td>\n",
       "      <td>S</td>\n",
       "    </tr>\n",
       "    <tr>\n",
       "      <th>1</th>\n",
       "      <td>2</td>\n",
       "      <td>1</td>\n",
       "      <td>1</td>\n",
       "      <td>Cumings, Mrs. John Bradley (Florence Briggs Th...</td>\n",
       "      <td>female</td>\n",
       "      <td>38.0</td>\n",
       "      <td>1</td>\n",
       "      <td>0</td>\n",
       "      <td>PC 17599</td>\n",
       "      <td>71.2833</td>\n",
       "      <td>C85</td>\n",
       "      <td>C</td>\n",
       "    </tr>\n",
       "    <tr>\n",
       "      <th>2</th>\n",
       "      <td>3</td>\n",
       "      <td>1</td>\n",
       "      <td>3</td>\n",
       "      <td>Heikkinen, Miss. Laina</td>\n",
       "      <td>female</td>\n",
       "      <td>26.0</td>\n",
       "      <td>0</td>\n",
       "      <td>0</td>\n",
       "      <td>STON/O2. 3101282</td>\n",
       "      <td>7.9250</td>\n",
       "      <td>NaN</td>\n",
       "      <td>S</td>\n",
       "    </tr>\n",
       "    <tr>\n",
       "      <th>3</th>\n",
       "      <td>4</td>\n",
       "      <td>1</td>\n",
       "      <td>1</td>\n",
       "      <td>Futrelle, Mrs. Jacques Heath (Lily May Peel)</td>\n",
       "      <td>female</td>\n",
       "      <td>35.0</td>\n",
       "      <td>1</td>\n",
       "      <td>0</td>\n",
       "      <td>113803</td>\n",
       "      <td>53.1000</td>\n",
       "      <td>C123</td>\n",
       "      <td>S</td>\n",
       "    </tr>\n",
       "    <tr>\n",
       "      <th>4</th>\n",
       "      <td>5</td>\n",
       "      <td>0</td>\n",
       "      <td>3</td>\n",
       "      <td>Allen, Mr. William Henry</td>\n",
       "      <td>male</td>\n",
       "      <td>35.0</td>\n",
       "      <td>0</td>\n",
       "      <td>0</td>\n",
       "      <td>373450</td>\n",
       "      <td>8.0500</td>\n",
       "      <td>NaN</td>\n",
       "      <td>S</td>\n",
       "    </tr>\n",
       "  </tbody>\n",
       "</table>\n",
       "</div>"
      ],
      "text/plain": [
       "   PassengerId  Survived  Pclass   \n",
       "0            1         0       3  \\\n",
       "1            2         1       1   \n",
       "2            3         1       3   \n",
       "3            4         1       1   \n",
       "4            5         0       3   \n",
       "\n",
       "                                                Name     Sex   Age  SibSp   \n",
       "0                            Braund, Mr. Owen Harris    male  22.0      1  \\\n",
       "1  Cumings, Mrs. John Bradley (Florence Briggs Th...  female  38.0      1   \n",
       "2                             Heikkinen, Miss. Laina  female  26.0      0   \n",
       "3       Futrelle, Mrs. Jacques Heath (Lily May Peel)  female  35.0      1   \n",
       "4                           Allen, Mr. William Henry    male  35.0      0   \n",
       "\n",
       "   Parch            Ticket     Fare Cabin Embarked  \n",
       "0      0         A/5 21171   7.2500   NaN        S  \n",
       "1      0          PC 17599  71.2833   C85        C  \n",
       "2      0  STON/O2. 3101282   7.9250   NaN        S  \n",
       "3      0            113803  53.1000  C123        S  \n",
       "4      0            373450   8.0500   NaN        S  "
      ]
     },
     "execution_count": 4,
     "metadata": {},
     "output_type": "execute_result"
    }
   ],
   "source": [
    "data.head()"
   ]
  },
  {
   "cell_type": "code",
   "execution_count": 5,
   "metadata": {},
   "outputs": [
    {
     "name": "stdout",
     "output_type": "stream",
     "text": [
      "<class 'pandas.core.frame.DataFrame'>\n",
      "RangeIndex: 891 entries, 0 to 890\n",
      "Data columns (total 8 columns):\n",
      " #   Column    Non-Null Count  Dtype  \n",
      "---  ------    --------------  -----  \n",
      " 0   Pclass    891 non-null    int64  \n",
      " 1   Sex       891 non-null    object \n",
      " 2   Survived  891 non-null    int64  \n",
      " 3   SibSp     891 non-null    int64  \n",
      " 4   Parch     891 non-null    int64  \n",
      " 5   Age       714 non-null    float64\n",
      " 6   Fare      891 non-null    float64\n",
      " 7   Embarked  889 non-null    object \n",
      "dtypes: float64(2), int64(4), object(2)\n",
      "memory usage: 55.8+ KB\n"
     ]
    }
   ],
   "source": [
    "data = data[[\"Pclass\", \"Sex\", 'Survived','SibSp','Parch', 'Age', 'Fare', 'Embarked']]\n",
    "data.info()"
   ]
  },
  {
   "cell_type": "code",
   "execution_count": 6,
   "metadata": {},
   "outputs": [],
   "source": [
    "data.dropna(subset=['Embarked'], inplace=True) #Удаляем пустые данные"
   ]
  },
  {
   "attachments": {},
   "cell_type": "markdown",
   "metadata": {},
   "source": [
    "#### Кодируем методом OHE колонки Embarked и Sex"
   ]
  },
  {
   "cell_type": "code",
   "execution_count": 7,
   "metadata": {},
   "outputs": [
    {
     "name": "stdout",
     "output_type": "stream",
     "text": [
      "<class 'pandas.core.frame.DataFrame'>\n",
      "Index: 889 entries, 0 to 890\n",
      "Data columns (total 10 columns):\n",
      " #   Column      Non-Null Count  Dtype  \n",
      "---  ------      --------------  -----  \n",
      " 0   Survived    889 non-null    int64  \n",
      " 1   SibSp       889 non-null    int64  \n",
      " 2   Parch       889 non-null    int64  \n",
      " 3   Age         712 non-null    float64\n",
      " 4   Fare        889 non-null    float64\n",
      " 5   Embarked_Q  889 non-null    bool   \n",
      " 6   Embarked_S  889 non-null    bool   \n",
      " 7   Sex_male    889 non-null    bool   \n",
      " 8   Pclass_2    889 non-null    bool   \n",
      " 9   Pclass_3    889 non-null    bool   \n",
      "dtypes: bool(5), float64(2), int64(3)\n",
      "memory usage: 46.0 KB\n"
     ]
    }
   ],
   "source": [
    "data = pd.get_dummies(data, columns=['Embarked', 'Sex', 'Pclass'], drop_first=True)\n",
    "data.info()"
   ]
  },
  {
   "cell_type": "code",
   "execution_count": 8,
   "metadata": {},
   "outputs": [
    {
     "data": {
      "text/html": [
       "<div>\n",
       "<style scoped>\n",
       "    .dataframe tbody tr th:only-of-type {\n",
       "        vertical-align: middle;\n",
       "    }\n",
       "\n",
       "    .dataframe tbody tr th {\n",
       "        vertical-align: top;\n",
       "    }\n",
       "\n",
       "    .dataframe thead th {\n",
       "        text-align: right;\n",
       "    }\n",
       "</style>\n",
       "<table border=\"1\" class=\"dataframe\">\n",
       "  <thead>\n",
       "    <tr style=\"text-align: right;\">\n",
       "      <th></th>\n",
       "      <th>Survived</th>\n",
       "      <th>SibSp</th>\n",
       "      <th>Parch</th>\n",
       "      <th>Age</th>\n",
       "      <th>Fare</th>\n",
       "      <th>Embarked_Q</th>\n",
       "      <th>Embarked_S</th>\n",
       "      <th>Sex_male</th>\n",
       "      <th>Pclass_2</th>\n",
       "      <th>Pclass_3</th>\n",
       "    </tr>\n",
       "  </thead>\n",
       "  <tbody>\n",
       "    <tr>\n",
       "      <th>0</th>\n",
       "      <td>0</td>\n",
       "      <td>1</td>\n",
       "      <td>0</td>\n",
       "      <td>22.0</td>\n",
       "      <td>7.2500</td>\n",
       "      <td>False</td>\n",
       "      <td>True</td>\n",
       "      <td>True</td>\n",
       "      <td>False</td>\n",
       "      <td>True</td>\n",
       "    </tr>\n",
       "    <tr>\n",
       "      <th>1</th>\n",
       "      <td>1</td>\n",
       "      <td>1</td>\n",
       "      <td>0</td>\n",
       "      <td>38.0</td>\n",
       "      <td>71.2833</td>\n",
       "      <td>False</td>\n",
       "      <td>False</td>\n",
       "      <td>False</td>\n",
       "      <td>False</td>\n",
       "      <td>False</td>\n",
       "    </tr>\n",
       "    <tr>\n",
       "      <th>2</th>\n",
       "      <td>1</td>\n",
       "      <td>0</td>\n",
       "      <td>0</td>\n",
       "      <td>26.0</td>\n",
       "      <td>7.9250</td>\n",
       "      <td>False</td>\n",
       "      <td>True</td>\n",
       "      <td>False</td>\n",
       "      <td>False</td>\n",
       "      <td>True</td>\n",
       "    </tr>\n",
       "    <tr>\n",
       "      <th>3</th>\n",
       "      <td>1</td>\n",
       "      <td>1</td>\n",
       "      <td>0</td>\n",
       "      <td>35.0</td>\n",
       "      <td>53.1000</td>\n",
       "      <td>False</td>\n",
       "      <td>True</td>\n",
       "      <td>False</td>\n",
       "      <td>False</td>\n",
       "      <td>False</td>\n",
       "    </tr>\n",
       "    <tr>\n",
       "      <th>4</th>\n",
       "      <td>0</td>\n",
       "      <td>0</td>\n",
       "      <td>0</td>\n",
       "      <td>35.0</td>\n",
       "      <td>8.0500</td>\n",
       "      <td>False</td>\n",
       "      <td>True</td>\n",
       "      <td>True</td>\n",
       "      <td>False</td>\n",
       "      <td>True</td>\n",
       "    </tr>\n",
       "  </tbody>\n",
       "</table>\n",
       "</div>"
      ],
      "text/plain": [
       "   Survived  SibSp  Parch   Age     Fare  Embarked_Q  Embarked_S  Sex_male   \n",
       "0         0      1      0  22.0   7.2500       False        True      True  \\\n",
       "1         1      1      0  38.0  71.2833       False       False     False   \n",
       "2         1      0      0  26.0   7.9250       False        True     False   \n",
       "3         1      1      0  35.0  53.1000       False        True     False   \n",
       "4         0      0      0  35.0   8.0500       False        True      True   \n",
       "\n",
       "   Pclass_2  Pclass_3  \n",
       "0     False      True  \n",
       "1     False     False  \n",
       "2     False      True  \n",
       "3     False     False  \n",
       "4     False      True  "
      ]
     },
     "execution_count": 8,
     "metadata": {},
     "output_type": "execute_result"
    }
   ],
   "source": [
    "data.head()"
   ]
  },
  {
   "attachments": {},
   "cell_type": "markdown",
   "metadata": {},
   "source": [
    "##### Заполняем пропуски в колонке Age"
   ]
  },
  {
   "cell_type": "code",
   "execution_count": 9,
   "metadata": {},
   "outputs": [
    {
     "name": "stdout",
     "output_type": "stream",
     "text": [
      "28.0\n",
      "29.64209269662921\n"
     ]
    }
   ],
   "source": [
    "print(data['Age'].median())\n",
    "print(data['Age'].mean())"
   ]
  },
  {
   "cell_type": "code",
   "execution_count": 10,
   "metadata": {},
   "outputs": [
    {
     "name": "stdout",
     "output_type": "stream",
     "text": [
      "<class 'pandas.core.frame.DataFrame'>\n",
      "Index: 889 entries, 0 to 890\n",
      "Data columns (total 10 columns):\n",
      " #   Column      Non-Null Count  Dtype  \n",
      "---  ------      --------------  -----  \n",
      " 0   Survived    889 non-null    int64  \n",
      " 1   SibSp       889 non-null    int64  \n",
      " 2   Parch       889 non-null    int64  \n",
      " 3   Age         889 non-null    float64\n",
      " 4   Fare        889 non-null    float64\n",
      " 5   Embarked_Q  889 non-null    bool   \n",
      " 6   Embarked_S  889 non-null    bool   \n",
      " 7   Sex_male    889 non-null    bool   \n",
      " 8   Pclass_2    889 non-null    bool   \n",
      " 9   Pclass_3    889 non-null    bool   \n",
      "dtypes: bool(5), float64(2), int64(3)\n",
      "memory usage: 46.0 KB\n"
     ]
    }
   ],
   "source": [
    "data.loc[data['Age'].isnull(), 'Age'] = data['Age'].median()\n",
    "data.info()"
   ]
  },
  {
   "attachments": {},
   "cell_type": "markdown",
   "metadata": {},
   "source": [
    "#### Преобразуем данные в необходимый тип"
   ]
  },
  {
   "cell_type": "code",
   "execution_count": 11,
   "metadata": {},
   "outputs": [
    {
     "name": "stdout",
     "output_type": "stream",
     "text": [
      "<class 'pandas.core.frame.DataFrame'>\n",
      "Index: 889 entries, 0 to 890\n",
      "Data columns (total 10 columns):\n",
      " #   Column      Non-Null Count  Dtype  \n",
      "---  ------      --------------  -----  \n",
      " 0   Survived    889 non-null    int8   \n",
      " 1   SibSp       889 non-null    int8   \n",
      " 2   Parch       889 non-null    int8   \n",
      " 3   Age         889 non-null    int8   \n",
      " 4   Fare        889 non-null    float64\n",
      " 5   Embarked_Q  889 non-null    int8   \n",
      " 6   Embarked_S  889 non-null    int8   \n",
      " 7   Sex_male    889 non-null    int8   \n",
      " 8   Pclass_2    889 non-null    int8   \n",
      " 9   Pclass_3    889 non-null    int8   \n",
      "dtypes: float64(1), int8(9)\n",
      "memory usage: 21.7 KB\n"
     ]
    }
   ],
   "source": [
    "data['Sex_male'] = data['Sex_male'].astype('int8')\n",
    "data['Survived'] = data['Survived'].astype('int8')\n",
    "\n",
    "data['Pclass_2'] = data['Pclass_2'].astype('int8')\n",
    "data['Pclass_3'] = data['Pclass_3'].astype('int8')\n",
    "data['SibSp'] = data['SibSp'].astype('int8')\n",
    "data['Parch'] = data['Parch'].astype('int8')\n",
    "\n",
    "data['Age'] = data['Age'].astype('int8')\n",
    "\n",
    "data['Embarked_Q'] = data['Embarked_Q'].astype('int8')\n",
    "data['Embarked_S'] = data['Embarked_S'].astype('int8')\n",
    "data.info()"
   ]
  },
  {
   "cell_type": "code",
   "execution_count": 12,
   "metadata": {},
   "outputs": [
    {
     "data": {
      "text/plain": [
       "Embarked_S\n",
       "1    644\n",
       "0    245\n",
       "Name: count, dtype: int64"
      ]
     },
     "execution_count": 12,
     "metadata": {},
     "output_type": "execute_result"
    }
   ],
   "source": [
    "data['Embarked_S'].value_counts()"
   ]
  },
  {
   "attachments": {},
   "cell_type": "markdown",
   "metadata": {},
   "source": [
    "#### Строим гистограммы для каждой колонки"
   ]
  },
  {
   "cell_type": "code",
   "execution_count": 13,
   "metadata": {},
   "outputs": [
    {
     "data": {
      "text/plain": [
       "array([[<Axes: title={'center': 'Survived'}>,\n",
       "        <Axes: title={'center': 'SibSp'}>,\n",
       "        <Axes: title={'center': 'Parch'}>],\n",
       "       [<Axes: title={'center': 'Age'}>,\n",
       "        <Axes: title={'center': 'Fare'}>,\n",
       "        <Axes: title={'center': 'Embarked_Q'}>],\n",
       "       [<Axes: title={'center': 'Embarked_S'}>,\n",
       "        <Axes: title={'center': 'Sex_male'}>,\n",
       "        <Axes: title={'center': 'Pclass_2'}>],\n",
       "       [<Axes: title={'center': 'Pclass_3'}>, <Axes: >, <Axes: >]],\n",
       "      dtype=object)"
      ]
     },
     "execution_count": 13,
     "metadata": {},
     "output_type": "execute_result"
    },
    {
     "data": {
      "image/png": "[encoded data removed]",
      "text/plain": [
       "<Figure size 1000x1600 with 12 Axes>"
      ]
     },
     "metadata": {},
     "output_type": "display_data"
    }
   ],
   "source": [
    "data.hist(figsize=(10,16))"
   ]
  },
  {
   "cell_type": "code",
   "execution_count": 14,
   "metadata": {},
   "outputs": [
    {
     "data": {
      "text/plain": [
       "Survived\n",
       "0    549\n",
       "1    340\n",
       "Name: count, dtype: int64"
      ]
     },
     "execution_count": 14,
     "metadata": {},
     "output_type": "execute_result"
    }
   ],
   "source": [
    "data['Survived'].value_counts() # Дисбаланс классов"
   ]
  },
  {
   "cell_type": "code",
   "execution_count": 15,
   "metadata": {},
   "outputs": [
    {
     "name": "stdout",
     "output_type": "stream",
     "text": [
      "(755, 9)\n",
      "(134, 9)\n"
     ]
    }
   ],
   "source": [
    "features = data.drop(columns=['Survived'])\n",
    "target = data['Survived']\n",
    "\n",
    "features_train, features_test, target_train, target_test = train_test_split(features, target, test_size=0.15, random_state=12345)\n",
    "\n",
    "print(features_train.shape)\n",
    "print(features_test.shape)"
   ]
  },
  {
   "cell_type": "code",
   "execution_count": 16,
   "metadata": {},
   "outputs": [
    {
     "name": "stdout",
     "output_type": "stream",
     "text": [
      "Survived\n",
      "0    468\n",
      "1    287\n",
      "Name: count, dtype: int64\n",
      "Survived\n",
      "0    81\n",
      "1    53\n",
      "Name: count, dtype: int64\n"
     ]
    }
   ],
   "source": [
    "print(target_train.value_counts())\n",
    "print(target_test.value_counts())"
   ]
  },
  {
   "attachments": {},
   "cell_type": "markdown",
   "metadata": {},
   "source": [
    "##### Борьба с дисбалансом классов\n",
    "Необходимо применить методы борьбы с дисбалансом, чтобы сбалансировать классы"
   ]
  },
  {
   "cell_type": "code",
   "execution_count": 33,
   "metadata": {},
   "outputs": [
    {
     "data": {
      "text/plain": [
       "Survived\n",
       "0    468\n",
       "1    468\n",
       "Name: count, dtype: int64"
      ]
     },
     "execution_count": 33,
     "metadata": {},
     "output_type": "execute_result"
    }
   ],
   "source": [
    "sm = SMOTE(random_state=12345)\n",
    "\n",
    "features_train_samp, target_train_samp = sm.fit_resample(features_train ,target_train)\n",
    "\n",
    "target_train_samp.value_counts()"
   ]
  },
  {
   "attachments": {},
   "cell_type": "markdown",
   "metadata": {},
   "source": [
    "#### Создаём тестовый алгоритм NAS\n",
    "Подумать над генерацией фитч"
   ]
  },
  {
   "attachments": {},
   "cell_type": "markdown",
   "metadata": {},
   "source": [
    "<ul>    \n",
    "    <li>\n",
    "        <a href =\"https://keras.io/api/callbacks/base_callback/\">Базовый класс обратного вызова</a>\n",
    "    </li>\n",
    "    <li>\n",
    "        <a href =\"https://keras.io/guides/writing_your_own_callbacks/\">Написание собственных обратных вызовов</a>\n",
    "    </li>\n",
    "    <li>\n",
    "        <a href =\"https://tensorflow.google.cn/guide/keras/custom_callback?hl=ru\">Написание собственных обратных вызовов руководство от Tensorflow</a>\n",
    "    </li>\n",
    "</ul>"
   ]
  },
  {
   "cell_type": "code",
   "execution_count": 34,
   "metadata": {},
   "outputs": [],
   "source": [
    "def visuall (history, metric):\n",
    "    train_metrics = history.history[metric]\n",
    "    val_metrics = history.history['val_'+ metric]\n",
    "    epochs = range(1, len(train_metrics) + 1)\n",
    "    plt.plot(epochs, train_metrics)\n",
    "    plt.plot(epochs, val_metrics)\n",
    "    plt.title('Training and validation '+ metric)\n",
    "    plt.xlabel(\"Epochs\")\n",
    "    plt.ylabel(metric)\n",
    "    plt.legend([\"train_\"+ metric, 'val_'+ metric])\n",
    "    plt.show()"
   ]
  },
  {
   "cell_type": "code",
   "execution_count": 35,
   "metadata": {},
   "outputs": [
    {
     "name": "stdout",
     "output_type": "stream",
     "text": [
      "Num GPUs Available:  [PhysicalDevice(name='/physical_device:GPU:0', device_type='GPU')]\n"
     ]
    }
   ],
   "source": [
    "print(\"Num GPUs Available: \", tf.config.list_physical_devices('GPU'))"
   ]
  },
  {
   "attachments": {},
   "cell_type": "markdown",
   "metadata": {},
   "source": [
    "##### Пробуем искать архитектуру с помощью AutoKeras"
   ]
  },
  {
   "cell_type": "code",
   "execution_count": 49,
   "metadata": {},
   "outputs": [
    {
     "name": "stdout",
     "output_type": "stream",
     "text": [
      "Trial 20 Complete [00h 00m 08s]\n",
      "val_accuracy: 0.8059701323509216\n",
      "\n",
      "Best val_accuracy So Far: 0.8432835936546326\n",
      "Total elapsed time: 00h 03m 29s\n",
      "INFO:tensorflow:Oracle triggered exit\n"
     ]
    },
    {
     "name": "stdout",
     "output_type": "stream",
     "text": [
      "Epoch 1/150\n",
      "30/30 [==============================] - 1s 10ms/step - loss: 0.6485 - accuracy: 0.6635 - val_loss: 0.5846 - val_accuracy: 0.7612\n",
      "Epoch 2/150\n",
      "30/30 [==============================] - 0s 6ms/step - loss: 0.5437 - accuracy: 0.7863 - val_loss: 0.5444 - val_accuracy: 0.7836\n",
      "Epoch 3/150\n",
      "30/30 [==============================] - 0s 6ms/step - loss: 0.4806 - accuracy: 0.8323 - val_loss: 0.5234 - val_accuracy: 0.7985\n",
      "Epoch 4/150\n",
      "30/30 [==============================] - 0s 6ms/step - loss: 0.4368 - accuracy: 0.8333 - val_loss: 0.5128 - val_accuracy: 0.7985\n",
      "Epoch 5/150\n",
      "30/30 [==============================] - 0s 6ms/step - loss: 0.4083 - accuracy: 0.8323 - val_loss: 0.5055 - val_accuracy: 0.7910\n",
      "Epoch 6/150\n",
      "30/30 [==============================] - 0s 6ms/step - loss: 0.3916 - accuracy: 0.8323 - val_loss: 0.5025 - val_accuracy: 0.7985\n",
      "Epoch 7/150\n",
      "30/30 [==============================] - 0s 6ms/step - loss: 0.3823 - accuracy: 0.8333 - val_loss: 0.5001 - val_accuracy: 0.8060\n",
      "Epoch 8/150\n",
      "30/30 [==============================] - 0s 6ms/step - loss: 0.3766 - accuracy: 0.8312 - val_loss: 0.4980 - val_accuracy: 0.8060\n",
      "Epoch 9/150\n",
      "30/30 [==============================] - 0s 6ms/step - loss: 0.3722 - accuracy: 0.8344 - val_loss: 0.4961 - val_accuracy: 0.8060\n",
      "Epoch 10/150\n",
      "30/30 [==============================] - 0s 6ms/step - loss: 0.3689 - accuracy: 0.8355 - val_loss: 0.4944 - val_accuracy: 0.7985\n",
      "Epoch 11/150\n",
      "30/30 [==============================] - 0s 6ms/step - loss: 0.3661 - accuracy: 0.8376 - val_loss: 0.4933 - val_accuracy: 0.7985\n",
      "Epoch 12/150\n",
      "30/30 [==============================] - 0s 6ms/step - loss: 0.3637 - accuracy: 0.8387 - val_loss: 0.4922 - val_accuracy: 0.7985\n",
      "Epoch 13/150\n",
      "30/30 [==============================] - 0s 6ms/step - loss: 0.3616 - accuracy: 0.8408 - val_loss: 0.4914 - val_accuracy: 0.7985\n",
      "Epoch 14/150\n",
      "30/30 [==============================] - 0s 6ms/step - loss: 0.3597 - accuracy: 0.8408 - val_loss: 0.4912 - val_accuracy: 0.7985\n",
      "Epoch 15/150\n",
      "30/30 [==============================] - 0s 7ms/step - loss: 0.3582 - accuracy: 0.8397 - val_loss: 0.4912 - val_accuracy: 0.8060\n",
      "Epoch 16/150\n",
      "30/30 [==============================] - 0s 7ms/step - loss: 0.3565 - accuracy: 0.8429 - val_loss: 0.4914 - val_accuracy: 0.8060\n",
      "Epoch 17/150\n",
      "30/30 [==============================] - 0s 6ms/step - loss: 0.3554 - accuracy: 0.8451 - val_loss: 0.4917 - val_accuracy: 0.8060\n",
      "Epoch 18/150\n",
      "30/30 [==============================] - 0s 6ms/step - loss: 0.3541 - accuracy: 0.8462 - val_loss: 0.4921 - val_accuracy: 0.8060\n",
      "Epoch 19/150\n",
      "30/30 [==============================] - 0s 6ms/step - loss: 0.3531 - accuracy: 0.8451 - val_loss: 0.4924 - val_accuracy: 0.8060\n",
      "Epoch 20/150\n",
      "30/30 [==============================] - 0s 6ms/step - loss: 0.3520 - accuracy: 0.8472 - val_loss: 0.4925 - val_accuracy: 0.8060\n",
      "Epoch 21/150\n",
      "30/30 [==============================] - 0s 6ms/step - loss: 0.3511 - accuracy: 0.8472 - val_loss: 0.4924 - val_accuracy: 0.8134\n",
      "Epoch 22/150\n",
      "30/30 [==============================] - 0s 6ms/step - loss: 0.3501 - accuracy: 0.8472 - val_loss: 0.4924 - val_accuracy: 0.8134\n",
      "Epoch 23/150\n",
      "30/30 [==============================] - 0s 6ms/step - loss: 0.3493 - accuracy: 0.8494 - val_loss: 0.4927 - val_accuracy: 0.8134\n",
      "Epoch 24/150\n",
      "30/30 [==============================] - 0s 6ms/step - loss: 0.3485 - accuracy: 0.8494 - val_loss: 0.4927 - val_accuracy: 0.8134\n",
      "Epoch 25/150\n",
      "30/30 [==============================] - 0s 6ms/step - loss: 0.3477 - accuracy: 0.8494 - val_loss: 0.4929 - val_accuracy: 0.8134\n",
      "Epoch 26/150\n",
      "30/30 [==============================] - 0s 6ms/step - loss: 0.3468 - accuracy: 0.8494 - val_loss: 0.4928 - val_accuracy: 0.8134\n",
      "Epoch 27/150\n",
      "30/30 [==============================] - 0s 6ms/step - loss: 0.3462 - accuracy: 0.8504 - val_loss: 0.4928 - val_accuracy: 0.8060\n",
      "Epoch 28/150\n",
      "30/30 [==============================] - 0s 6ms/step - loss: 0.3453 - accuracy: 0.8515 - val_loss: 0.4929 - val_accuracy: 0.8060\n",
      "Epoch 29/150\n",
      "30/30 [==============================] - 0s 6ms/step - loss: 0.3446 - accuracy: 0.8526 - val_loss: 0.4931 - val_accuracy: 0.8134\n",
      "Epoch 30/150\n",
      "30/30 [==============================] - 0s 6ms/step - loss: 0.3437 - accuracy: 0.8526 - val_loss: 0.4935 - val_accuracy: 0.8134\n",
      "Epoch 31/150\n",
      "30/30 [==============================] - 0s 6ms/step - loss: 0.3432 - accuracy: 0.8526 - val_loss: 0.4934 - val_accuracy: 0.8134\n",
      "Epoch 32/150\n",
      "30/30 [==============================] - 0s 6ms/step - loss: 0.3425 - accuracy: 0.8547 - val_loss: 0.4931 - val_accuracy: 0.8134\n",
      "Epoch 33/150\n",
      "30/30 [==============================] - 0s 6ms/step - loss: 0.3420 - accuracy: 0.8547 - val_loss: 0.4933 - val_accuracy: 0.8134\n",
      "Epoch 34/150\n",
      "30/30 [==============================] - 0s 6ms/step - loss: 0.3411 - accuracy: 0.8536 - val_loss: 0.4936 - val_accuracy: 0.8134\n",
      "Epoch 35/150\n",
      "30/30 [==============================] - 0s 6ms/step - loss: 0.3406 - accuracy: 0.8526 - val_loss: 0.4930 - val_accuracy: 0.8134\n",
      "Epoch 36/150\n",
      "30/30 [==============================] - 0s 6ms/step - loss: 0.3400 - accuracy: 0.8536 - val_loss: 0.4936 - val_accuracy: 0.8134\n",
      "Epoch 37/150\n",
      "30/30 [==============================] - 0s 7ms/step - loss: 0.3394 - accuracy: 0.8558 - val_loss: 0.4940 - val_accuracy: 0.8134\n",
      "Epoch 38/150\n",
      "30/30 [==============================] - 0s 7ms/step - loss: 0.3387 - accuracy: 0.8558 - val_loss: 0.4941 - val_accuracy: 0.8134\n",
      "Epoch 39/150\n",
      "30/30 [==============================] - 0s 7ms/step - loss: 0.3382 - accuracy: 0.8558 - val_loss: 0.4940 - val_accuracy: 0.8134\n",
      "Epoch 40/150\n",
      "30/30 [==============================] - 0s 6ms/step - loss: 0.3377 - accuracy: 0.8568 - val_loss: 0.4942 - val_accuracy: 0.8134\n",
      "Epoch 41/150\n",
      "30/30 [==============================] - 0s 6ms/step - loss: 0.3371 - accuracy: 0.8568 - val_loss: 0.4943 - val_accuracy: 0.8134\n",
      "Epoch 42/150\n",
      "30/30 [==============================] - 0s 6ms/step - loss: 0.3369 - accuracy: 0.8568 - val_loss: 0.4943 - val_accuracy: 0.8134\n",
      "Epoch 43/150\n",
      "30/30 [==============================] - 0s 6ms/step - loss: 0.3361 - accuracy: 0.8568 - val_loss: 0.4947 - val_accuracy: 0.8134\n",
      "Epoch 44/150\n",
      "30/30 [==============================] - 0s 6ms/step - loss: 0.3358 - accuracy: 0.8568 - val_loss: 0.4950 - val_accuracy: 0.8134\n",
      "Epoch 45/150\n",
      "30/30 [==============================] - 0s 7ms/step - loss: 0.3352 - accuracy: 0.8568 - val_loss: 0.4949 - val_accuracy: 0.8134\n",
      "Epoch 46/150\n",
      "30/30 [==============================] - 0s 7ms/step - loss: 0.3349 - accuracy: 0.8590 - val_loss: 0.4951 - val_accuracy: 0.8134\n",
      "Epoch 47/150\n",
      "30/30 [==============================] - 0s 6ms/step - loss: 0.3342 - accuracy: 0.8579 - val_loss: 0.4956 - val_accuracy: 0.8134\n",
      "Epoch 48/150\n",
      "30/30 [==============================] - 0s 6ms/step - loss: 0.3338 - accuracy: 0.8590 - val_loss: 0.4958 - val_accuracy: 0.8134\n",
      "Epoch 49/150\n",
      "30/30 [==============================] - 0s 6ms/step - loss: 0.3334 - accuracy: 0.8600 - val_loss: 0.4960 - val_accuracy: 0.8134\n",
      "Epoch 50/150\n",
      "30/30 [==============================] - 0s 6ms/step - loss: 0.3328 - accuracy: 0.8600 - val_loss: 0.4963 - val_accuracy: 0.8134\n",
      "Epoch 51/150\n",
      "30/30 [==============================] - 0s 6ms/step - loss: 0.3324 - accuracy: 0.8600 - val_loss: 0.4965 - val_accuracy: 0.8134\n",
      "Epoch 52/150\n",
      "30/30 [==============================] - 0s 6ms/step - loss: 0.3319 - accuracy: 0.8600 - val_loss: 0.4972 - val_accuracy: 0.8134\n",
      "Epoch 53/150\n",
      "30/30 [==============================] - 0s 6ms/step - loss: 0.3314 - accuracy: 0.8611 - val_loss: 0.4974 - val_accuracy: 0.8134\n",
      "Epoch 54/150\n",
      "30/30 [==============================] - 0s 7ms/step - loss: 0.3311 - accuracy: 0.8611 - val_loss: 0.4975 - val_accuracy: 0.8134\n",
      "Epoch 55/150\n",
      "30/30 [==============================] - 0s 6ms/step - loss: 0.3305 - accuracy: 0.8611 - val_loss: 0.4980 - val_accuracy: 0.8209\n",
      "Epoch 56/150\n",
      "30/30 [==============================] - 0s 6ms/step - loss: 0.3301 - accuracy: 0.8611 - val_loss: 0.4980 - val_accuracy: 0.8134\n",
      "Epoch 57/150\n",
      "30/30 [==============================] - 0s 6ms/step - loss: 0.3299 - accuracy: 0.8611 - val_loss: 0.4983 - val_accuracy: 0.8209\n",
      "Epoch 58/150\n",
      "30/30 [==============================] - 0s 6ms/step - loss: 0.3292 - accuracy: 0.8632 - val_loss: 0.4987 - val_accuracy: 0.8060\n",
      "Epoch 59/150\n",
      "30/30 [==============================] - 0s 6ms/step - loss: 0.3289 - accuracy: 0.8622 - val_loss: 0.4989 - val_accuracy: 0.8209\n",
      "Epoch 60/150\n",
      "30/30 [==============================] - 0s 7ms/step - loss: 0.3285 - accuracy: 0.8611 - val_loss: 0.4992 - val_accuracy: 0.8134\n",
      "Epoch 61/150\n",
      "30/30 [==============================] - 0s 6ms/step - loss: 0.3281 - accuracy: 0.8622 - val_loss: 0.4995 - val_accuracy: 0.8134\n",
      "Epoch 62/150\n",
      "30/30 [==============================] - 0s 6ms/step - loss: 0.3276 - accuracy: 0.8622 - val_loss: 0.4991 - val_accuracy: 0.8060\n",
      "Epoch 63/150\n",
      "30/30 [==============================] - 0s 6ms/step - loss: 0.3272 - accuracy: 0.8622 - val_loss: 0.4996 - val_accuracy: 0.8134\n",
      "Epoch 64/150\n",
      "30/30 [==============================] - 0s 6ms/step - loss: 0.3269 - accuracy: 0.8622 - val_loss: 0.4998 - val_accuracy: 0.8134\n",
      "Epoch 65/150\n",
      "30/30 [==============================] - 0s 7ms/step - loss: 0.3263 - accuracy: 0.8632 - val_loss: 0.5002 - val_accuracy: 0.8134\n",
      "Epoch 66/150\n",
      "30/30 [==============================] - 0s 6ms/step - loss: 0.3262 - accuracy: 0.8622 - val_loss: 0.5003 - val_accuracy: 0.8134\n",
      "Epoch 67/150\n",
      "30/30 [==============================] - 0s 7ms/step - loss: 0.3256 - accuracy: 0.8622 - val_loss: 0.5011 - val_accuracy: 0.8134\n",
      "Epoch 68/150\n",
      "30/30 [==============================] - 0s 6ms/step - loss: 0.3254 - accuracy: 0.8622 - val_loss: 0.5009 - val_accuracy: 0.8134\n",
      "Epoch 69/150\n",
      "30/30 [==============================] - 0s 7ms/step - loss: 0.3249 - accuracy: 0.8632 - val_loss: 0.5013 - val_accuracy: 0.8134\n",
      "Epoch 70/150\n",
      "30/30 [==============================] - 0s 6ms/step - loss: 0.3247 - accuracy: 0.8622 - val_loss: 0.5010 - val_accuracy: 0.8134\n",
      "Epoch 71/150\n",
      "30/30 [==============================] - 0s 6ms/step - loss: 0.3242 - accuracy: 0.8632 - val_loss: 0.5013 - val_accuracy: 0.8134\n",
      "Epoch 72/150\n",
      "30/30 [==============================] - 0s 6ms/step - loss: 0.3241 - accuracy: 0.8632 - val_loss: 0.5007 - val_accuracy: 0.8134\n",
      "Epoch 73/150\n",
      "30/30 [==============================] - 0s 6ms/step - loss: 0.3234 - accuracy: 0.8632 - val_loss: 0.5019 - val_accuracy: 0.8134\n",
      "Epoch 74/150\n",
      "30/30 [==============================] - 0s 6ms/step - loss: 0.3235 - accuracy: 0.8632 - val_loss: 0.5015 - val_accuracy: 0.8134\n",
      "Epoch 75/150\n",
      "30/30 [==============================] - 0s 6ms/step - loss: 0.3229 - accuracy: 0.8643 - val_loss: 0.5016 - val_accuracy: 0.8134\n",
      "Epoch 76/150\n",
      "30/30 [==============================] - 0s 6ms/step - loss: 0.3224 - accuracy: 0.8643 - val_loss: 0.5014 - val_accuracy: 0.8060\n",
      "Epoch 77/150\n",
      "30/30 [==============================] - 0s 6ms/step - loss: 0.3222 - accuracy: 0.8643 - val_loss: 0.5019 - val_accuracy: 0.8060\n",
      "Epoch 78/150\n",
      "30/30 [==============================] - 0s 6ms/step - loss: 0.3220 - accuracy: 0.8643 - val_loss: 0.5017 - val_accuracy: 0.8060\n",
      "Epoch 79/150\n",
      "30/30 [==============================] - 0s 7ms/step - loss: 0.3214 - accuracy: 0.8643 - val_loss: 0.5026 - val_accuracy: 0.7985\n",
      "Epoch 80/150\n",
      "30/30 [==============================] - 0s 6ms/step - loss: 0.3211 - accuracy: 0.8643 - val_loss: 0.5024 - val_accuracy: 0.7985\n",
      "Epoch 81/150\n",
      "30/30 [==============================] - 0s 7ms/step - loss: 0.3207 - accuracy: 0.8643 - val_loss: 0.5028 - val_accuracy: 0.7985\n",
      "Epoch 82/150\n",
      "30/30 [==============================] - 0s 6ms/step - loss: 0.3204 - accuracy: 0.8643 - val_loss: 0.5029 - val_accuracy: 0.7985\n",
      "Epoch 83/150\n",
      "30/30 [==============================] - 0s 6ms/step - loss: 0.3199 - accuracy: 0.8622 - val_loss: 0.5031 - val_accuracy: 0.7985\n",
      "Epoch 84/150\n",
      "30/30 [==============================] - 0s 6ms/step - loss: 0.3197 - accuracy: 0.8632 - val_loss: 0.5035 - val_accuracy: 0.7985\n",
      "Epoch 85/150\n",
      "30/30 [==============================] - 0s 6ms/step - loss: 0.3193 - accuracy: 0.8622 - val_loss: 0.5031 - val_accuracy: 0.7985\n",
      "Epoch 86/150\n",
      "30/30 [==============================] - 0s 6ms/step - loss: 0.3191 - accuracy: 0.8643 - val_loss: 0.5038 - val_accuracy: 0.7985\n",
      "Epoch 87/150\n",
      "30/30 [==============================] - 0s 6ms/step - loss: 0.3185 - accuracy: 0.8632 - val_loss: 0.5038 - val_accuracy: 0.7985\n",
      "Epoch 88/150\n",
      "30/30 [==============================] - 0s 6ms/step - loss: 0.3184 - accuracy: 0.8643 - val_loss: 0.5046 - val_accuracy: 0.7985\n",
      "Epoch 89/150\n",
      "30/30 [==============================] - 0s 6ms/step - loss: 0.3178 - accuracy: 0.8643 - val_loss: 0.5042 - val_accuracy: 0.7985\n",
      "Epoch 90/150\n",
      "30/30 [==============================] - 0s 6ms/step - loss: 0.3177 - accuracy: 0.8643 - val_loss: 0.5048 - val_accuracy: 0.7985\n",
      "Epoch 91/150\n",
      "30/30 [==============================] - 0s 6ms/step - loss: 0.3173 - accuracy: 0.8643 - val_loss: 0.5054 - val_accuracy: 0.7985\n",
      "Epoch 92/150\n",
      "30/30 [==============================] - 0s 6ms/step - loss: 0.3170 - accuracy: 0.8643 - val_loss: 0.5053 - val_accuracy: 0.7985\n",
      "Epoch 93/150\n",
      "30/30 [==============================] - 0s 6ms/step - loss: 0.3165 - accuracy: 0.8643 - val_loss: 0.5058 - val_accuracy: 0.7985\n",
      "Epoch 94/150\n",
      "30/30 [==============================] - 0s 6ms/step - loss: 0.3164 - accuracy: 0.8643 - val_loss: 0.5059 - val_accuracy: 0.7985\n",
      "Epoch 95/150\n",
      "30/30 [==============================] - 0s 6ms/step - loss: 0.3157 - accuracy: 0.8643 - val_loss: 0.5061 - val_accuracy: 0.7985\n",
      "Epoch 96/150\n",
      "30/30 [==============================] - 0s 6ms/step - loss: 0.3158 - accuracy: 0.8643 - val_loss: 0.5066 - val_accuracy: 0.7985\n",
      "Epoch 97/150\n",
      "30/30 [==============================] - 0s 6ms/step - loss: 0.3151 - accuracy: 0.8643 - val_loss: 0.5066 - val_accuracy: 0.7985\n",
      "Epoch 98/150\n",
      "30/30 [==============================] - 0s 6ms/step - loss: 0.3151 - accuracy: 0.8643 - val_loss: 0.5068 - val_accuracy: 0.7985\n",
      "Epoch 99/150\n",
      "30/30 [==============================] - 0s 6ms/step - loss: 0.3145 - accuracy: 0.8654 - val_loss: 0.5069 - val_accuracy: 0.7985\n",
      "Epoch 100/150\n",
      "30/30 [==============================] - 0s 6ms/step - loss: 0.3145 - accuracy: 0.8643 - val_loss: 0.5068 - val_accuracy: 0.7985\n",
      "Epoch 101/150\n",
      "30/30 [==============================] - 0s 6ms/step - loss: 0.3140 - accuracy: 0.8654 - val_loss: 0.5073 - val_accuracy: 0.7985\n",
      "Epoch 102/150\n",
      "30/30 [==============================] - 0s 6ms/step - loss: 0.3138 - accuracy: 0.8654 - val_loss: 0.5077 - val_accuracy: 0.7985\n",
      "Epoch 103/150\n",
      "30/30 [==============================] - 0s 7ms/step - loss: 0.3135 - accuracy: 0.8675 - val_loss: 0.5075 - val_accuracy: 0.7985\n",
      "Epoch 104/150\n",
      "30/30 [==============================] - 0s 6ms/step - loss: 0.3133 - accuracy: 0.8675 - val_loss: 0.5080 - val_accuracy: 0.8060\n",
      "Epoch 105/150\n",
      "30/30 [==============================] - 0s 6ms/step - loss: 0.3127 - accuracy: 0.8675 - val_loss: 0.5084 - val_accuracy: 0.8060\n",
      "Epoch 106/150\n",
      "30/30 [==============================] - 0s 6ms/step - loss: 0.3127 - accuracy: 0.8675 - val_loss: 0.5082 - val_accuracy: 0.7985\n",
      "Epoch 107/150\n",
      "30/30 [==============================] - 0s 6ms/step - loss: 0.3121 - accuracy: 0.8675 - val_loss: 0.5084 - val_accuracy: 0.8060\n",
      "Epoch 108/150\n",
      "30/30 [==============================] - 0s 7ms/step - loss: 0.3121 - accuracy: 0.8675 - val_loss: 0.5084 - val_accuracy: 0.8060\n",
      "Epoch 109/150\n",
      "30/30 [==============================] - 0s 6ms/step - loss: 0.3116 - accuracy: 0.8675 - val_loss: 0.5089 - val_accuracy: 0.8060\n",
      "Epoch 110/150\n",
      "30/30 [==============================] - 0s 6ms/step - loss: 0.3114 - accuracy: 0.8675 - val_loss: 0.5090 - val_accuracy: 0.8060\n",
      "Epoch 111/150\n",
      "30/30 [==============================] - 0s 6ms/step - loss: 0.3112 - accuracy: 0.8675 - val_loss: 0.5093 - val_accuracy: 0.8060\n",
      "Epoch 112/150\n",
      "30/30 [==============================] - 0s 6ms/step - loss: 0.3105 - accuracy: 0.8675 - val_loss: 0.5091 - val_accuracy: 0.8060\n",
      "Epoch 113/150\n",
      "30/30 [==============================] - 0s 6ms/step - loss: 0.3106 - accuracy: 0.8697 - val_loss: 0.5095 - val_accuracy: 0.8060\n",
      "Epoch 114/150\n",
      "30/30 [==============================] - 0s 6ms/step - loss: 0.3102 - accuracy: 0.8697 - val_loss: 0.5096 - val_accuracy: 0.8060\n",
      "Epoch 115/150\n",
      "30/30 [==============================] - 0s 7ms/step - loss: 0.3098 - accuracy: 0.8697 - val_loss: 0.5096 - val_accuracy: 0.8060\n",
      "Epoch 116/150\n",
      "30/30 [==============================] - 0s 6ms/step - loss: 0.3095 - accuracy: 0.8686 - val_loss: 0.5099 - val_accuracy: 0.8060\n",
      "Epoch 117/150\n",
      "30/30 [==============================] - 0s 6ms/step - loss: 0.3092 - accuracy: 0.8686 - val_loss: 0.5097 - val_accuracy: 0.8060\n",
      "Epoch 118/150\n",
      "30/30 [==============================] - 0s 6ms/step - loss: 0.3089 - accuracy: 0.8697 - val_loss: 0.5103 - val_accuracy: 0.8060\n",
      "Epoch 119/150\n",
      "30/30 [==============================] - 0s 6ms/step - loss: 0.3086 - accuracy: 0.8686 - val_loss: 0.5104 - val_accuracy: 0.8060\n",
      "Epoch 120/150\n",
      "30/30 [==============================] - 0s 6ms/step - loss: 0.3082 - accuracy: 0.8686 - val_loss: 0.5108 - val_accuracy: 0.8060\n",
      "Epoch 121/150\n",
      "30/30 [==============================] - 0s 7ms/step - loss: 0.3079 - accuracy: 0.8686 - val_loss: 0.5107 - val_accuracy: 0.8060\n",
      "Epoch 122/150\n",
      "30/30 [==============================] - 0s 6ms/step - loss: 0.3078 - accuracy: 0.8686 - val_loss: 0.5105 - val_accuracy: 0.8060\n",
      "Epoch 123/150\n",
      "30/30 [==============================] - 0s 7ms/step - loss: 0.3072 - accuracy: 0.8686 - val_loss: 0.5110 - val_accuracy: 0.7985\n",
      "Epoch 124/150\n",
      "30/30 [==============================] - 0s 6ms/step - loss: 0.3072 - accuracy: 0.8686 - val_loss: 0.5106 - val_accuracy: 0.7910\n",
      "Epoch 125/150\n",
      "30/30 [==============================] - 0s 6ms/step - loss: 0.3067 - accuracy: 0.8697 - val_loss: 0.5113 - val_accuracy: 0.7910\n",
      "Epoch 126/150\n",
      "30/30 [==============================] - 0s 6ms/step - loss: 0.3066 - accuracy: 0.8686 - val_loss: 0.5112 - val_accuracy: 0.7910\n",
      "Epoch 127/150\n",
      "30/30 [==============================] - 0s 6ms/step - loss: 0.3060 - accuracy: 0.8686 - val_loss: 0.5115 - val_accuracy: 0.7910\n",
      "Epoch 128/150\n",
      "30/30 [==============================] - 0s 6ms/step - loss: 0.3060 - accuracy: 0.8686 - val_loss: 0.5112 - val_accuracy: 0.7910\n",
      "Epoch 129/150\n",
      "30/30 [==============================] - 0s 6ms/step - loss: 0.3055 - accuracy: 0.8697 - val_loss: 0.5121 - val_accuracy: 0.7910\n",
      "Epoch 130/150\n",
      "30/30 [==============================] - 0s 6ms/step - loss: 0.3055 - accuracy: 0.8697 - val_loss: 0.5119 - val_accuracy: 0.7910\n",
      "Epoch 131/150\n",
      "30/30 [==============================] - 0s 7ms/step - loss: 0.3048 - accuracy: 0.8697 - val_loss: 0.5125 - val_accuracy: 0.7910\n",
      "Epoch 132/150\n",
      "30/30 [==============================] - 0s 6ms/step - loss: 0.3047 - accuracy: 0.8697 - val_loss: 0.5119 - val_accuracy: 0.7910\n",
      "Epoch 133/150\n",
      "30/30 [==============================] - 0s 6ms/step - loss: 0.3046 - accuracy: 0.8697 - val_loss: 0.5122 - val_accuracy: 0.7910\n",
      "Epoch 134/150\n",
      "30/30 [==============================] - 0s 6ms/step - loss: 0.3043 - accuracy: 0.8697 - val_loss: 0.5117 - val_accuracy: 0.7910\n",
      "Epoch 135/150\n",
      "30/30 [==============================] - 0s 6ms/step - loss: 0.3036 - accuracy: 0.8686 - val_loss: 0.5127 - val_accuracy: 0.7910\n",
      "Epoch 136/150\n",
      "30/30 [==============================] - 0s 7ms/step - loss: 0.3038 - accuracy: 0.8697 - val_loss: 0.5119 - val_accuracy: 0.7910\n",
      "Epoch 137/150\n",
      "30/30 [==============================] - 0s 6ms/step - loss: 0.3031 - accuracy: 0.8697 - val_loss: 0.5125 - val_accuracy: 0.7910\n",
      "Epoch 138/150\n",
      "30/30 [==============================] - 0s 6ms/step - loss: 0.3030 - accuracy: 0.8707 - val_loss: 0.5121 - val_accuracy: 0.7910\n",
      "Epoch 139/150\n",
      "30/30 [==============================] - 0s 6ms/step - loss: 0.3027 - accuracy: 0.8707 - val_loss: 0.5127 - val_accuracy: 0.7910\n",
      "Epoch 140/150\n",
      "30/30 [==============================] - 0s 7ms/step - loss: 0.3023 - accuracy: 0.8707 - val_loss: 0.5125 - val_accuracy: 0.7910\n",
      "Epoch 141/150\n",
      "30/30 [==============================] - 0s 6ms/step - loss: 0.3019 - accuracy: 0.8718 - val_loss: 0.5129 - val_accuracy: 0.7910\n",
      "Epoch 142/150\n",
      "30/30 [==============================] - 0s 6ms/step - loss: 0.3019 - accuracy: 0.8718 - val_loss: 0.5130 - val_accuracy: 0.7910\n",
      "Epoch 143/150\n",
      "30/30 [==============================] - 0s 6ms/step - loss: 0.3013 - accuracy: 0.8729 - val_loss: 0.5120 - val_accuracy: 0.7985\n",
      "Epoch 144/150\n",
      "30/30 [==============================] - 0s 7ms/step - loss: 0.3011 - accuracy: 0.8718 - val_loss: 0.5129 - val_accuracy: 0.7985\n",
      "Epoch 145/150\n",
      "30/30 [==============================] - 0s 7ms/step - loss: 0.3008 - accuracy: 0.8729 - val_loss: 0.5129 - val_accuracy: 0.7985\n",
      "Epoch 146/150\n",
      "30/30 [==============================] - 0s 6ms/step - loss: 0.3003 - accuracy: 0.8729 - val_loss: 0.5135 - val_accuracy: 0.7985\n",
      "Epoch 147/150\n",
      "30/30 [==============================] - 0s 7ms/step - loss: 0.3001 - accuracy: 0.8739 - val_loss: 0.5127 - val_accuracy: 0.7985\n",
      "Epoch 148/150\n",
      "30/30 [==============================] - 0s 6ms/step - loss: 0.2995 - accuracy: 0.8750 - val_loss: 0.5143 - val_accuracy: 0.8060\n",
      "Epoch 149/150\n",
      "30/30 [==============================] - 0s 6ms/step - loss: 0.2993 - accuracy: 0.8750 - val_loss: 0.5138 - val_accuracy: 0.8060\n",
      "Epoch 150/150\n",
      "30/30 [==============================] - 0s 6ms/step - loss: 0.2991 - accuracy: 0.8739 - val_loss: 0.5147 - val_accuracy: 0.8060\n",
      "INFO:tensorflow:Assets written to: .\\structured_data_classifier\\best_model\\assets\n"
     ]
    },
    {
     "data": {
      "text/plain": [
       "<keras.callbacks.History at 0x1abd3322d10>"
      ]
     },
     "execution_count": 49,
     "metadata": {},
     "output_type": "execute_result"
    }
   ],
   "source": [
    "'''\n",
    "data_2 = pd.read_csv(\"dataset/titanic/train.csv\")\n",
    "features = data_2.drop(columns=['Survived'])\n",
    "target = data_2['Survived']\n",
    "\n",
    "features_train, features_test, target_train, target_test = train_test_split(features, target, test_size=0.15, random_state=12345)\n",
    "'''\n",
    "\n",
    "print(features_train.shape)\n",
    "print(features_test.shape)\n",
    "\n",
    "clf = ak.StructuredDataClassifier(overwrite=True, max_trials=20)\n",
    "clf.fit(features_train_samp, target_train_samp, epochs = 150, validation_data=(features_test, target_test))"
   ]
  },
  {
   "cell_type": "code",
   "execution_count": 51,
   "metadata": {},
   "outputs": [
    {
     "name": "stdout",
     "output_type": "stream",
     "text": [
      "Model: \"model\"\n",
      "_________________________________________________________________\n",
      " Layer (type)                Output Shape              Param #   \n",
      "=================================================================\n",
      " input_1 (InputLayer)        [(None, 9)]               0         \n",
      "                                                                 \n",
      " multi_category_encoding (Mu  (None, 9)                0         \n",
      " ltiCategoryEncoding)                                            \n",
      "                                                                 \n",
      " normalization (Normalizatio  (None, 9)                19        \n",
      " n)                                                              \n",
      "                                                                 \n",
      " dense (Dense)               (None, 32)                320       \n",
      "                                                                 \n",
      " re_lu (ReLU)                (None, 32)                0         \n",
      "                                                                 \n",
      " dense_1 (Dense)             (None, 32)                1056      \n",
      "                                                                 \n",
      " re_lu_1 (ReLU)              (None, 32)                0         \n",
      "                                                                 \n",
      " dense_2 (Dense)             (None, 1)                 33        \n",
      "                                                                 \n",
      " classification_head_1 (Acti  (None, 1)                0         \n",
      " vation)                                                         \n",
      "                                                                 \n",
      "=================================================================\n",
      "Total params: 1,428\n",
      "Trainable params: 1,409\n",
      "Non-trainable params: 19\n",
      "_________________________________________________________________\n",
      "5/5 [==============================] - 0s 5ms/step - loss: 0.5147 - accuracy: 0.8060\n",
      "[0.5146670341491699, 0.8059701323509216]\n"
     ]
    },
    {
     "data": {
      "text/plain": [
       "'\\ntry:\\n    clf.save(\"model_autokeras\", save_format=\"tf\")\\nexcept Exception:\\n    clf.save(\"model_autokeras.h5\")\\n'"
      ]
     },
     "execution_count": 51,
     "metadata": {},
     "output_type": "execute_result"
    }
   ],
   "source": [
    "model = clf.export_model()\n",
    "model.summary()\n",
    "print(clf.evaluate(features_test, target_test))\n",
    "\n",
    "'''\n",
    "try:\n",
    "    clf.save(\"model_autokeras\", save_format=\"tf\")\n",
    "except Exception:\n",
    "    clf.save(\"model_autokeras.h5\")\n",
    "'''\n"
   ]
  },
  {
   "attachments": {},
   "cell_type": "markdown",
   "metadata": {},
   "source": [
    "##### Заметка\n",
    "Встроенные средства обработки данных хуже, чем обработка вручную. Модель в конечном итоге построилась более \"глубокой\", чем с предварительной обработкой\n"
   ]
  },
  {
   "attachments": {},
   "cell_type": "markdown",
   "metadata": {},
   "source": [
    "##### Пробуем собственную архитектуру"
   ]
  },
  {
   "cell_type": "code",
   "execution_count": 47,
   "metadata": {},
   "outputs": [
    {
     "name": "stdout",
     "output_type": "stream",
     "text": [
      "Model: \"sequential_1\"\n",
      "_________________________________________________________________\n",
      " Layer (type)                Output Shape              Param #   \n",
      "=================================================================\n",
      " dense_7 (Dense)             (None, 9)                 90        \n",
      "                                                                 \n",
      " dense_8 (Dense)             (None, 32)                320       \n",
      "                                                                 \n",
      " dropout_4 (Dropout)         (None, 32)                0         \n",
      "                                                                 \n",
      " batch_normalization_2 (Batc  (None, 32)               128       \n",
      " hNormalization)                                                 \n",
      "                                                                 \n",
      " dense_9 (Dense)             (None, 64)                2112      \n",
      "                                                                 \n",
      " dropout_5 (Dropout)         (None, 64)                0         \n",
      "                                                                 \n",
      " batch_normalization_3 (Batc  (None, 64)               256       \n",
      " hNormalization)                                                 \n",
      "                                                                 \n",
      " dense_10 (Dense)            (None, 1)                 65        \n",
      "                                                                 \n",
      "=================================================================\n",
      "Total params: 2,971\n",
      "Trainable params: 2,779\n",
      "Non-trainable params: 192\n",
      "_________________________________________________________________\n"
     ]
    }
   ],
   "source": [
    "model = Sequential()\n",
    "model.add(Dense(features_train.shape[1], input_shape = (features_train.shape[1],), activation = 'relu'))\n",
    "\n",
    "model.add(Dense(32, activation = 'relu'))\n",
    "model.add(Dropout(0.2))\n",
    "model.add(BatchNormalization())\n",
    "\n",
    "\n",
    "model.add(Dense(64, activation = 'relu'))\n",
    "model.add(Dropout(0.2))\n",
    "model.add(BatchNormalization())\n",
    "\n",
    "model.add(Dense(1, activation = 'sigmoid'))\n",
    "optimizer = Adam(learning_rate = 0.001)\n",
    "\n",
    "\n",
    "model.compile(loss ='binary_crossentropy', optimizer = optimizer, metrics = ['BinaryAccuracy', 'AUC'])\n",
    "model.summary()"
   ]
  },
  {
   "cell_type": "code",
   "execution_count": 48,
   "metadata": {},
   "outputs": [
    {
     "name": "stdout",
     "output_type": "stream",
     "text": [
      "Epoch 1/1000\n",
      "30/30 - 1s - loss: 0.7555 - binary_accuracy: 0.5630 - auc: 0.5872 - val_loss: 0.6229 - val_binary_accuracy: 0.6866 - val_auc: 0.7186 - 1s/epoch - 36ms/step\n",
      "Epoch 2/1000\n",
      "30/30 - 0s - loss: 0.6816 - binary_accuracy: 0.6271 - auc: 0.6836 - val_loss: 0.6222 - val_binary_accuracy: 0.6866 - val_auc: 0.7335 - 231ms/epoch - 8ms/step\n",
      "Epoch 3/1000\n",
      "30/30 - 0s - loss: 0.6831 - binary_accuracy: 0.6197 - auc: 0.6682 - val_loss: 0.6152 - val_binary_accuracy: 0.6940 - val_auc: 0.7460 - 207ms/epoch - 7ms/step\n",
      "Epoch 4/1000\n",
      "30/30 - 0s - loss: 0.6470 - binary_accuracy: 0.6603 - auc: 0.7132 - val_loss: 0.6352 - val_binary_accuracy: 0.7015 - val_auc: 0.7451 - 216ms/epoch - 7ms/step\n",
      "Epoch 5/1000\n",
      "30/30 - 0s - loss: 0.6586 - binary_accuracy: 0.6485 - auc: 0.7005 - val_loss: 0.5982 - val_binary_accuracy: 0.6642 - val_auc: 0.7444 - 204ms/epoch - 7ms/step\n",
      "Epoch 6/1000\n",
      "30/30 - 0s - loss: 0.5986 - binary_accuracy: 0.7105 - auc: 0.7534 - val_loss: 0.6116 - val_binary_accuracy: 0.7239 - val_auc: 0.7420 - 206ms/epoch - 7ms/step\n",
      "Epoch 7/1000\n",
      "30/30 - 0s - loss: 0.5799 - binary_accuracy: 0.7158 - auc: 0.7643 - val_loss: 0.5873 - val_binary_accuracy: 0.6791 - val_auc: 0.7532 - 214ms/epoch - 7ms/step\n",
      "Epoch 8/1000\n",
      "30/30 - 0s - loss: 0.5746 - binary_accuracy: 0.7169 - auc: 0.7674 - val_loss: 0.5898 - val_binary_accuracy: 0.7164 - val_auc: 0.7597 - 205ms/epoch - 7ms/step\n",
      "Epoch 9/1000\n",
      "30/30 - 0s - loss: 0.5538 - binary_accuracy: 0.7382 - auc: 0.7910 - val_loss: 0.6015 - val_binary_accuracy: 0.7313 - val_auc: 0.7840 - 222ms/epoch - 7ms/step\n",
      "Epoch 10/1000\n",
      "30/30 - 0s - loss: 0.6015 - binary_accuracy: 0.7190 - auc: 0.7529 - val_loss: 0.5886 - val_binary_accuracy: 0.7239 - val_auc: 0.7829 - 209ms/epoch - 7ms/step\n",
      "Epoch 11/1000\n",
      "30/30 - 0s - loss: 0.5784 - binary_accuracy: 0.7169 - auc: 0.7704 - val_loss: 0.5762 - val_binary_accuracy: 0.7313 - val_auc: 0.7976 - 194ms/epoch - 6ms/step\n",
      "Epoch 12/1000\n",
      "30/30 - 0s - loss: 0.5465 - binary_accuracy: 0.7585 - auc: 0.7921 - val_loss: 0.6091 - val_binary_accuracy: 0.6940 - val_auc: 0.8014 - 210ms/epoch - 7ms/step\n",
      "Epoch 13/1000\n",
      "30/30 - 0s - loss: 0.5546 - binary_accuracy: 0.7372 - auc: 0.7926 - val_loss: 0.5776 - val_binary_accuracy: 0.7463 - val_auc: 0.7922 - 235ms/epoch - 8ms/step\n",
      "Epoch 14/1000\n",
      "30/30 - 0s - loss: 0.5420 - binary_accuracy: 0.7393 - auc: 0.7993 - val_loss: 0.5665 - val_binary_accuracy: 0.7537 - val_auc: 0.7941 - 237ms/epoch - 8ms/step\n",
      "Epoch 15/1000\n",
      "30/30 - 0s - loss: 0.5550 - binary_accuracy: 0.7436 - auc: 0.7976 - val_loss: 0.5796 - val_binary_accuracy: 0.7463 - val_auc: 0.7879 - 236ms/epoch - 8ms/step\n",
      "Epoch 16/1000\n",
      "30/30 - 0s - loss: 0.5282 - binary_accuracy: 0.7564 - auc: 0.8160 - val_loss: 0.5199 - val_binary_accuracy: 0.7761 - val_auc: 0.8007 - 243ms/epoch - 8ms/step\n",
      "Epoch 17/1000\n",
      "30/30 - 0s - loss: 0.5254 - binary_accuracy: 0.7650 - auc: 0.8116 - val_loss: 0.5090 - val_binary_accuracy: 0.7761 - val_auc: 0.8050 - 235ms/epoch - 8ms/step\n",
      "Epoch 18/1000\n",
      "30/30 - 0s - loss: 0.5390 - binary_accuracy: 0.7511 - auc: 0.8068 - val_loss: 0.5112 - val_binary_accuracy: 0.7910 - val_auc: 0.8017 - 235ms/epoch - 8ms/step\n",
      "Epoch 19/1000\n",
      "30/30 - 0s - loss: 0.5189 - binary_accuracy: 0.7607 - auc: 0.8198 - val_loss: 0.4995 - val_binary_accuracy: 0.7910 - val_auc: 0.8112 - 208ms/epoch - 7ms/step\n",
      "Epoch 20/1000\n",
      "30/30 - 0s - loss: 0.5196 - binary_accuracy: 0.7575 - auc: 0.8255 - val_loss: 0.5170 - val_binary_accuracy: 0.7612 - val_auc: 0.8118 - 214ms/epoch - 7ms/step\n",
      "Epoch 21/1000\n",
      "30/30 - 0s - loss: 0.5150 - binary_accuracy: 0.7756 - auc: 0.8235 - val_loss: 0.5400 - val_binary_accuracy: 0.7687 - val_auc: 0.8029 - 213ms/epoch - 7ms/step\n",
      "Epoch 22/1000\n",
      "30/30 - 0s - loss: 0.5170 - binary_accuracy: 0.7671 - auc: 0.8249 - val_loss: 0.5172 - val_binary_accuracy: 0.7761 - val_auc: 0.8110 - 227ms/epoch - 8ms/step\n",
      "Epoch 23/1000\n",
      "30/30 - 0s - loss: 0.5326 - binary_accuracy: 0.7511 - auc: 0.8147 - val_loss: 0.5370 - val_binary_accuracy: 0.7612 - val_auc: 0.8149 - 192ms/epoch - 6ms/step\n",
      "Epoch 24/1000\n",
      "30/30 - 0s - loss: 0.5124 - binary_accuracy: 0.7874 - auc: 0.8289 - val_loss: 0.5523 - val_binary_accuracy: 0.7761 - val_auc: 0.8119 - 187ms/epoch - 6ms/step\n",
      "Epoch 25/1000\n",
      "30/30 - 0s - loss: 0.4962 - binary_accuracy: 0.7874 - auc: 0.8408 - val_loss: 0.5091 - val_binary_accuracy: 0.7910 - val_auc: 0.8145 - 196ms/epoch - 7ms/step\n",
      "Epoch 26/1000\n",
      "30/30 - 0s - loss: 0.4837 - binary_accuracy: 0.7799 - auc: 0.8494 - val_loss: 0.4923 - val_binary_accuracy: 0.7910 - val_auc: 0.8225 - 217ms/epoch - 7ms/step\n",
      "Epoch 27/1000\n",
      "30/30 - 0s - loss: 0.4891 - binary_accuracy: 0.7863 - auc: 0.8447 - val_loss: 0.5434 - val_binary_accuracy: 0.7537 - val_auc: 0.8048 - 188ms/epoch - 6ms/step\n",
      "Epoch 28/1000\n",
      "30/30 - 0s - loss: 0.4787 - binary_accuracy: 0.7927 - auc: 0.8492 - val_loss: 0.5336 - val_binary_accuracy: 0.7687 - val_auc: 0.7895 - 192ms/epoch - 6ms/step\n",
      "Epoch 29/1000\n",
      "30/30 - 0s - loss: 0.4876 - binary_accuracy: 0.8066 - auc: 0.8480 - val_loss: 0.5520 - val_binary_accuracy: 0.7761 - val_auc: 0.8050 - 199ms/epoch - 7ms/step\n",
      "Epoch 30/1000\n",
      "30/30 - 0s - loss: 0.4837 - binary_accuracy: 0.7906 - auc: 0.8500 - val_loss: 0.5467 - val_binary_accuracy: 0.7761 - val_auc: 0.8153 - 227ms/epoch - 8ms/step\n",
      "Epoch 31/1000\n",
      "30/30 - 0s - loss: 0.4968 - binary_accuracy: 0.7821 - auc: 0.8412 - val_loss: 0.5339 - val_binary_accuracy: 0.7537 - val_auc: 0.8118 - 188ms/epoch - 6ms/step\n",
      "Epoch 32/1000\n",
      "30/30 - 0s - loss: 0.4817 - binary_accuracy: 0.7853 - auc: 0.8520 - val_loss: 0.5366 - val_binary_accuracy: 0.7761 - val_auc: 0.8212 - 205ms/epoch - 7ms/step\n",
      "Epoch 33/1000\n",
      "30/30 - 0s - loss: 0.4770 - binary_accuracy: 0.7906 - auc: 0.8521 - val_loss: 0.5354 - val_binary_accuracy: 0.7985 - val_auc: 0.8184 - 201ms/epoch - 7ms/step\n",
      "Epoch 34/1000\n",
      "30/30 - 0s - loss: 0.4962 - binary_accuracy: 0.7853 - auc: 0.8429 - val_loss: 0.5348 - val_binary_accuracy: 0.7836 - val_auc: 0.8156 - 187ms/epoch - 6ms/step\n",
      "Epoch 35/1000\n",
      "30/30 - 0s - loss: 0.4537 - binary_accuracy: 0.8141 - auc: 0.8687 - val_loss: 0.5263 - val_binary_accuracy: 0.7687 - val_auc: 0.8127 - 197ms/epoch - 7ms/step\n",
      "Epoch 36/1000\n",
      "30/30 - 0s - loss: 0.4605 - binary_accuracy: 0.8024 - auc: 0.8663 - val_loss: 0.5220 - val_binary_accuracy: 0.7910 - val_auc: 0.8084 - 185ms/epoch - 6ms/step\n",
      "Epoch 37/1000\n",
      "30/30 - 0s - loss: 0.4664 - binary_accuracy: 0.8120 - auc: 0.8618 - val_loss: 0.5243 - val_binary_accuracy: 0.7910 - val_auc: 0.8099 - 203ms/epoch - 7ms/step\n",
      "Epoch 38/1000\n",
      "30/30 - 0s - loss: 0.4562 - binary_accuracy: 0.8002 - auc: 0.8668 - val_loss: 0.5556 - val_binary_accuracy: 0.7761 - val_auc: 0.8110 - 199ms/epoch - 7ms/step\n",
      "Epoch 39/1000\n",
      "30/30 - 0s - loss: 0.4596 - binary_accuracy: 0.8098 - auc: 0.8650 - val_loss: 0.5119 - val_binary_accuracy: 0.7687 - val_auc: 0.8161 - 189ms/epoch - 6ms/step\n",
      "Epoch 40/1000\n",
      "30/30 - 0s - loss: 0.4612 - binary_accuracy: 0.7991 - auc: 0.8658 - val_loss: 0.4998 - val_binary_accuracy: 0.7985 - val_auc: 0.8067 - 190ms/epoch - 6ms/step\n",
      "Epoch 41/1000\n",
      "30/30 - 0s - loss: 0.4439 - binary_accuracy: 0.8173 - auc: 0.8745 - val_loss: 0.5402 - val_binary_accuracy: 0.7836 - val_auc: 0.8109 - 192ms/epoch - 6ms/step\n",
      "Epoch 42/1000\n",
      "30/30 - 0s - loss: 0.4548 - binary_accuracy: 0.8013 - auc: 0.8719 - val_loss: 0.5024 - val_binary_accuracy: 0.7761 - val_auc: 0.7998 - 203ms/epoch - 7ms/step\n",
      "Epoch 43/1000\n",
      "30/30 - 0s - loss: 0.4624 - binary_accuracy: 0.8002 - auc: 0.8630 - val_loss: 0.5038 - val_binary_accuracy: 0.7761 - val_auc: 0.8130 - 196ms/epoch - 7ms/step\n",
      "Epoch 44/1000\n",
      "30/30 - 0s - loss: 0.4626 - binary_accuracy: 0.7970 - auc: 0.8634 - val_loss: 0.5051 - val_binary_accuracy: 0.7836 - val_auc: 0.8170 - 198ms/epoch - 7ms/step\n",
      "Epoch 45/1000\n",
      "30/30 - 0s - loss: 0.4526 - binary_accuracy: 0.8024 - auc: 0.8711 - val_loss: 0.5156 - val_binary_accuracy: 0.7761 - val_auc: 0.8233 - 200ms/epoch - 7ms/step\n",
      "Epoch 46/1000\n",
      "30/30 - 0s - loss: 0.4560 - binary_accuracy: 0.8098 - auc: 0.8668 - val_loss: 0.5173 - val_binary_accuracy: 0.7612 - val_auc: 0.8159 - 199ms/epoch - 7ms/step\n",
      "Epoch 47/1000\n",
      "30/30 - 0s - loss: 0.4737 - binary_accuracy: 0.7991 - auc: 0.8533 - val_loss: 0.5140 - val_binary_accuracy: 0.7761 - val_auc: 0.8018 - 202ms/epoch - 7ms/step\n",
      "Epoch 48/1000\n",
      "30/30 - 0s - loss: 0.4567 - binary_accuracy: 0.8088 - auc: 0.8655 - val_loss: 0.5041 - val_binary_accuracy: 0.7761 - val_auc: 0.8176 - 200ms/epoch - 7ms/step\n",
      "Epoch 49/1000\n",
      "30/30 - 0s - loss: 0.4541 - binary_accuracy: 0.8013 - auc: 0.8680 - val_loss: 0.5272 - val_binary_accuracy: 0.7687 - val_auc: 0.8204 - 189ms/epoch - 6ms/step\n",
      "Epoch 50/1000\n",
      "30/30 - 0s - loss: 0.4365 - binary_accuracy: 0.8162 - auc: 0.8793 - val_loss: 0.5234 - val_binary_accuracy: 0.7537 - val_auc: 0.8118 - 201ms/epoch - 7ms/step\n",
      "Epoch 51/1000\n",
      "30/30 - 0s - loss: 0.4416 - binary_accuracy: 0.8120 - auc: 0.8753 - val_loss: 0.5235 - val_binary_accuracy: 0.7836 - val_auc: 0.7732 - 204ms/epoch - 7ms/step\n",
      "Epoch 52/1000\n",
      "30/30 - 0s - loss: 0.4444 - binary_accuracy: 0.8098 - auc: 0.8744 - val_loss: 0.5302 - val_binary_accuracy: 0.7687 - val_auc: 0.8217 - 203ms/epoch - 7ms/step\n",
      "Epoch 53/1000\n",
      "30/30 - 0s - loss: 0.4403 - binary_accuracy: 0.8130 - auc: 0.8769 - val_loss: 0.5204 - val_binary_accuracy: 0.7463 - val_auc: 0.8161 - 211ms/epoch - 7ms/step\n"
     ]
    },
    {
     "data": {
      "image/png": "[encoded data removed]",
      "text/plain": [
       "<Figure size 640x480 with 1 Axes>"
      ]
     },
     "metadata": {},
     "output_type": "display_data"
    },
    {
     "data": {
      "image/png": "[encoded data removed]",
      "text/plain": [
       "<Figure size 640x480 with 1 Axes>"
      ]
     },
     "metadata": {},
     "output_type": "display_data"
    },
    {
     "name": "stdout",
     "output_type": "stream",
     "text": [
      "CPU times: total: 2.53 s\n",
      "Wall time: 12.4 s\n"
     ]
    }
   ],
   "source": [
    "%%time\n",
    "callback = tf.keras.callbacks.EarlyStopping(monitor='val_binary_accuracy', patience=20, mode='max', min_delta=0.0001, restore_best_weights = True)\n",
    "\n",
    "history = model.fit(features_train_samp, target_train_samp, verbose = 2, batch_size = 8, epochs = 1000, \n",
    "    validation_data=(features_test, target_test), callbacks=[callback])\n",
    "\n",
    "\n",
    "visuall(history, 'loss')\n",
    "visuall(history, 'binary_accuracy')"
   ]
  },
  {
   "cell_type": "code",
   "execution_count": 43,
   "metadata": {},
   "outputs": [
    {
     "data": {
      "text/plain": [
       "dict_keys(['loss', 'binary_accuracy', 'val_loss', 'val_binary_accuracy'])"
      ]
     },
     "execution_count": 43,
     "metadata": {},
     "output_type": "execute_result"
    }
   ],
   "source": [
    "history.history.keys()"
   ]
  },
  {
   "attachments": {},
   "cell_type": "markdown",
   "metadata": {},
   "source": [
    "## Предварительные результаты\n",
    "1. Техника upsample помогла увеличить точность на валидации\n",
    "2. Необходимо разработать алгоритм подбора архитектуры. Для начала сделать подбор количества нейронов в полу готовой архитектуре. Результат сравнивать по модели, которую нашёл алгоритм AutoKeras\n",
    "3. Для поиска архитектуры можно использовать AutoTuner от Keras.  "
   ]
  },
  {
   "attachments": {},
   "cell_type": "markdown",
   "metadata": {},
   "source": []
  }
 ],
 "metadata": {
  "kernelspec": {
   "display_name": ".venv",
   "language": "python",
   "name": "python3"
  },
  "language_info": {
   "codemirror_mode": {
    "name": "ipython",
    "version": 3
   },
   "file_extension": ".py",
   "mimetype": "text/x-python",
   "name": "python",
   "nbconvert_exporter": "python",
   "pygments_lexer": "ipython3",
   "version": "3.10.5"
  },
  "orig_nbformat": 4
 },
 "nbformat": 4,
 "nbformat_minor": 2
}
